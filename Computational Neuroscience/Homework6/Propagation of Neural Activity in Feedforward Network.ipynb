{
 "cells": [
  {
   "cell_type": "code",
   "execution_count": null,
   "metadata": {
    "ExecuteTime": {
     "start_time": "2016-12-18T15:17:19.923Z"
    },
    "collapsed": false
   },
   "outputs": [],
   "source": [
    "using Units, Plots, Interact, AutoGrad\n",
    "gr()\n",
    "\n",
    "# some constants\n",
    "τ = 10ms\n",
    "τs = 5ms\n",
    "N = 1000\n",
    "I0 = 0.8\n",
    "\n",
    "# IF cureve\n",
    "rate(I) = I <= 1.0 ? 0.0 : -1 / (τ * log(1 - 1.0/I))\n",
    "rate′(I) = I <= 1.0 ? 0.0 : 1 / (τ * log(1 - 1.0/I)^2 * (I^2 - I))\n",
    "# recursive function def\n",
    "forward(f, J, n) = n > 1 ? forward(forward(f, J, n-1), J, 1) : rate(I0 + J*N*f)"
   ]
  },
  {
   "cell_type": "code",
   "execution_count": null,
   "metadata": {
    "ExecuteTime": {
     "start_time": "2016-12-18T15:16:12.606Z"
    },
    "collapsed": false
   },
   "outputs": [],
   "source": [
    "@manipulate for K = slider(1:30, label=\"K\", value=1), J = (0.06:0.01:0.1)/10\n",
    "f1 = (0:1:1000)Hz\n",
    "f2 = [forward(f, J, K) for f in f1]\n",
    "plot(f1, [f1, f2])\n",
    "end"
   ]
  },
  {
   "cell_type": "code",
   "execution_count": 46,
   "metadata": {
    "ExecuteTime": {
     "end_time": "2016-12-18T23:12:05.897819",
     "start_time": "2016-12-18T15:12:09.696Z"
    },
    "collapsed": false
   },
   "outputs": [
    {
     "name": "stderr",
     "output_type": "stream",
     "text": [
      "WARNING: Method definition eq(Any) in module Main at In[44]:2 overwritten at In[46]:2.\n"
     ]
    },
    {
     "data": {
      "text/plain": [
       "eq (generic function with 1 method)"
      ]
     },
     "execution_count": 46,
     "metadata": {},
     "output_type": "execute_result"
    }
   ],
   "source": [
    "function eq(x)\n",
    "    J, f = x\n",
    "    abs(f - rate(I0 + J*N*f)) +\n",
    "    abs(1 - rate′(I0 + J*N*f) * J*N)\n",
    "end"
   ]
  },
  {
   "cell_type": "code",
   "execution_count": 55,
   "metadata": {
    "ExecuteTime": {
     "end_time": "2016-12-18T23:14:23.379307",
     "start_time": "2016-12-18T15:14:26.955Z"
    },
    "collapsed": false
   },
   "outputs": [
    {
     "name": "stdout",
     "output_type": "stream",
     "text": [
      "Starting optimization with optimizer BlackBoxOptim.DiffEvoOpt{BlackBoxOptim.FitPopulation{Float64},BlackBoxOptim.RadiusLimitedSelector,BlackBoxOptim.AdaptiveDiffEvoRandBin{3},BlackBoxOptim.RandomBound{BlackBoxOptim.RangePerDimSearchSpace}}\n",
      "0.00 secs, 0 evals, 0 steps\n",
      "\n",
      "Optimization stopped after 50001 steps and 0.20480799674987793 seconds\n",
      "Termination reason: Max number of steps (50000) reached\n",
      "Steps per second = 244135.9751253453\n",
      "Function evals per second = 165813.83802837395\n",
      "Improvements/step = 0.26846\n",
      "Total function evaluations = 33960\n",
      "\n",
      "\n",
      "Best candidate found: [0.007129,0.048802]\n",
      "\n",
      "Fitness: 0.000000000\n",
      "\n"
     ]
    },
    {
     "data": {
      "text/plain": [
       "2-element Array{Float64,1}:\n",
       " 0.007129\n",
       " 0.048802"
      ]
     },
     "execution_count": 55,
     "metadata": {},
     "output_type": "execute_result"
    }
   ],
   "source": [
    "using BlackBoxOptim\n",
    "res = bboptimize(eq; SearchRange = [(0.007,0.008), (0.01,0.1)], NumDimensions = 2, MaxTime = 3.0)\n",
    "Jc, fc = best_candidate(res)"
   ]
  },
  {
   "cell_type": "code",
   "execution_count": null,
   "metadata": {
    "ExecuteTime": {
     "start_time": "2016-12-18T15:17:59.602Z"
    },
    "collapsed": true
   },
   "outputs": [],
   "source": [
    "using CMA"
   ]
  },
  {
   "cell_type": "code",
   "execution_count": null,
   "metadata": {
    "collapsed": true
   },
   "outputs": [],
   "source": []
  }
 ],
 "metadata": {
  "kernelspec": {
   "display_name": "Julia 0.5.0",
   "language": "julia",
   "name": "julia-0.5"
  },
  "language_info": {
   "file_extension": ".jl",
   "mimetype": "application/julia",
   "name": "julia",
   "version": "0.5.0"
  }
 },
 "nbformat": 4,
 "nbformat_minor": 0
}
