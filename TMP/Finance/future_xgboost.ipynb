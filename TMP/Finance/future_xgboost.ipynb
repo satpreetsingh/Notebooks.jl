{
 "cells": [
  {
   "cell_type": "code",
   "execution_count": 13,
   "metadata": {
    "collapsed": false
   },
   "outputs": [
    {
     "data": {
      "text/plain": [
       "160"
      ]
     },
     "execution_count": 13,
     "metadata": {},
     "output_type": "execute_result"
    }
   ],
   "source": [
    "using NBInclude,MAT\n",
    "nbinclude(\"utils.ipynb\")\n",
    "atype = Array{Float32}\n",
    "Tb = 160"
   ]
  },
  {
   "cell_type": "code",
   "execution_count": 14,
   "metadata": {
    "collapsed": true
   },
   "outputs": [],
   "source": [
    "DATA = matread(\"/home/rluser/DATA.mat\")[\"DATA\"];"
   ]
  },
  {
   "cell_type": "code",
   "execution_count": 20,
   "metadata": {
    "collapsed": false
   },
   "outputs": [
    {
     "name": "stderr",
     "output_type": "stream",
     "text": [
      "[1]\ttrain-merror:0.022058\n",
      "[2]\ttrain-merror:0.011444\n",
      "[3]\ttrain-merror:0.011280\n",
      "[4]\ttrain-merror:0.011280\n"
     ]
    },
    {
     "name": "stdout",
     "output_type": "stream",
     "text": [
      "test-error=0.3897261201100934\n"
     ]
    }
   ],
   "source": [
    "xtrn,ytrn,xtst,ytst = dataprovider2(DATA)\n",
    "\n",
    "using XGBoost\n",
    "num_round = 4\n",
    "param = Dict(\"silent\"=>1,\"max_depth\"=>100,\"num_class\"=>3, \"eta\"=>1, \"objective\"=>\"multi:softmax\")\n",
    "bst = xgboost(xtrn, num_round, label=ytrn,param=param)\n",
    "preds = XGBoost.predict(bst, xtst)\n",
    "println(\"test-error=\", mean(preds.!=ytst))"
   ]
  },
  {
   "cell_type": "code",
   "execution_count": 14,
   "metadata": {
    "collapsed": false
   },
   "outputs": [
    {
     "data": {
      "text/plain": [
       "(617,-836.6061523437413)"
      ]
     },
     "execution_count": 14,
     "metadata": {},
     "output_type": "execute_result"
    }
   ],
   "source": [
    "d = matread(\"/home/rluser/data.mat\")[\"data\"]\n",
    "date = 2\n",
    "signal = zeros(28806)\n",
    "for t=Tb:3000\n",
    "    x = Float32[diff(d[date,6][1+2t-2Tb:1+2t])/100;diff(d[date,7][1+t-Tb:1+t]);\n",
    "        diff(d[date,4][1+6t-6Tb:1+6t]);diff(d[date,5][1+6t-6Tb:1+6t])]\n",
    "    y = XGBoost.predict(bst, x')\n",
    "    signal[1+6t] = -(2*y[1]-1)\n",
    "end\n",
    "count,profits=profit(signal,d[1,2],d[1,3])"
   ]
  },
  {
   "cell_type": "code",
   "execution_count": null,
   "metadata": {
    "collapsed": true
   },
   "outputs": [],
   "source": []
  }
 ],
 "metadata": {
  "kernelspec": {
   "display_name": "Julia 0.5.0",
   "language": "julia",
   "name": "julia-0.5"
  },
  "language_info": {
   "file_extension": ".jl",
   "mimetype": "application/julia",
   "name": "julia",
   "version": "0.5.0"
  }
 },
 "nbformat": 4,
 "nbformat_minor": 0
}
