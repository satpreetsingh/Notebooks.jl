{
 "cells": [
  {
   "cell_type": "code",
   "execution_count": 9,
   "metadata": {
    "ExecuteTime": {
     "end_time": "2016-11-03T11:33:08.899484",
     "start_time": "2016-11-03T03:33:14.419Z"
    },
    "collapsed": false,
    "run_control": {
     "frozen": false,
     "read_only": false
    }
   },
   "outputs": [
    {
     "name": "stderr",
     "output_type": "stream",
     "text": [
      "\u001b[1m\u001b[31mWARNING: `@osx_only` is deprecated, use `@static if is_apple()` instead\u001b[0m\n",
      " in depwarn(::String, ::Symbol) at ./deprecated.jl:64\n",
      " in @osx_only(::Any) at ./deprecated.jl:496\n",
      " in include_string(::String, ::String) at ./loading.jl:441\n",
      " in execute_request(::ZMQ.Socket, ::IJulia.Msg) at /home/rluser/.julia/v0.5/IJulia/src/execute_request.jl:175\n",
      " in eventloop(::ZMQ.Socket) at /home/rluser/.julia/v0.5/IJulia/src/eventloop.jl:8\n",
      " in (::IJulia.##9#15)() at ./task.jl:360\n",
      "while loading In[9], in expression starting on line 1\n"
     ]
    },
    {
     "ename": "LoadError",
     "evalue": "ArgumentError: Module Cxx not found in current path.\nRun `Pkg.add(\"Cxx\")` to install the Cxx package.",
     "output_type": "error",
     "traceback": [
      "ArgumentError: Module Cxx not found in current path.\nRun `Pkg.add(\"Cxx\")` to install the Cxx package.",
      "",
      " in require(::Symbol) at ./loading.jl:365"
     ]
    }
   ],
   "source": [
    "@osx_only ENV[\"LLDB_DEBUGSERVER_PATH\"] =\n",
    "\n",
    "  \"/Applications/Xcode.app/Contents/SharedFrameworks/LLDB.framework/Resources/debugserver\"\n",
    "\n",
    "using Gallium, Cxx\n",
    "\n",
    "dbg = debugger()\n",
    "\n",
    "include(Pkg.dir(\"Gallium\",\"src\",\"lldbrepl.jl\"))\n",
    "\n",
    "if isdefined(Base,:active_repl)\n",
    "\n",
    "  RunLLDBRepl(dbg)\n",
    "\n",
    "  Gallium.createTargetREPL(dbg)\n",
    "\n",
    "  Gallium.RunTargetREPL(dbg)\n",
    "\n",
    "  # Step up Target C++ mode\n",
    "\n",
    "  Cxx.addHeaderDir(Gallium.TargetClang,joinpath(JULIA_HOME,\"../../src\"); kind = C_System)\n",
    "\n",
    "  Cxx.addHeaderDir(Gallium.TargetClang,joinpath(JULIA_HOME,\"../../src/support\"); kind = C_System)\n",
    "\n",
    "  Cxx.addHeaderDir(Gallium.TargetClang,joinpath(JULIA_HOME,\"../../usr/include\"); kind = C_System)\n",
    "\n",
    "  cxxparse(Gallium.TargetClang,\"\"\"#include \"julia.h\" \"\"\")\n",
    "\n",
    "  # Do this after julia.h\n",
    "\n",
    "  Cxx.register_booth(Gallium.TargetClang)\n",
    "\n",
    "  cxxparse(Gallium.TargetClang,readall(joinpath(dirname(@__FILE__),\"../src/boottarget.cpp\")))\n",
    "\n",
    "end\n",
    "\n",
    "lldb_exec(dbg,\"target create $(joinpath(JULIA_HOME,\"julia\"))\")\n",
    "\n",
    "lldb_exec(dbg,\"process attach --pid $(ARGS[1])\")\n",
    "\n",
    "lldb_exec(dbg,\"thread select 1\")\n",
    "\n",
    "lldb_exec(dbg,\"settings append target.source-map . $(joinpath(JULIA_HOME,\"../../base\"))\")\n",
    "\n",
    "lldb_exec(dbg,\"settings set target.process.optimization-warnings false\")\n",
    "\n",
    "lldb_exec(dbg,\"b jl_throw\")"
   ]
  },
  {
   "cell_type": "code",
   "execution_count": null,
   "metadata": {
    "ExecuteTime": {
     "start_time": "2016-11-03T03:33:29.258Z"
    },
    "collapsed": false
   },
   "outputs": [],
   "source": [
    "Pkg.add(\"Cxx\")"
   ]
  },
  {
   "cell_type": "code",
   "execution_count": null,
   "metadata": {
    "collapsed": true
   },
   "outputs": [],
   "source": [
    "using Cxx\n",
    "\n",
    "using Gallium\n",
    "\n",
    "\n",
    "\n",
    "if isdefined(Base, :active_repl)\n",
    "\n",
    "    include(Pkg.dir(\"Cxx\",\"src\",\"CxxREPL\",\"replpane.jl\"))\n",
    "\n",
    "    include(Pkg.dir(\"Gallium\",\"src\",\"lldbrepl.jl\"))\n",
    "\n",
    "end\n",
    "\n",
    "\n",
    "\n",
    "const dbg = debugger()\n",
    "\n",
    "RunLLDBRepl(dbg)\n",
    "\n",
    "\n",
    "\n",
    "function Base.CFILE(fd::RawFD, mode)\n",
    "\n",
    "    @unix_only FILEp = ccall(:fdopen, Ptr{Void}, (Cint, Ptr{UInt8}), convert(Cint, fd.fd), mode)\n",
    "\n",
    "    @windows_only FILEp = ccall(:_fdopen, Ptr{Void}, (Cint, Ptr{UInt8}), convert(Cint, fd.fd), mode)\n",
    "\n",
    "    systemerror(\"fdopen\", FILEp == C_NULL)\n",
    "\n",
    "    CFILE(FILEp)\n",
    "\n",
    "end\n",
    "\n",
    "\n",
    "\n",
    "SetOutputFileHandle(dbg,CFILE(Base._fd(STDOUT),Base.modestr(false,true)), false)\n",
    "\n",
    "SetErrorFileHandle(dbg,CFILE(Base._fd(STDERR),Base.modestr(false,true)), false)\n",
    "\n",
    "\n",
    "\n",
    "lldb_exec(dbg,\"target create ~/os161/root/kernel\")\n",
    "\n",
    "lldb_exec(dbg,\"process connect connect://localhost:2000\")\n",
    "\n",
    "const target = targets(dbg)[0]"
   ]
  }
 ],
 "metadata": {
  "kernelspec": {
   "display_name": "Julia 0.5.0",
   "language": "julia",
   "name": "julia-0.5"
  },
  "language_info": {
   "file_extension": ".jl",
   "mimetype": "application/julia",
   "name": "julia",
   "version": "0.5.0"
  }
 },
 "nbformat": 4,
 "nbformat_minor": 0
}
