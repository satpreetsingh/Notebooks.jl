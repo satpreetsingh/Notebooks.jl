{
 "cells": [
  {
   "cell_type": "code",
   "execution_count": 13,
   "metadata": {
    "collapsed": true
   },
   "outputs": [
    {
     "name": "stderr",
     "output_type": "stream",
     "text": [
      "WARNING: replacing module MNIST\n",
      "\u001b[1m\u001b[34mINFO: Loading MNIST...\n",
      "\u001b[0mWARNING: ignoring conflicting import of MNIST.predict into Main\n",
      "WARNING: ignoring conflicting import of MNIST.loss into Main\n",
      "WARNING: ignoring conflicting import of MNIST.lossgradient into Main\n",
      "WARNING: ignoring conflicting import of MNIST.accuracy into Main\n",
      "WARNING: Method definition csize(Any) in module Main at /home/hdd1/YaoLu/Backup/Finance/utils.ipynb:In[2]:1 overwritten at /home/hdd1/YaoLu/Backup/Finance/utils.ipynb:In[2]:1.\n",
      "WARNING: Method definition csize(Any, Any) in module Main at /home/hdd1/YaoLu/Backup/Finance/utils.ipynb:In[2]:2 overwritten at /home/hdd1/YaoLu/Backup/Finance/utils.ipynb:In[2]:2.\n",
      "WARNING: Method definition clength(Any) in module Main at /home/hdd1/YaoLu/Backup/Finance/utils.ipynb:In[2]:3 overwritten at /home/hdd1/YaoLu/Backup/Finance/utils.ipynb:In[2]:3.\n",
      "WARNING: Method definition ccount(Any) in module Main at /home/hdd1/YaoLu/Backup/Finance/utils.ipynb:In[2]:4 overwritten at /home/hdd1/YaoLu/Backup/Finance/utils.ipynb:In[2]:4.\n",
      "WARNING: Method definition csub(Any, Any) in module Main at /home/hdd1/YaoLu/Backup/Finance/utils.ipynb:In[2]:5 overwritten at /home/hdd1/YaoLu/Backup/Finance/utils.ipynb:In[2]:5.\n",
      "WARNING: Method definition cget(Any, Any) in module Main at /home/hdd1/YaoLu/Backup/Finance/utils.ipynb:In[2]:6 overwritten at /home/hdd1/YaoLu/Backup/Finance/utils.ipynb:In[2]:6.\n",
      "WARNING: Method definition size2(Any) in module Main at /home/hdd1/YaoLu/Backup/Finance/utils.ipynb:In[2]:7 overwritten at /home/hdd1/YaoLu/Backup/Finance/utils.ipynb:In[2]:7.\n",
      "WARNING: Method definition size2(Any, Any) in module Main at /home/hdd1/YaoLu/Backup/Finance/utils.ipynb:In[2]:8 overwritten at /home/hdd1/YaoLu/Backup/Finance/utils.ipynb:In[2]:8.\n",
      "WARNING: Method definition minibatch(Any, Any, Any) in module Main at /home/hdd1/YaoLu/Backup/Finance/utils.ipynb:In[3]:2 overwritten at /home/hdd1/YaoLu/Backup/Finance/utils.ipynb:In[3]:2.\n",
      "WARNING: Method definition train(Any, Any, Any) in module Main at /home/hdd1/YaoLu/Backup/Finance/utils.ipynb:In[4]:2 overwritten at /home/hdd1/YaoLu/Backup/Finance/utils.ipynb:In[4]:2.\n",
      "WARNING: Method definition #train(Array{Any, 1}, Main.#train, Any, Any, Any) in module Main overwritten.\n",
      "WARNING: Method definition err(Any, Any) in module Main at /home/hdd1/YaoLu/Backup/Finance/utils.ipynb:In[5]:2 overwritten at /home/hdd1/YaoLu/Backup/Finance/utils.ipynb:In[5]:2.\n",
      "WARNING: Method definition dataprovider(Any, Any) in module Main at /home/hdd1/YaoLu/Backup/Finance/utils.ipynb:In[6]:2 overwritten at /home/hdd1/YaoLu/Backup/Finance/utils.ipynb:In[6]:2.\n",
      "WARNING: Method definition dataprovider2(Any, Any) in module Main at /home/hdd1/YaoLu/Backup/Finance/utils.ipynb:In[+6]:2 overwritten at /home/hdd1/YaoLu/Backup/Finance/utils.ipynb:In[+6]:2.\n",
      "WARNING: Method definition profit(Any, Any, Any) in module Main at /home/hdd1/YaoLu/Backup/Finance/utils.ipynb:In[7]:2 overwritten at /home/hdd1/YaoLu/Backup/Finance/utils.ipynb:In[7]:2.\n",
      "WARNING: Method definition weights(Any, Any...) in module Main at /home/hdd1/YaoLu/Backup/Finance/utils.ipynb:In[8]:2 overwritten at /home/hdd1/YaoLu/Backup/Finance/utils.ipynb:In[8]:2.\n",
      "WARNING: Method definition #weights(Array{Any, 1}, Main.#weights, Any, Any...) in module Main overwritten.\n",
      "WARNING: Method definition entropy(Any) in module Main at /home/hdd1/YaoLu/Backup/Finance/utils.ipynb:In[+9]:2 overwritten at /home/hdd1/YaoLu/Backup/Finance/utils.ipynb:In[+9]:2.\n"
     ]
    },
    {
     "data": {
      "text/plain": [
       "160"
      ]
     },
     "execution_count": 13,
     "metadata": {},
     "output_type": "execute_result"
    }
   ],
   "source": [
    "using NBInclude,MAT\n",
    "include(Pkg.dir(\"Knet\",\"examples\",\"mnist.jl\"))\n",
    "using MNIST:Knet,predict,loss,lossgradient,accuracy\n",
    "nbinclude(\"utils.ipynb\")\n",
    "atype = Array{Float32}\n",
    "Tb = 160"
   ]
  },
  {
   "cell_type": "code",
   "execution_count": 5,
   "metadata": {
    "collapsed": false
   },
   "outputs": [],
   "source": [
    "long = matread(\"/home/rluser/long.mat\")[\"long\"];"
   ]
  },
  {
   "cell_type": "code",
   "execution_count": 14,
   "metadata": {
    "collapsed": false
   },
   "outputs": [],
   "source": [
    "dtrn,dtst = dataprovider()\n",
    "w = weights(dtrn,1000,500,100;atype=atype);"
   ]
  },
  {
   "cell_type": "code",
   "execution_count": null,
   "metadata": {
    "collapsed": false
   },
   "outputs": [],
   "source": [
    "train(w,dtrn,dtst; lr=0.1,epochs=4)"
   ]
  },
  {
   "cell_type": "code",
   "execution_count": 16,
   "metadata": {
    "collapsed": true
   },
   "outputs": [
    {
     "data": {
      "text/plain": [
       "23×7 Array{Any,2}:\n",
       " \"20160801\"  …  [1.0; 0.999903; … ; 0.993903; 0.993865]\n",
       " \"20160802\"     [1.0; 1.00049; … ; 1.00467; 1.00482]   \n",
       " \"20160803\"     [1.0; 1.00004; … ; 1.00431; 1.00435]   \n",
       " \"20160804\"     [1.0; 1.0; … ; 1.00339; 1.00339]       \n",
       " \"20160805\"     [1.0; 1.0; … ; 1.00112; 1.00117]       \n",
       " \"20160808\"  …  [1.0; 0.999853; … ; 1.01075; 1.01082]  \n",
       " \"20160809\"     [1.0; 1.0; … ; 1.00733; 1.00753]       \n",
       " \"20160810\"     [1.0; 0.999954; … ; 0.996479; 0.996363]\n",
       " \"20160811\"     [1.0; 1.00006; … ; 0.998154; 0.998086] \n",
       " \"20160812\"     [1.0; 1.0; … ; 1.01926; 1.01937]       \n",
       " \"20160815\"  …  [1.0; 1.00043; … ; 1.02725; 1.02723]   \n",
       " \"20160816\"     [1.0; 1.0; … ; 0.99276; 0.992701]      \n",
       " \"20160817\"     [1.0; 1.0; … ; 0.998733; 0.998603]     \n",
       " \"20160818\"     [1.0; 1.0; … ; 0.998356; 0.998383]     \n",
       " \"20160819\"     [1.0; 0.999798; … ; 1.00197; 1.00192]  \n",
       " \"20160822\"  …  [1.0; 1.00007; … ; 0.991815; 0.991711] \n",
       " \"20160823\"     [1.0; 1.0; … ; 1.00283; 1.00276]       \n",
       " \"20160824\"     [1.0; 1.0; … ; 0.996484; 0.996388]     \n",
       " \"20160825\"     [1.0; 0.999816; … ; 0.998473; 0.998458]\n",
       " \"20160826\"     [1.0; 1.00022; … ; 0.998412; 0.998367] \n",
       " \"20160829\"  …  [1.0; 1.0; … ; 1.00042; 1.00026]       \n",
       " \"20160830\"     [1.0; 0.999958; … ; 1.0008; 1.0005]    \n",
       " \"20160831\"     [1.0; 1.0; … ; 1.00495; 1.00502]       "
      ]
     },
     "execution_count": 16,
     "metadata": {},
     "output_type": "execute_result"
    }
   ],
   "source": [
    "d = matread(\"/home/rluser/data.mat\")[\"data\"]\n",
    "\n",
    "w = Array.(w)\n",
    "\n",
    "for date = 1:23\n",
    "    signal = zeros(28806)\n",
    "    for t=Tb:4800\n",
    "        x = Float32[diff(d[date,6][1+2t-2Tb:1+2t])/100;diff(d[date,7][1+t-Tb:1+t]);\n",
    "            diff(d[date,4][1+6t-6Tb:1+6t]);diff(d[date,5][1+6t-6Tb:1+6t])]\n",
    "        y = predict(w,x)\n",
    "        p = exp(y)/sum(exp(y))\n",
    "        e = entropy(p)\n",
    "        if e < 0.8\n",
    "            signal[1+6t] = sum((p.==maximum(p)).*[1,-1])\n",
    "        end\n",
    "    end\n",
    "    count,profits = profit(signal,d[1,2],d[1,3])\n",
    "    @show count,profits\n",
    "end"
   ]
  }
 ],
 "metadata": {
  "kernelspec": {
   "display_name": "Julia 0.5.0",
   "language": "julia",
   "name": "julia-0.5"
  },
  "language_info": {
   "file_extension": ".jl",
   "mimetype": "application/julia",
   "name": "julia",
   "version": "0.5.0"
  }
 },
 "nbformat": 4,
 "nbformat_minor": 0
}
