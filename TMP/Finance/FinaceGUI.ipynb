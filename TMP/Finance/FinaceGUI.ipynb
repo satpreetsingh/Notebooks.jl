{
 "cells": [
  {
   "cell_type": "code",
   "execution_count": 8,
   "metadata": {
    "collapsed": false
   },
   "outputs": [
    {
     "data": {
      "text/plain": [
       "Timer(Ptr{Void} @0x000000000bb82570,Condition(Any[Task (waiting) @0x00007f4072f7c970]),true)"
      ]
     },
     "execution_count": 8,
     "metadata": {},
     "output_type": "execute_result"
    }
   ],
   "source": [
    "fs = 1; Δt = 100\n",
    "using Immerse\n",
    "using Gtk.ShortNames,ColorTypes\n",
    "using GtkUtilities:copy!\n",
    "type State\n",
    "    name::Symbol\n",
    "    price::Float64\n",
    "end\n",
    "\n",
    "win = @Window() |>  (g = @Grid())\n",
    "\n",
    "play_ = @Button(\"play\");   g[1:2,1] = play_\n",
    "pause_ = @Button(\"pause\"); g[3:4,1] = pause_\n",
    "exit_ = @Button(\"exit\");   g[5:6,1] = exit_\n",
    "buy_ = @Button(\"buy\");     g[1:3,2] = buy_\n",
    "sell_ = @Button(\"sell\");   g[4:6,2] = sell_\n",
    "c = @Canvas();             g[1:6,3:10] = c\n",
    "\n",
    "setproperty!(c, :expand, true)\n",
    "showall(win)\n",
    "\n",
    "signal_connect(buy_, \"clicked\") do widget\n",
    "    @eval if state.name == :sell\n",
    "        adv_price = sell_price[t-Δt]  # adversary's price\n",
    "        profit += state.price - 0.2 - (adv_price + 0.2)\n",
    "        state.name = :empty\n",
    "        state.price = adv_price\n",
    "    elseif state.name == :empty\n",
    "        adv_price = sell_price[t-Δt]  # adversary's price\n",
    "        state.name = :buy\n",
    "        state.price = adv_price\n",
    "    end\n",
    "end\n",
    "signal_connect(sell_, \"clicked\") do widget\n",
    "    @eval if state.name == :buy\n",
    "        adv_price = buy_price[t-Δt]   \n",
    "        profit += adv_price - 0.2 - (state.price + 0.2)\n",
    "        state.name = :empty\n",
    "        state.price = adv_price\n",
    "    elseif state.name == :empty\n",
    "        adv_price = buy_price[t-Δt]\n",
    "        state.name = :sell\n",
    "        state.price = adv_price\n",
    "    end\n",
    "end\n",
    "signal_connect(play_, \"clicked\") do widget\n",
    "    @eval flag = true\n",
    "end\n",
    "signal_connect(pause_, \"clicked\") do widget\n",
    "    @eval flag = false\n",
    "end\n",
    "signal_connect(exit_, \"clicked\") do widget\n",
    "    @eval close(timer)\n",
    "end\n",
    "\n",
    "\n",
    "# file = open_dialog(\"Pick an csv file\")\n",
    "file = \"IF1307.csv\"\n",
    "data = readcsv(file)\n",
    "data[data.==\"\"] = 0.0\n",
    "buy_price, sell_price = data[10:end-10,18],data[10:end-10,20]\n",
    "buy_price = convert(Array{Float64},buy_price)\n",
    "sell_price = convert(Array{Float64},sell_price);\n",
    "t = 10\n",
    "flag = false;\n",
    "profit = 0\n",
    "state = State(:empty,0)\n",
    "theme1 = Theme(default_color=colorant\"blue\")\n",
    "theme2 = Theme(default_color=colorant\"green\")\n",
    "range = Coord.cartesian(xmin=1, xmax=length(buy_price),\n",
    "ymin=minimum(buy_price), ymax=maximum(buy_price))\n",
    "timer = Timer(0,1/fs) do timer\n",
    "    global t\n",
    "    if t <= length(buy_price) && flag\n",
    "        c.back = Gtk.cairo_surface_for(c)\n",
    "        x = max(t-5000+1,1):t\n",
    "        p = plot(layer(x=x,y=buy_price[x], Geom.line, theme1),\n",
    "#             layer(x=x,y=sell_price[x], Geom.line, theme2),\n",
    "        Guide.title(@sprintf(\"profit=%4.2f state=%s\",profit,state.name)),\n",
    "        layer(yintercept=[state.price], Geom.hline),\n",
    "        range)\n",
    "        display(c,Figure(p))\n",
    "        t += Δt\n",
    "    elseif t > length(buy_price)\n",
    "        close(timer)\n",
    "    end\n",
    "end\n"
   ]
  },
  {
   "cell_type": "code",
   "execution_count": null,
   "metadata": {
    "collapsed": true
   },
   "outputs": [],
   "source": []
  }
 ],
 "metadata": {
  "kernelspec": {
   "display_name": "Julia 0.5.0-rc3",
   "language": "julia",
   "name": "julia-0.5"
  },
  "language_info": {
   "file_extension": ".jl",
   "mimetype": "application/julia",
   "name": "julia",
   "version": "0.5.0"
  }
 },
 "nbformat": 4,
 "nbformat_minor": 0
}
