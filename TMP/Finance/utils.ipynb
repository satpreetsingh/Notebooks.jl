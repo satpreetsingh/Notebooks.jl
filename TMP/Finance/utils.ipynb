{
 "cells": [
  {
   "cell_type": "code",
   "execution_count": 2,
   "metadata": {
    "collapsed": false
   },
   "outputs": [
    {
     "data": {
      "text/plain": [
       "size2 (generic function with 2 methods)"
      ]
     },
     "execution_count": 2,
     "metadata": {},
     "output_type": "execute_result"
    }
   ],
   "source": [
    "csize(a)=(ndims(a)==1 ? size(a) : size(a)[1:end-1])\n",
    "csize(a,n)=tuple(csize(a)..., n) # size if you had n columns\n",
    "clength(a)=(ndims(a)==1 ? length(a) : stride(a,ndims(a)))\n",
    "ccount(a)=(ndims(a)==1 ? 1 : size(a,ndims(a)))\n",
    "csub(a,i)=(ndims(a)==1 ? error() : sub(a, ntuple(i->(:), ndims(a)-1)..., i))\n",
    "cget(a,i)=(ndims(a)==1 ? error() : getindex(a, ntuple(i->(:), ndims(a)-1)..., i))\n",
    "size2(y)=(nd=ndims(y); (nd==1 ? (length(y),1) : (stride(y, nd), size(y, nd)))) # size as a matrix\n",
    "size2(y,i)=size2(y)[i]"
   ]
  },
  {
   "cell_type": "code",
   "execution_count": 3,
   "metadata": {
    "collapsed": false
   },
   "outputs": [
    {
     "data": {
      "text/plain": [
       "minibatch (generic function with 1 method)"
      ]
     },
     "execution_count": 3,
     "metadata": {},
     "output_type": "execute_result"
    }
   ],
   "source": [
    "function minibatch(x, y, batchsize)\n",
    "    data = Any[]\n",
    "    for i=1:batchsize:ccount(x)\n",
    "        j=min(i+batchsize-1,ccount(x))\n",
    "        push!(data, (cget(x,i:j), cget(y,i:j)))\n",
    "    end\n",
    "    return data\n",
    "end"
   ]
  },
  {
   "cell_type": "code",
   "execution_count": 4,
   "metadata": {
    "collapsed": false
   },
   "outputs": [
    {
     "data": {
      "text/plain": [
       "train (generic function with 1 method)"
      ]
     },
     "execution_count": 4,
     "metadata": {},
     "output_type": "execute_result"
    }
   ],
   "source": [
    "function train(w, dtrn, dtst; lr=.5, epochs=10)\n",
    "    for epoch=1:epochs\n",
    "        @printf(\"\\ntrn-acc=%6.4f,tst-acc=%6.4f\\n\",\n",
    "        accuracy(w,dtrn),accuracy(w,dtst))\n",
    "        for (x,y) in dtrn\n",
    "            g = lossgradient(w, x, y)\n",
    "            for i in 1:length(w)\n",
    "                w[i] -= lr*g[i]\n",
    "            end\n",
    "        end   \n",
    "    end\n",
    "end"
   ]
  },
  {
   "cell_type": "code",
   "execution_count": 5,
   "metadata": {
    "collapsed": false
   },
   "outputs": [
    {
     "data": {
      "text/plain": [
       "err (generic function with 1 method)"
      ]
     },
     "execution_count": 5,
     "metadata": {},
     "output_type": "execute_result"
    }
   ],
   "source": [
    "function err(w, dtst)\n",
    "    nloss = ninstance = 0\n",
    "    for (x, y) in dtst\n",
    "        nloss += loss(w,x,y)\n",
    "        ninstance += 1\n",
    "    end\n",
    "    return sqrt(nloss/ninstance)\n",
    "end"
   ]
  },
  {
   "cell_type": "code",
   "execution_count": 6,
   "metadata": {
    "collapsed": false
   },
   "outputs": [
    {
     "data": {
      "text/plain": [
       "dataprovider (generic function with 1 method)"
      ]
     },
     "execution_count": 6,
     "metadata": {},
     "output_type": "execute_result"
    }
   ],
   "source": [
    "function dataprovider(A)    \n",
    "    map!(view(A,:,5)) do x\n",
    "        x = x==1?[1,0,0]:(x==0?[0,1,0]:[0,0,1])\n",
    "    end\n",
    "    \n",
    "    x0 = Float32[diff(A[1,3][end-2Tb:end])/100;diff(A[1,4][end-Tb:end]);\n",
    "        diff(A[1,1][end-6Tb:end]);diff(A[1,2][end-6Tb:end])]\n",
    "    y0 = Float32.(A[1,5])\n",
    "\n",
    "    x = zeros(length(x0),size(A,1))\n",
    "    y = zeros(length(y0),size(A,1))\n",
    "    for (t,i) in enumerate(randcycle(size(A,1)))\n",
    "        x[:,t] = Float32[diff(A[i,3][end-2Tb:end])/100;diff(A[i,4][end-Tb:end]);\n",
    "            diff(A[i,1][end-6Tb:end]);diff(A[i,2][end-6Tb:end])]\n",
    "        y[:,t] = Float32.(A[i,5])\n",
    "    end\n",
    "\n",
    "    data = minibatch(atype(x),atype(y),100)\n",
    "    dtrn = data[1:4*end÷5]\n",
    "    dtst = data[4*end÷5+1:end]\n",
    "    return dtrn,dtst\n",
    "end"
   ]
  },
  {
   "cell_type": "code",
   "execution_count": null,
   "metadata": {
    "collapsed": true
   },
   "outputs": [],
   "source": [
    "function dataprovider2(A)\n",
    "    A = copy(A)\n",
    "    A[:,end] += 1\n",
    "\n",
    "\n",
    "    x0 = Float32[diff(A[1,3][end-2Tb:end])/100;diff(A[1,4][end-Tb:end]);\n",
    "        diff(A[1,1][end-6Tb:end]);diff(A[1,2][end-6Tb:end])]\n",
    "    y0 = Float32.(A[1,5])\n",
    "\n",
    "    x = zeros(length(x0),size(A,1))\n",
    "    y = zeros(length(y0),size(A,1))\n",
    "    for (t,i) in enumerate(randcycle(size(A,1)))\n",
    "        x[:,t] = Float32[diff(A[i,3][end-2Tb:end])/100;diff(A[i,4][end-Tb:end]);\n",
    "            diff(A[i,1][end-6Tb:end]);diff(A[i,2][end-6Tb:end])]\n",
    "        y[:,t] = Float32.(A[i,5])\n",
    "    end\n",
    "\n",
    "    xtrn = x[:,1:4*end÷5]; ytrn = y[:,1:4*end÷5]\n",
    "    xtst = x[:,4*end÷5+1:end]; ytst = y[:,4*end÷5+1:end]\n",
    "    return xtrn',vec(ytrn),xtst',vec(ytst)\n",
    "end"
   ]
  },
  {
   "cell_type": "code",
   "execution_count": 7,
   "metadata": {
    "collapsed": false
   },
   "outputs": [
    {
     "data": {
      "text/plain": [
       "profit (generic function with 1 method)"
      ]
     },
     "execution_count": 7,
     "metadata": {},
     "output_type": "execute_result"
    }
   ],
   "source": [
    "function profit(signal,buy_price,sell_price)\n",
    "    count = 0\n",
    "    state = 0\n",
    "    price = 0\n",
    "    profits = 0\n",
    "    for t=1:length(signal)\n",
    "        if signal[t] == 1   \n",
    "            if state == 0\n",
    "                adv_price = sell_price[t]   \n",
    "                state = 1\n",
    "                price = adv_price              \n",
    "            elseif state == -1\n",
    "                adv_price = sell_price[t]\n",
    "                profits += price - adv_price - 0.4\n",
    "                count += 1\n",
    "                state = 0\n",
    "                price = 0              \n",
    "            end\n",
    "        elseif signal[t] == -1\n",
    "            if state == 0\n",
    "                adv_price = buy_price[t]   \n",
    "                state = -1\n",
    "                price = adv_price\n",
    "            elseif state == 1\n",
    "                adv_price = buy_price[t]\n",
    "                profits += -price + adv_price - 0.4\n",
    "                count += 1\n",
    "                state = 0\n",
    "                price = 0\n",
    "            end\n",
    "        end\n",
    "    end\n",
    "    return count,profits\n",
    "end "
   ]
  },
  {
   "cell_type": "code",
   "execution_count": 8,
   "metadata": {
    "collapsed": false
   },
   "outputs": [
    {
     "data": {
      "text/plain": [
       "weights (generic function with 1 method)"
      ]
     },
     "execution_count": 8,
     "metadata": {},
     "output_type": "execute_result"
    }
   ],
   "source": [
    "function weights(data,h...; atype=Array{Float32}, winit=0.1)\n",
    "    x0,y0 = data[1]\n",
    "    w = Any[]\n",
    "    x = size(x0,1)\n",
    "    for y in [h..., size(y0,1)]\n",
    "        push!(w, convert(atype, winit*randn(y,x)))\n",
    "        push!(w, convert(atype, zeros(y, 1)))\n",
    "        x = y\n",
    "    end\n",
    "    return w  \n",
    "end"
   ]
  },
  {
   "cell_type": "code",
   "execution_count": null,
   "metadata": {
    "collapsed": true
   },
   "outputs": [],
   "source": [
    "function entropy(p)\n",
    "    p0 = ones(p)/length(p)\n",
    "    sum(-p.*log(p+1e-20))/sum(-p0.*log(p0+1e-20))\n",
    "end"
   ]
  }
 ],
 "metadata": {
  "kernelspec": {
   "display_name": "Julia 0.5.0",
   "language": "julia",
   "name": "julia-0.5"
  },
  "language_info": {
   "file_extension": ".jl",
   "mimetype": "application/julia",
   "name": "julia",
   "version": "0.5.0"
  }
 },
 "nbformat": 4,
 "nbformat_minor": 0
}
