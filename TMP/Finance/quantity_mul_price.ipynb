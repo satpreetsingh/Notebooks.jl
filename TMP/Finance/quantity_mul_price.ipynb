{
 "cells": [
  {
   "cell_type": "code",
   "execution_count": 2,
   "metadata": {
    "collapsed": true
   },
   "outputs": [
    {
     "name": "stderr",
     "output_type": "stream",
     "text": [
      "WARNING: Method definition profit(Any, Any, Any) in module Main at In[1]:13 overwritten at In[2]:13.\n",
      "WARNING: Method definition myconv(Any, Any) in module Main at In[1]:48 overwritten at In[2]:48.\n",
      "WARNING: Method definition profit(Any, Any, Any) in module Main at In[1]:13 overwritten at In[2]:13.\n",
      "WARNING: Method definition myconv(Any, Any) in module Main at In[1]:48 overwritten at In[2]:48.\n",
      "WARNING: Method definition profit(Any, Any, Any) in module Main at In[1]:13 overwritten at In[2]:13.\n",
      "WARNING: Method definition myconv(Any, Any) in module Main at In[1]:48 overwritten at In[2]:48.\n",
      "WARNING: Method definition profit(Any, Any, Any) in module Main at In[1]:13 overwritten at In[2]:13.\n",
      "WARNING: Method definition myconv(Any, Any) in module Main at In[1]:48 overwritten at In[2]:48.\n",
      "WARNING: Method definition profit(Any, Any, Any) in module Main at In[1]:13 overwritten at In[2]:13.\n",
      "WARNING: Method definition myconv(Any, Any) in module Main at In[1]:48 overwritten at In[2]:48.\n",
      "WARNING: Method definition profit(Any, Any, Any) in module Main at In[1]:13 overwritten at In[2]:13.\n",
      "WARNING: Method definition myconv(Any, Any) in module Main at In[1]:48 overwritten at In[2]:48.\n",
      "WARNING: Method definition profit(Any, Any, Any) in module Main at In[1]:13 overwritten at In[2]:13.\n",
      "WARNING: Method definition myconv(Any, Any) in module Main at In[1]:48 overwritten at In[2]:48.\n",
      "WARNING: Method definition profit(Any, Any, Any) in module Main at In[1]:13 overwritten at In[2]:13.\n",
      "WARNING: Method definition myconv(Any, Any) in module Main at In[1]:48 overwritten at In[2]:48.\n",
      "WARNING: Method definition profit(Any, Any, Any) in module Main at In[1]:13 overwritten at In[2]:13.\n",
      "WARNING: Method definition myconv(Any, Any) in module Main at In[1]:48 overwritten at In[2]:48.\n",
      "WARNING: Method definition profit(Any, Any, Any) in module Main at In[1]:13 overwritten at In[2]:13.\n",
      "WARNING: Method definition myconv(Any, Any) in module Main at In[1]:48 overwritten at In[2]:48.\n",
      "WARNING: Method definition profit(Any, Any, Any) in module Main at In[1]:13 overwritten at In[2]:13.\n",
      "WARNING: Method definition myconv(Any, Any) in module Main at In[1]:48 overwritten at In[2]:48.\n",
      "WARNING: Method definition profit(Any, Any, Any) in module Main at In[1]:13 overwritten at In[2]:13.\n",
      "WARNING: Method definition myconv(Any, Any) in module Main at In[1]:48 overwritten at In[2]:48.\n",
      "WARNING: Method definition profit(Any, Any, Any) in module Main at In[1]:13 overwritten at In[2]:13.\n",
      "WARNING: Method definition myconv(Any, Any) in module Main at In[1]:48 overwritten at In[2]:48.\n",
      "WARNING: Method definition profit(Any, Any, Any) in module Main at In[1]:13 overwritten at In[2]:13.\n",
      "WARNING: Method definition myconv(Any, Any) in module Main at In[1]:48 overwritten at In[2]:48.\n",
      "WARNING: Method definition profit(Any, Any, Any) in module Main at In[1]:13 overwritten at In[2]:13.\n",
      "WARNING: Method definition myconv(Any, Any) in module Main at In[1]:48 overwritten at In[2]:48.\n",
      "WARNING: Method definition profit(Any, Any, Any) in module Main at In[1]:13 overwritten at In[2]:13.\n",
      "WARNING: Method definition myconv(Any, Any) in module Main at In[1]:48 overwritten at In[2]:48.\n",
      "WARNING: Method definition profit(Any, Any, Any) in module Main at In[1]:13 overwritten at In[2]:13.\n",
      "WARNING: Method definition myconv(Any, Any) in module Main at In[1]:48 overwritten at In[2]:48.\n",
      "WARNING: Method definition profit(Any, Any, Any) in module Main at In[1]:13 overwritten at In[2]:13.\n",
      "WARNING: Method definition myconv(Any, Any) in module Main at In[1]:48 overwritten at In[2]:48.\n",
      "WARNING: Method definition profit(Any, Any, Any) in module Main at In[1]:13 overwritten at In[2]:13.\n",
      "WARNING: Method definition myconv(Any, Any) in module Main at In[1]:48 overwritten at In[2]:48.\n",
      "WARNING: Method definition profit(Any, Any, Any) in module Main at In[1]:13 overwritten at In[2]:13.\n",
      "WARNING: Method definition myconv(Any, Any) in module Main at In[1]:48 overwritten at In[2]:48.\n",
      "WARNING: Method definition profit(Any, Any, Any) in module Main at In[1]:13 overwritten at In[2]:13.\n",
      "WARNING: Method definition myconv(Any, Any) in module Main at In[1]:48 overwritten at In[2]:48.\n",
      "WARNING: Method definition profit(Any, Any, Any) in module Main at In[1]:13 overwritten at In[2]:13.\n",
      "WARNING: Method definition myconv(Any, Any) in module Main at In[1]:48 overwritten at In[2]:48.\n",
      "WARNING: Method definition profit(Any, Any, Any) in module Main at In[1]:13 overwritten at In[2]:13.\n",
      "WARNING: Method definition myconv(Any, Any) in module Main at In[1]:48 overwritten at In[2]:48.\n",
      "WARNING: Method definition profit(Any, Any, Any) in module Main at In[1]:13 overwritten at In[2]:13.\n",
      "WARNING: Method definition myconv(Any, Any) in module Main at In[1]:48 overwritten at In[2]:48.\n",
      "WARNING: Method definition profit(Any, Any, Any) in module Main at In[1]:13 overwritten at In[2]:13.\n",
      "WARNING: Method definition profit(Any, Any, Any) in module Main at In[1]:13 overwritten at In[2]:13.\n",
      "WARNING: Method definition myconv(Any, Any) in module Main at In[1]:48 overwritten at In[2]:48.\n",
      "WARNING: Method definition WARNING: Method definition myconvprofit((Any, AnyAny, )Any in module Main, Any at In[1]:48) overwritten in module Main at In[2]:48.\n",
      " at In[1]:13 overwritten at In[2]:13.\n",
      "WARNING: Method definition myconv(Any, Any) in module Main at In[1]:48 overwritten at In[2]:48.\n",
      "WARNING: Method definition profit(Any, Any, Any) in module Main at In[1]:13 overwritten at In[2]:13.\n",
      "WARNING: Method definition myconv(Any, Any) in module Main at In[1]:48 overwritten at In[2]:48.\n",
      "WARNING: Method definition profit(Any, Any, Any) in module Main at In[1]:13 overwritten at In[2]:13.\n",
      "WARNING: Method definition myconv(Any, Any) in module Main at In[1]:48 overwritten at In[2]:48.\n",
      "WARNING: Method definition profit(Any, Any, Any) in module Main at In[1]:13 overwritten at In[2]:13.\n",
      "WARNING: Method definition myconv(Any, Any) in module Main at In[1]:48 overwritten at In[2]:48.\n",
      "WARNING: Method definition profit(Any, Any, Any) in module Main at In[1]:13 overwritten at In[2]:13.\n",
      "WARNING: Method definition myconv(Any, Any) in module Main at In[1]:48 overwritten at In[2]:48.\n",
      "WARNING: Method definition profit(Any, Any, Any) in module Main at In[1]:13 overwritten at In[2]:13.\n",
      "WARNING: Method definition WARNING: Method definition myconvprofit((Any, AnyAny, )Any,  in module MainAny at In[1]:48) overwritten in module Main at In[2]:48 at In[1]:13.\n",
      " overwritten at In[2]:13.\n",
      "WARNING: Method definition myconv(Any, Any) in module Main at In[1]:48 overwritten at In[2]:48.\n",
      "WARNING: Method definition profit(Any, Any, Any) in module Main at In[1]:13 overwritten at In[2]:13.\n",
      "WARNING: Method definition myconv(Any, Any) in module Main at In[1]:48 overwritten at In[2]:48.\n",
      "WARNING: Method definition profit(Any, Any, Any) in module Main at In[1]:13 overwritten at In[2]:13.\n",
      "WARNING: Method definition myconv(Any, Any) in module Main at In[1]:48 overwritten at In[2]:48.\n",
      "WARNING: Method definition profit(Any, Any, Any) in module Main at In[1]:13 overwritten at In[2]:13.\n",
      "WARNING: Method definition myconv(Any, Any) in module Main at In[1]:48 overwritten at In[2]:48.\n",
      "WARNING: Method definition profit(Any, Any, Any) in module Main at In[1]:13 overwritten at In[2]:13.\n",
      "WARNING: Method definition myconv(Any, Any) in module Main at In[1]:48 overwritten at In[2]:48.\n",
      "WARNING: Method definition profit(Any, Any, Any) in module Main at In[1]:13 overwritten at In[2]:13.\n",
      "WARNING: Method definition myconv(Any, Any) in module Main at In[1]:48 overwritten at In[2]:48.\n",
      "WARNING: Method definition profit(Any, Any, Any) in module Main at In[1]:13 overwritten at In[2]:13.\n",
      "WARNING: Method definition myconv(Any, Any) in module Main at In[1]:48 overwritten at In[2]:48.\n",
      "WARNING: Method definition profit(Any, Any, Any) in module Main at In[1]:13 overwritten at In[2]:13.\n",
      "WARNING: Method definition myconv(Any, Any) in module Main at In[1]:48 overwritten at In[2]:48.\n",
      "WARNING: Method definition profit(Any, Any, Any) in module Main at In[1]:13 overwritten at In[2]:13.\n",
      "WARNING: Method definition myconv(Any, Any) in module Main at In[1]:48 overwritten at In[2]:48.\n"
     ]
    },
    {
     "data": {
      "text/plain": [
       "profit (generic function with 3 methods)"
      ]
     },
     "execution_count": 2,
     "metadata": {},
     "output_type": "execute_result"
    }
   ],
   "source": [
    "addprocs(40)\n",
    "\n",
    "IF_files = String[]\n",
    "for (root, dirs, files) in walkdir(\"/home/hdd1/YaoLu/train/\")\n",
    "    for file in files\n",
    "        file[1:2] == \"IF\" && push!(IF_files,joinpath(root, file))\n",
    "    end\n",
    "end\n",
    "\n",
    "@everywhere begin\n",
    "\n",
    "function profit(signal,buy_price,sell_price)\n",
    "    count = 0\n",
    "    state = 0\n",
    "    price = 0\n",
    "    profits = 0\n",
    "    for t=1:length(signal)\n",
    "        if signal[t] == 1   \n",
    "            if state == 0\n",
    "                adv_price = sell_price[t]   \n",
    "                state = 1\n",
    "                price = adv_price              \n",
    "            elseif state == -1\n",
    "                adv_price = sell_price[t]\n",
    "                profits += price - adv_price - 0.4\n",
    "                count += 1\n",
    "                state = 0\n",
    "                price = 0              \n",
    "            end\n",
    "        elseif signal[t] == -1\n",
    "            if state == 0\n",
    "                adv_price = buy_price[t]   \n",
    "                state = -1\n",
    "                price = adv_price\n",
    "            elseif state == 1\n",
    "                adv_price = buy_price[t]\n",
    "                profits += -price + adv_price - 0.4\n",
    "                count += 1\n",
    "                state = 0\n",
    "                price = 0\n",
    "            end\n",
    "        end\n",
    "    end\n",
    "    return count,profits\n",
    "end \n",
    "    \n",
    "function myconv(x,y)\n",
    "    nx = length(x)\n",
    "    ny = length(y)\n",
    "    nz = nx + ny -1\n",
    "    z = zeros(nz)\n",
    "    for n in 0:nz-1\n",
    "        z[n+1] = sum(x[n-m+1]*y[m+1] for m=max(n-nx+1,0):min(ny-1,n))\n",
    "    end\n",
    "    z[1:ny]\n",
    "end\n",
    "\n",
    "function profit(w,file::String)\n",
    "    name = tempname()\n",
    "    write(name,String(read(file)[253:end]))\n",
    "    data = readcsv(name);\n",
    "    data[data.==\"\"] = 0.0\n",
    "    bp = Float64.(data[9:end-10,18])\n",
    "    bq = Float64.(data[9:end-10,19])\n",
    "    sp = Float64.(data[9:end-10,20])\n",
    "    sq = Float64.(data[9:end-10,21])\n",
    "    p = (bp.*bq + sp.*sq)./(bq + sq)\n",
    "    q = Float64.(data[9:end-10,10])\n",
    "    dp = diff(p)\n",
    "    dq = diff(q)\n",
    "    qp = dq.*dp\n",
    "\n",
    "    cqp = myconv(w[1],qp)\n",
    "            signal = (abs(cqp).>w[2]).*sign(cqp)\n",
    "    profit([0;signal],bp,sp)\n",
    "end\n",
    "\n",
    "end #end of @everywhere\n",
    "    \n",
    "function profit(w,files::Vector{String})\n",
    "    profits = @parallel (vcat) for i = 1:length(files)\n",
    "     profit(w,files[i])[2]\n",
    "    end\n",
    "    return mean(profits)\n",
    "end"
   ]
  },
  {
   "cell_type": "code",
   "execution_count": 3,
   "metadata": {
    "collapsed": false
   },
   "outputs": [
    {
     "name": "stdout",
     "output_type": "stream",
     "text": [
      "  3.266408 seconds (11.03 M allocations: 306.564 MB, 7.91% gc time)\n",
      "  6.846910 seconds (606.30 k allocations: 25.178 MB, 0.23% gc time)\n"
     ]
    },
    {
     "data": {
      "text/plain": [
       "-674.1866666666645"
      ]
     },
     "execution_count": 3,
     "metadata": {},
     "output_type": "execute_result"
    }
   ],
   "source": [
    "w = Any[ones(30)/30,0.1]\n",
    "@time profit(w,IF_files[1])\n",
    "@time profit(w,IF_files[1:30])"
   ]
  },
  {
   "cell_type": "code",
   "execution_count": null,
   "metadata": {
    "collapsed": false,
    "scrolled": false
   },
   "outputs": [
    {
     "name": "stdout",
     "output_type": "stream",
     "text": [
      "(θ,profit(w,IF_files[1:80])) = (0.0,-1380.1450000000425)\n",
      "(θ,profit(w,IF_files[1:80])) = (0.01,-1229.9525000000226)\n",
      "(θ,profit(w,IF_files[1:80])) = (0.02,-1122.0475000000113)\n",
      "(θ,profit(w,IF_files[1:80])) = (0.03,-1037.1325000000047)\n",
      "(θ,profit(w,IF_files[1:80])) = (0.04,-966.5325000000005)\n",
      "(θ,profit(w,IF_files[1:80])) = (0.05,-907.1699999999988)\n"
     ]
    },
    {
     "name": "stderr",
     "output_type": "stream",
     "text": [
      "fatal: error thrown and no exception handler available.\n",
      "InterruptException()\n",
      "jl_run_once at /home/centos/buildbot/slave/package_tarball64/build/src/jl_uv.c:142\n",
      "process_events at ./libuv.jl:82\n",
      "wait at ./event.jl:147\n",
      "task_done_hook at ./task.jl:191\n",
      "unknown function (ip: 0x7f24a80cdf02)\n",
      "jl_call_method_internal at /home/centos/buildbot/slave/package_tarball64/build/src/julia_internal.h:189 [inlined]\n",
      "jl_apply_generic at /home/centos/buildbot/slave/package_tarball64/build/src/gf.c:1942\n",
      "jl_apply at /home/centos/buildbot/slave/package_tarball64/build/src/julia.h:1392 [inlined]\n",
      "finish_task at /home/centos/buildbot/slave/package_tarball64/build/src/task.c:214 [inlined]\n",
      "start_task at /home/centos/buildbot/slave/package_tarball64/build/src/task.c:261\n",
      "unknown function (ip: 0xffffffffffffffff)\n",
      "ErrorException"
     ]
    },
    {
     "name": "stdout",
     "output_type": "stream",
     "text": [
      "(θ,profit(w,IF_files[1:80])) = (0.06,-857.7049999999987)\n"
     ]
    }
   ],
   "source": [
    "for θ=0:0.01:2\n",
    "    w = Any[ones(30)/30,θ]\n",
    "    @show θ,profit(w,IF_files[1:80])\n",
    "end"
   ]
  }
 ],
 "metadata": {
  "kernelspec": {
   "display_name": "Julia 0.5.0",
   "language": "julia",
   "name": "julia-0.5"
  },
  "language_info": {
   "file_extension": ".jl",
   "mimetype": "application/julia",
   "name": "julia",
   "version": "0.5.0"
  }
 },
 "nbformat": 4,
 "nbformat_minor": 0
}
