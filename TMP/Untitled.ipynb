{
 "cells": [
  {
   "cell_type": "code",
   "execution_count": 2,
   "metadata": {
    "collapsed": false
   },
   "outputs": [
    {
     "name": "stderr",
     "output_type": "stream",
     "text": [
      "WARNING: replacing module Hpsklearn\n",
      "ERROR: unknown option `-c`\n"
     ]
    },
    {
     "ename": "LoadError",
     "evalue": "PyError (:PyObject_Call) <type 'exceptions.IOError'>\nIOError(22, 'Invalid argument')\n  File \"c:\\users\\astupidbear\\documents\\codes\\julia\\hpsklearn\\deps\\hyperopt-sklearn\\hpsklearn\\estimator.py\", line 705, in fit\n    fit_iter.send(increment)\n  File \"c:\\users\\astupidbear\\documents\\codes\\julia\\hpsklearn\\deps\\hyperopt-sklearn\\hpsklearn\\estimator.py\", line 616, in fit_iter\n    return_argmin=False, # -- in case no success so far\n  File \"C:\\PortableSoftware\\Scoop\\apps\\python27\\2.7.13\\lib\\site-packages\\hyperopt\\fmin.py\", line 307, in fmin\n    return_argmin=return_argmin,\n  File \"C:\\PortableSoftware\\Scoop\\apps\\python27\\2.7.13\\lib\\site-packages\\hyperopt\\base.py\", line 635, in fmin\n    return_argmin=return_argmin)\n  File \"C:\\PortableSoftware\\Scoop\\apps\\python27\\2.7.13\\lib\\site-packages\\hyperopt\\fmin.py\", line 320, in fmin\n    rval.exhaust()\n  File \"C:\\PortableSoftware\\Scoop\\apps\\python27\\2.7.13\\lib\\site-packages\\hyperopt\\fmin.py\", line 199, in exhaust\n    self.run(self.maxevals - n_done, block_until_done=self.async)\n  File \"C:\\PortableSoftware\\Scoop\\apps\\python27\\2.7.13\\lib\\site-packages\\hyperopt\\fmin.py\", line 173, in run\n    self.serial_evaluate()\n  File \"C:\\PortableSoftware\\Scoop\\apps\\python27\\2.7.13\\lib\\site-packages\\hyperopt\\fmin.py\", line 92, in serial_evaluate\n    result = self.domain.evaluate(spec, ctrl)\n  File \"C:\\PortableSoftware\\Scoop\\apps\\python27\\2.7.13\\lib\\site-packages\\hyperopt\\base.py\", line 840, in evaluate\n    rval = self.fn(pyll_rval)\n  File \"c:\\users\\astupidbear\\documents\\codes\\julia\\hpsklearn\\deps\\hyperopt-sklearn\\hpsklearn\\estimator.py\", line 564, in fn_with_timeout\n    th.start()\n  File \"C:\\PortableSoftware\\Scoop\\apps\\python27\\2.7.13\\lib\\multiprocessing\\process.py\", line 130, in start\n    self._popen = Popen(self)\n  File \"C:\\PortableSoftware\\Scoop\\apps\\python27\\2.7.13\\lib\\multiprocessing\\forking.py\", line 280, in __init__\n    to_child.close()\n",
     "output_type": "error",
     "traceback": [
      "PyError (:PyObject_Call) <type 'exceptions.IOError'>\nIOError(22, 'Invalid argument')\n  File \"c:\\users\\astupidbear\\documents\\codes\\julia\\hpsklearn\\deps\\hyperopt-sklearn\\hpsklearn\\estimator.py\", line 705, in fit\n    fit_iter.send(increment)\n  File \"c:\\users\\astupidbear\\documents\\codes\\julia\\hpsklearn\\deps\\hyperopt-sklearn\\hpsklearn\\estimator.py\", line 616, in fit_iter\n    return_argmin=False, # -- in case no success so far\n  File \"C:\\PortableSoftware\\Scoop\\apps\\python27\\2.7.13\\lib\\site-packages\\hyperopt\\fmin.py\", line 307, in fmin\n    return_argmin=return_argmin,\n  File \"C:\\PortableSoftware\\Scoop\\apps\\python27\\2.7.13\\lib\\site-packages\\hyperopt\\base.py\", line 635, in fmin\n    return_argmin=return_argmin)\n  File \"C:\\PortableSoftware\\Scoop\\apps\\python27\\2.7.13\\lib\\site-packages\\hyperopt\\fmin.py\", line 320, in fmin\n    rval.exhaust()\n  File \"C:\\PortableSoftware\\Scoop\\apps\\python27\\2.7.13\\lib\\site-packages\\hyperopt\\fmin.py\", line 199, in exhaust\n    self.run(self.maxevals - n_done, block_until_done=self.async)\n  File \"C:\\PortableSoftware\\Scoop\\apps\\python27\\2.7.13\\lib\\site-packages\\hyperopt\\fmin.py\", line 173, in run\n    self.serial_evaluate()\n  File \"C:\\PortableSoftware\\Scoop\\apps\\python27\\2.7.13\\lib\\site-packages\\hyperopt\\fmin.py\", line 92, in serial_evaluate\n    result = self.domain.evaluate(spec, ctrl)\n  File \"C:\\PortableSoftware\\Scoop\\apps\\python27\\2.7.13\\lib\\site-packages\\hyperopt\\base.py\", line 840, in evaluate\n    rval = self.fn(pyll_rval)\n  File \"c:\\users\\astupidbear\\documents\\codes\\julia\\hpsklearn\\deps\\hyperopt-sklearn\\hpsklearn\\estimator.py\", line 564, in fn_with_timeout\n    th.start()\n  File \"C:\\PortableSoftware\\Scoop\\apps\\python27\\2.7.13\\lib\\multiprocessing\\process.py\", line 130, in start\n    self._popen = Popen(self)\n  File \"C:\\PortableSoftware\\Scoop\\apps\\python27\\2.7.13\\lib\\multiprocessing\\forking.py\", line 280, in __init__\n    to_child.close()\n",
      "",
      " in pyerr_check at C:\\PortableSoftware\\Scoop\\apps\\julia\\pkgs-0.5.0\\v0.5\\PyCall\\src\\exception.jl:56 [inlined]",
      " in pyerr_check at C:\\PortableSoftware\\Scoop\\apps\\julia\\pkgs-0.5.0\\v0.5\\PyCall\\src\\exception.jl:61 [inlined]",
      " in macro expansion at C:\\PortableSoftware\\Scoop\\apps\\julia\\pkgs-0.5.0\\v0.5\\PyCall\\src\\exception.jl:81 [inlined]",
      " in #_pycall#66(::Array{Any,1}, ::Function, ::PyCall.PyObject, ::Array{Float64,2}, ::Vararg{Array{Float64,2},N}) at C:\\PortableSoftware\\Scoop\\apps\\julia\\pkgs-0.5.0\\v0.5\\PyCall\\src\\PyCall.jl:550",
      " in _pycall(::PyCall.PyObject, ::Array{Float64,2}, ::Vararg{Array{Float64,2},N}) at C:\\PortableSoftware\\Scoop\\apps\\julia\\pkgs-0.5.0\\v0.5\\PyCall\\src\\PyCall.jl:538",
      " in #pycall#70(::Array{Any,1}, ::Function, ::PyCall.PyObject, ::Type{PyCall.PyAny}, ::Array{Float64,2}, ::Vararg{Array{Float64,2},N}) at C:\\PortableSoftware\\Scoop\\apps\\julia\\pkgs-0.5.0\\v0.5\\PyCall\\src\\PyCall.jl:572",
      " in pycall(::PyCall.PyObject, ::Type{PyCall.PyAny}, ::Array{Float64,2}, ::Vararg{Array{Float64,2},N}) at C:\\PortableSoftware\\Scoop\\apps\\julia\\pkgs-0.5.0\\v0.5\\PyCall\\src\\PyCall.jl:572",
      " in #call#71(::Array{Any,1}, ::PyCall.PyObject, ::Array{Float64,2}, ::Vararg{Array{Float64,2},N}) at C:\\PortableSoftware\\Scoop\\apps\\julia\\pkgs-0.5.0\\v0.5\\PyCall\\src\\PyCall.jl:575",
      " in (::PyCall.PyObject)(::Array{Float64,2}, ::Vararg{Array{Float64,2},N}) at C:\\PortableSoftware\\Scoop\\apps\\julia\\pkgs-0.5.0\\v0.5\\PyCall\\src\\PyCall.jl:575",
      " in #fit!#21(::Array{Any,1}, ::Function, ::PyCall.PyObject, ::Array{Float64,2}, ::Vararg{Array{Float64,2},N}) at C:\\PortableSoftware\\Scoop\\apps\\julia\\pkgs-0.5.0\\v0.5\\ScikitLearn\\src\\Skcore.jl:95",
      " in fit!(::PyCall.PyObject, ::Array{Float64,2}, ::Array{Float64,2}) at C:\\Users\\AStupidBear\\Documents\\Codes\\Julia\\Hpsklearn\\Hpsklearn.jl:56"
     ]
    }
   ],
   "source": [
    "reload(\"Hpsklearn\")\n",
    "reg = Hpsklearn.Regressor(maxevals=4)\n",
    "X = linspace(0, 6, 100)''\n",
    "y = (sin(X) + sin(6X) + 0.1randn(size(X, 1)))''\n",
    "Hpsklearn.fit!(reg, X, y)"
   ]
  },
  {
   "cell_type": "code",
   "execution_count": null,
   "metadata": {
    "collapsed": true
   },
   "outputs": [],
   "source": []
  }
 ],
 "metadata": {
  "kernelspec": {
   "display_name": "Julia 0.5.0",
   "language": "julia",
   "name": "julia-0.5"
  },
  "language_info": {
   "file_extension": ".jl",
   "mimetype": "application/julia",
   "name": "julia",
   "version": "0.5.0"
  }
 },
 "nbformat": 4,
 "nbformat_minor": 2
}
