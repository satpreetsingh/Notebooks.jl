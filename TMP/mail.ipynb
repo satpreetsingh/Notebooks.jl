{
 "cells": [
  {
   "cell_type": "code",
   "execution_count": null,
   "metadata": {
    "collapsed": false
   },
   "outputs": [],
   "source": [
    "from email import encoders\n",
    "from email.header import Header\n",
    "from email.MIMEBase import MIMEBase\n",
    "from email.MIMEText import MIMEText\n",
    "from email.MIMEMultipart  import MIMEMultipart\n",
    "from email.utils import parseaddr, formataddr\n",
    "\n",
    "import smtplib\n",
    "\n",
    "def _format_addr(s):\n",
    "    name, addr = parseaddr(s)\n",
    "    return formataddr((Header(name, 'utf-8').encode(), addr))\n",
    "\n",
    "from_addr = \"luandui005316391@163.com\"\n",
    "password = \"yuanchensiduan\"\n",
    "to_addrs = [\"luyaocns@163.com\"]\n",
    "smtp_server = \"smtp.163.com\"\n",
    "\n",
    "msg = MIMEMultipart()\n",
    "\n",
    "# 邮件正文是MIMEText:\n",
    "part = MIMEText('send with file...', 'plain', 'utf-8')\n",
    "msg.attach(part)\n",
    "\n",
    "# Attachment\n",
    "filename = \"Bear.jpg\"\n",
    "attachment = open(\"Bear.jpg\", \"rb\")\n",
    "part = MIMEBase('application', 'octet-stream')\n",
    "part.set_payload(attachment.read())\n",
    "encoders.encode_base64(part)\n",
    "part.add_header('Content-Disposition', \"attachment; filename= %s\" % filename)\n",
    "msg.attach(part)\n",
    "\n",
    "msg['From'] = _format_addr('GrizzlyBear <%s>' % from_addr)\n",
    "msg['To'] = _format_addr('Demon <%s>' % to_addrs[0])\n",
    "msg['Subject'] = Header('International Conference', 'utf-8').encode()\n",
    "\n",
    "server = smtplib.SMTP(smtp_server, 25)\n",
    "# server.set_debuglevel(1)\n",
    "server.login(from_addr, password)\n",
    "server.sendmail(from_addr, to_addrs, msg.as_string())\n",
    "server.quit()"
   ]
  },
  {
   "cell_type": "code",
   "execution_count": null,
   "metadata": {
    "collapsed": true
   },
   "outputs": [],
   "source": [
    "from email import encoders\n",
    "from email.header import Header\n",
    "from email.mime.base import MIMEBase\n",
    "from email.mime.text import MIMEText\n",
    "from email.mime.multipart  import MIMEMultipart\n",
    "from email.utils import parseaddr, formataddr\n",
    "\n",
    "import smtplib\n",
    "\n",
    "def _format_addr(s):\n",
    "    name, addr = parseaddr(s)\n",
    "    return formataddr((Header(name, 'utf-8').encode(), addr))\n",
    "\n",
    "from_addr = \"luandui005316391@163.com\"\n",
    "password = \"yuanchensiduan\"\n",
    "to_addrs = [\"luyaocns@163.com\"]\n",
    "smtp_server = \"smtp.163.com\"\n",
    "\n",
    "msg = MIMEMultipart()\n",
    "\n",
    "# 邮件正文是MIMEText:\n",
    "part = MIMEText('send with file...', 'plain', 'utf-8')\n",
    "msg.attach(part)\n",
    "\n",
    "# Attachment\n",
    "filename = \"Bear.jpg\"\n",
    "attachment = open(\"Bear.jpg\", \"rb\")\n",
    "part = MIMEBase('application', 'octet-stream')\n",
    "part.set_payload(attachment.read())\n",
    "encoders.encode_base64(part)\n",
    "part.add_header('Content-Disposition', \"attachment; filename= %s\" % filename)\n",
    "msg.attach(part)\n",
    "\n",
    "msg['From'] = _format_addr('GrizzlyBear <%s>' % from_addr)\n",
    "msg['To'] = _format_addr('Demon <%s>' % to_addrs[0])\n",
    "msg['Subject'] = Header('International Conference', 'utf-8').encode()\n",
    "\n",
    "server = smtplib.SMTP(smtp_server, 25)\n",
    "\n",
    "server.set_debuglevel(1)\n",
    "\n",
    "server.login(from_addr, password)\n",
    "\n",
    "server.sendmail(from_addr, to_addrs, msg.as_string())\n",
    "server.quit()"
   ]
  },
  {
   "cell_type": "code",
   "execution_count": null,
   "metadata": {
    "collapsed": true
   },
   "outputs": [],
   "source": []
  }
 ],
 "metadata": {
  "anaconda-cloud": {},
  "kernelspec": {
   "display_name": "Python 3",
   "language": "python",
   "name": "python3"
  },
  "language_info": {
   "codemirror_mode": {
    "name": "ipython",
    "version": 3
   },
   "file_extension": ".py",
   "mimetype": "text/x-python",
   "name": "python",
   "nbconvert_exporter": "python",
   "pygments_lexer": "ipython3",
   "version": "3.4.4"
  }
 },
 "nbformat": 4,
 "nbformat_minor": 1
}
