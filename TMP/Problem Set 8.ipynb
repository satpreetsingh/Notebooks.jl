{
 "cells": [
  {
   "cell_type": "markdown",
   "metadata": {},
   "source": [
    "# Zeta Function"
   ]
  },
  {
   "cell_type": "code",
   "execution_count": 1,
   "metadata": {
    "ExecuteTime": {
     "end_time": "2016-12-27T09:33:44.791353",
     "start_time": "2016-12-27T01:33:51.287Z"
    },
    "collapsed": false
   },
   "outputs": [
    {
     "data": {
      "text/plain": [
       "ζ2 (generic function with 1 method)"
      ]
     },
     "execution_count": 1,
     "metadata": {},
     "output_type": "execute_result"
    }
   ],
   "source": [
    "using FastArrays\n",
    "\n",
    "function Bernoulli(m::Integer)\n",
    "  B = FastArray(0:m){Float64}(:)\n",
    "  fill!(B, 0)\n",
    "  B[0] = 1\n",
    "  for n in 1:m\n",
    "    B[n] = 1 - sum(binomial(n, k) * B[k] / (n-k+1) for k in 0:n-1)\n",
    "  end\n",
    "  B[m]\n",
    "end\n",
    "\n",
    "function opt_truc(f::Function, n::Integer=1)\n",
    "    s = 0 # sum of series\n",
    "    a = f(n) # a[n]\n",
    "    a_post = f(n+1) # a[n+1]\n",
    "    while abs(a_post) < abs(a)\n",
    "        s += a\n",
    "        n += 1\n",
    "        a = a_post\n",
    "        a_post = f(n+1)\n",
    "    end\n",
    "    s\n",
    "end\n",
    "\n",
    "function ζ1(s, N)\n",
    "  sum(1/n^s for n = 1:N)\n",
    "end\n",
    "\n",
    "function ζ2(s, N)\n",
    "  sum(1/n^s for n = 1:N) + 1/((s-1)*N^(s-1)) - 1/(2*N^s) +\n",
    "  opt_truc(n -> Bernoulli(2n) / gamma(2n+1) / N^(s+2n-1) * gamma(s+2n-1) / gamma(s))\n",
    "end"
   ]
  },
  {
   "cell_type": "markdown",
   "metadata": {},
   "source": [
    "输出结果左边是ζ1, 右边是ζ2"
   ]
  },
  {
   "cell_type": "code",
   "execution_count": 2,
   "metadata": {
    "ExecuteTime": {
     "end_time": "2016-12-27T09:33:48.189049",
     "start_time": "2016-12-27T01:33:51.301Z"
    },
    "collapsed": false,
    "run_control": {
     "frozen": false,
     "read_only": false
    }
   },
   "outputs": [
    {
     "data": {
      "text/plain": [
       "5×2 Array{Float64,2}:\n",
       " 0.644934   0.0116007  \n",
       " 0.394934  -1.54986e-5 \n",
       " 0.283823   2.40479e-8 \n",
       " 0.221323  -3.9371e-11 \n",
       " 0.181323   1.12133e-13"
      ]
     },
     "execution_count": 2,
     "metadata": {},
     "output_type": "execute_result"
    }
   ],
   "source": [
    "err = zeros(5,2)\n",
    "for N = 1:5\n",
    "  err[N, 1] = zeta(2) - ζ1(2, N)\n",
    "  err[N, 2] = zeta(2) - ζ2(2, N)\n",
    "end\n",
    "err"
   ]
  },
  {
   "cell_type": "markdown",
   "metadata": {},
   "source": [
    "# Airy Function"
   ]
  },
  {
   "cell_type": "code",
   "execution_count": 3,
   "metadata": {
    "ExecuteTime": {
     "end_time": "2016-12-27T09:33:48.193721",
     "start_time": "2016-12-27T01:33:51.310Z"
    },
    "collapsed": false
   },
   "outputs": [
    {
     "data": {
      "text/plain": [
       "Ai2 (generic function with 1 method)"
      ]
     },
     "execution_count": 3,
     "metadata": {},
     "output_type": "execute_result"
    }
   ],
   "source": [
    "a(n) = (-3/4)^n * gamma(n + 5/6) * gamma(n + 1/6) / 2π / gamma(n+1)\n",
    "\n",
    "function Ai1(x)\n",
    "  exp(-2/3 * x^(3/2)) / (2*√π * x^(1/4)) *\n",
    "  opt_truc(n -> a(n) * x^(-3n/2), 0)\n",
    "end\n",
    "\n",
    "function Ai2(x)\n",
    "  Ai1(x) +\n",
    "  1im * exp(2/3 * x^(3/2)) / (2*√π * x^(1/4)) *\n",
    "  opt_truc(n -> (-1)^n * a(n) * x^(-3/2 * n), 0)\n",
    "end"
   ]
  },
  {
   "cell_type": "markdown",
   "metadata": {},
   "source": [
    "第一行是airy函数精确值, 第二行是一个级数结果, 第三行是两个级数结果。比较二三行与第一行的值，可以看出符合题目的描述。"
   ]
  },
  {
   "cell_type": "code",
   "execution_count": 4,
   "metadata": {
    "ExecuteTime": {
     "end_time": "2016-12-27T09:33:49.006498",
     "start_time": "2016-12-27T01:33:51.316Z"
    },
    "collapsed": false
   },
   "outputs": [
    {
     "name": "stdout",
     "output_type": "stream",
     "text": [
      "Complex{Float64}[29.9015+21.6778im,284.832-164.448im,-3.82315-36.7335im]\n",
      "Complex{Float64}[29.9015+21.6778im,284.832-164.448im,-3.82281-36.7344im]\n",
      "Complex{Float64}[29.9024+21.678im,284.832-164.448im,-3.82315-36.7335im]\n"
     ]
    }
   ],
   "source": [
    "κ = [π/2, 2π/3, 5π/6]\n",
    "x = 5exp(κ*im)\n",
    "println(airy(x))\n",
    "println(Ai1.(x))\n",
    "println(Ai2.(x))"
   ]
  }
 ],
 "metadata": {
  "kernelspec": {
   "display_name": "Julia 0.5.0",
   "language": "julia",
   "name": "julia-0.5"
  },
  "language_info": {
   "file_extension": ".jl",
   "mimetype": "application/julia",
   "name": "julia",
   "version": "0.5.0"
  }
 },
 "nbformat": 4,
 "nbformat_minor": 0
}
