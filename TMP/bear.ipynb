{
 "cells": [
  {
   "cell_type": "code",
   "execution_count": 1,
   "metadata": {
    "ExecuteTime": {
     "end_time": "2016-11-05T13:26:10.703519",
     "start_time": "2016-11-05T05:26:22.435Z"
    },
    "collapsed": true,
    "run_control": {
     "frozen": false,
     "read_only": false
    }
   },
   "outputs": [],
   "source": [
    "using IDebug"
   ]
  },
  {
   "cell_type": "code",
   "execution_count": 2,
   "metadata": {
    "ExecuteTime": {
     "end_time": "2016-11-05T13:26:11.688377",
     "start_time": "2016-11-05T05:26:23.896Z"
    },
    "collapsed": false,
    "run_control": {
     "frozen": false,
     "read_only": false
    }
   },
   "outputs": [
    {
     "data": {
      "text/plain": [
       "foo (generic function with 1 method)"
      ]
     },
     "execution_count": 2,
     "metadata": {},
     "output_type": "execute_result"
    }
   ],
   "source": [
    "function foo(x)\n",
    "    for i=1:100\n",
    "        @bp x+=sin(1)\n",
    "    end\n",
    "    @bp x\n",
    "end"
   ]
  },
  {
   "cell_type": "code",
   "execution_count": 3,
   "metadata": {
    "ExecuteTime": {
     "end_time": "2016-11-05T13:26:13.319177",
     "start_time": "2016-11-05T05:26:24.975Z"
    },
    "collapsed": false,
    "run_control": {
     "frozen": false,
     "read_only": false
    }
   },
   "outputs": [
    {
     "name": "stdout",
     "output_type": "stream",
     "text": [
      "using Gallium, IDebug\n",
      "begin  # /home/rluser/.julia/v0.5/IDebug/src/IDebug.jl, line 44:\n",
      "    cd(\"/home/hdd1/YaoLu/Backup/tmp\") # /home/rluser/.julia/v0.5/IDebug/src/IDebug.jl, line 45:\n",
      "    (code,lines) = IDebug.nbinclude_string(\"bear.ipynb\") # /home/rluser/.julia/v0.5/IDebug/src/IDebug.jl, line 46:\n",
      "    write(\"test.jl\",code) # /home/rluser/.julia/v0.5/IDebug/src/IDebug.jl, line 48:\n",
      "    for line = lines # /home/rluser/.julia/v0.5/IDebug/src/IDebug.jl, line 49:\n",
      "        Gallium.breakpoint(\"test.jl\",line)\n",
      "    end # /home/rluser/.julia/v0.5/IDebug/src/IDebug.jl, line 51:\n",
      "    include(\"test.jl\") # /home/rluser/.julia/v0.5/IDebug/src/IDebug.jl, line 52:\n",
      "    @enter foo(1)\n",
      "end\n"
     ]
    }
   ],
   "source": [
    "@debug \"bear.ipynb\" @enter foo(1)"
   ]
  },
  {
   "cell_type": "code",
   "execution_count": null,
   "metadata": {
    "collapsed": true,
    "run_control": {
     "frozen": false,
     "read_only": false
    }
   },
   "outputs": [],
   "source": []
  }
 ],
 "metadata": {
  "kernelspec": {
   "display_name": "Julia 0.5.0",
   "language": "julia",
   "name": "julia-0.5"
  },
  "language_info": {
   "file_extension": ".jl",
   "mimetype": "application/julia",
   "name": "julia",
   "version": "0.5.0"
  }
 },
 "nbformat": 4,
 "nbformat_minor": 0
}
