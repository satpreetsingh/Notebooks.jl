{
 "cells": [
  {
   "cell_type": "code",
   "execution_count": 1,
   "metadata": {
    "ExecuteTime": {
     "end_time": "2016-11-06T22:11:21.740729",
     "start_time": "2016-11-06T14:11:23.901Z"
    },
    "collapsed": false,
    "run_control": {
     "frozen": false,
     "read_only": false
    }
   },
   "outputs": [
    {
     "name": "stdout",
     "output_type": "stream",
     "text": [
      "The number is 52\n"
     ]
    }
   ],
   "source": [
    "using Cxx\n",
    "\n",
    "\n",
    "cxx\"\"\" #include<iostream> \"\"\"  \n",
    "\n",
    "cxx\"\"\"  \n",
    " void mycppfunction() {   \n",
    "    int z = 0;\n",
    "    int y = 5;\n",
    "    int x = 10;\n",
    "    z = x*y + 2;\n",
    "    std::cout << \"The number is \" << z << std::endl;\n",
    " }\n",
    "\"\"\"\n",
    "\n",
    "julia_function() = @cxx mycppfunction()\n",
    "\n",
    "julia_function()\n"
   ]
  },
  {
   "cell_type": "code",
   "execution_count": null,
   "metadata": {
    "collapsed": true
   },
   "outputs": [],
   "source": []
  }
 ],
 "metadata": {
  "kernelspec": {
   "display_name": "Julia 0.5.0",
   "language": "julia",
   "name": "julia-0.5"
  },
  "language_info": {
   "file_extension": ".jl",
   "mimetype": "application/julia",
   "name": "julia",
   "version": "0.5.0"
  }
 },
 "nbformat": 4,
 "nbformat_minor": 0
}
