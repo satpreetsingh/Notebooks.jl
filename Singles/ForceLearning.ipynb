{
 "cells": [
  {
   "cell_type": "markdown",
   "metadata": {},
   "source": [
    "## Reporter: 路遥"
   ]
  },
  {
   "cell_type": "markdown",
   "metadata": {},
   "source": [
    "# Generating Coherent Patterns of Activity from Chaotic Neural Networks. \n",
    "### D. Sussillo and L.F. Abbott, (2009) Neuron 63:544-557.\n",
    "\n",
    "### Method:\n",
    "- Stability Analysis of ODE\n",
    "- Random Matrix Theory\n",
    "- Recursive Least Square (RLS)"
   ]
  },
  {
   "cell_type": "markdown",
   "metadata": {},
   "source": [
    "## 1. Model Description (courtesy to Larry Abbott)"
   ]
  },
  {
   "cell_type": "markdown",
   "metadata": {},
   "source": [
    "<img  src=\"https://raw.githubusercontent.com/AStupidBear/Pictures/master/ForceLearning/fl_diagram.png\"/>"
   ]
  },
  {
   "cell_type": "markdown",
   "metadata": {
    "nbpresent": {
     "id": "fb65882b-6ce6-4e1f-8b04-962ec670cbdf"
    }
   },
   "source": [
    "## 2. Dynamics Analysis"
   ]
  },
  {
   "cell_type": "markdown",
   "metadata": {},
   "source": [
    "### \\begin{align*} & \\dfrac {dx_{i}} {dt}=-x_{i}+\\sum _{j}J_{ij}r_{j}+u_{i}z\\\\ & r_{j}=\\tanh \\left( x_{j}\\right) \\\\ & z=\\sum _{j}w_{j}r_{j}\\end{align*} \n"
   ]
  },
  {
   "cell_type": "code",
   "execution_count": null,
   "metadata": {
    "ExecuteTime": {
     "end_time": "2016-12-04T08:19:14.229638",
     "start_time": "2016-12-04T00:19:10.587Z"
    },
    "collapsed": true
   },
   "outputs": [],
   "source": [
    "gr(); using Interact"
   ]
  },
  {
   "cell_type": "markdown",
   "metadata": {},
   "source": [
    "### Stability Analysis\n",
    "$eig(I-J)$, $J_{ij}\\sim g N\\left( 0,\\dfrac {1} {N}\\right)$"
   ]
  },
  {
   "cell_type": "code",
   "execution_count": null,
   "metadata": {
    "ExecuteTime": {
     "end_time": "2016-12-04T08:19:40.356887",
     "start_time": "2016-12-04T00:19:26.842Z"
    },
    "collapsed": false
   },
   "outputs": [],
   "source": [
    "N =1000\n",
    "@manipulate for g=0.4:0.2:1.5\n",
    "J = g*1/√N*randn(N,N);\n",
    "z = eigvals(J)\n",
    "x = real.(z)\n",
    "y = imag.(z)\n",
    "scatter(x, y, xlims=[-2,2],ylims=[-2,2],leg=:none)\n",
    "vline!([1])\n",
    "end"
   ]
  },
  {
   "cell_type": "markdown",
   "metadata": {
    "nbpresent": {
     "id": "04534fad-cb50-49f4-9ef6-61de9cf22355"
    }
   },
   "source": [
    "### As $g$ surpass 1, the system gradually become chaotic instantaneously. \n",
    "H. Sompolinsky, A. Crisanti, and H. J. Sommers (1988) Phys. Rev. Lett. 61, 259"
   ]
  },
  {
   "cell_type": "code",
   "execution_count": null,
   "metadata": {
    "ExecuteTime": {
     "end_time": "2016-12-04T08:23:32.799655",
     "start_time": "2016-12-04T00:22:49.641Z"
    },
    "collapsed": false,
    "nbpresent": {
     "id": "41c2933d-3015-4988-8972-ab7debcf0394"
    },
    "run_control": {
     "frozen": false,
     "read_only": false
    }
   },
   "outputs": [],
   "source": [
    "function test(g)\n",
    "    N = 1000\n",
    "    Δt = 0.1\n",
    "    T = 5000\n",
    "    J = 1/√N*randn(N,N)\n",
    "    x = 2*rand(N, T)-1\n",
    "    for t = 1:T-1\n",
    "        x[:,t+1] = (1-Δt)x[:,t] + Δt*g*J*tanh(x[:,t])\n",
    "    end\n",
    "    x[1,:]\n",
    "end\n",
    "\n",
    "for g =0.8:0.2:1.4\n",
    "    plot(test(g)) |> display\n",
    "end"
   ]
  },
  {
   "cell_type": "markdown",
   "metadata": {
    "nbpresent": {
     "id": "63fd8c86-848b-4598-9fc5-09242cd10087"
    }
   },
   "source": [
    "### When the system is driven by $A \\cos \\left( \\omega t\\right)$, it behaves periodically."
   ]
  },
  {
   "cell_type": "code",
   "execution_count": null,
   "metadata": {
    "ExecuteTime": {
     "end_time": "2016-12-04T08:23:52.903176",
     "start_time": "2016-12-04T00:23:51.422Z"
    },
    "collapsed": false,
    "hide_input": false,
    "nbpresent": {
     "id": "1260b551-cb6d-46c1-ae87-b8c654b1e969"
    },
    "run_control": {
     "frozen": false,
     "read_only": false
    }
   },
   "outputs": [],
   "source": [
    "function test(A, ω)\n",
    "    N = 1000\n",
    "    Δt = 0.1\n",
    "    T = 1000\n",
    "    J = 1/√N*randn(N,N);\n",
    "    g = 1.5\n",
    "    ω = 1\n",
    "    u = 2*rand(N)-1\n",
    "    x = 2*rand(N, T)-1\n",
    "    for t = 1:T-1\n",
    "        x[:,t+1] = (1-Δt)x[:,t] + Δt*(g*J*tanh(x[:,t]) + u*A*cos(ω*t*Δt))\n",
    "    end\n",
    "    x[100,:]\n",
    "end\n",
    "@manipulate for A = 0:0.5:3, ω = 0:0.5:2\n",
    "    plot(test(A, ω))\n",
    "end"
   ]
  },
  {
   "cell_type": "markdown",
   "metadata": {
    "nbpresent": {
     "id": "61275d5d-f190-46d8-8f71-ecb87392d531"
    }
   },
   "source": [
    "## 3. Force Learning"
   ]
  },
  {
   "cell_type": "markdown",
   "metadata": {
    "hide_input": true
   },
   "source": [
    "Define $\\left\\langle x\\left( t\\right) \\right\\rangle =\\int _{0}^{T}x\\left( t\\right) dt$, denote $C=\\left\\langle rr^{T}\\right\\rangle$, $D=\\left\\langle fr\\right\\rangle $, $P=C^{-1}$\n",
    "\n",
    "### \\begin{align*} & E=\\dfrac {1} {2}\\int _{0}^{T}\\left( z\\left( t\\right) -f\\left( t\\right) \\right) ^{2}dt\\\\ & \\dfrac {\\partial E} {\\partial w_{i}}=\\sum _{j}C_{ij}w_{j}-D_{i}=0\\\\ & w=PD\\end{align*} \n",
    "\n",
    "According to RLS,\n",
    "### \\begin{align*} & \\Delta P=\\dfrac {-Prr^{T}P} {1+r^{T}\\Pr }\\\\ & \\Delta D=fr\\\\ & \\Delta w=\\left( f-r^{T}w\\right) P r \\end{align*} \n",
    "\n",
    "We choose initial condition to be \n",
    "\n",
    "### $$P_{0}=\\alpha I$$"
   ]
  },
  {
   "cell_type": "markdown",
   "metadata": {
    "hide_input": true
   },
   "source": [
    "<img  src=\"https://raw.githubusercontent.com/AStupidBear/Pictures/master/ForceLearning/derivition_1.png\"/>\n",
    "<img  src=\"https://raw.githubusercontent.com/AStupidBear/Pictures/master/ForceLearning/derivition_2.png\"/>"
   ]
  },
  {
   "cell_type": "code",
   "execution_count": null,
   "metadata": {
    "ExecuteTime": {
     "end_time": "2016-12-03T13:21:22.643251",
     "start_time": "2016-12-03T05:21:17.422Z"
    },
    "collapsed": false,
    "hide_input": false,
    "run_control": {
     "frozen": false,
     "read_only": false
    },
    "scrolled": false
   },
   "outputs": [],
   "source": [
    "import ForceLearning\n",
    "t = 0:0.1:1440\n",
    "A = 1.3;\n",
    "fr = 1/60;\n",
    "f = (A/1.0)*sin(1π*fr*t) +\n",
    "      (A/2.0)*sin(2π*fr*t) +\n",
    "      (A/6.0)*sin(3π*fr*t) +\n",
    "      (A/3.0)*sin(4π*fr*t)\n",
    "f = f/1.5\n",
    "@time net = ForceLearning.force(t, f)\n",
    "z = net.records[:z]\n",
    "plot([f z])"
   ]
  },
  {
   "cell_type": "markdown",
   "metadata": {},
   "source": [
    "## 4. Relationship to RNN ( Recurrent Neural Networks)\n",
    "\n",
    "- Structure is a subcategory of RNN\n",
    "- Use RLS, not BPTT to train"
   ]
  },
  {
   "cell_type": "markdown",
   "metadata": {},
   "source": [
    "##### <img  src=\"https://raw.githubusercontent.com/AStupidBear/Pictures/master/ForceLearning/rnn_fl_comparison.png\"/>"
   ]
  },
  {
   "cell_type": "markdown",
   "metadata": {},
   "source": [
    "## 5. Conclusions\n",
    "\n",
    "- Pros\n",
    " - Easy to implement\n",
    " - Fast\n",
    " - Online, therefore more biologically plausible\n",
    "- Cons\n",
    " - Less flexible and powerful compared to RNN\n",
    " - No long term memory compared to LSTM"
   ]
  }
 ],
 "metadata": {
  "kernelspec": {
   "display_name": "Julia 0.5.0",
   "language": "julia",
   "name": "julia-0.5"
  },
  "language_info": {
   "file_extension": ".jl",
   "mimetype": "application/julia",
   "name": "julia",
   "version": "0.5.0"
  },
  "nbpresent": {
   "slides": {
    "fdcc7372-103d-4672-aadb-26ce0ed2fb8c": {
     "id": "fdcc7372-103d-4672-aadb-26ce0ed2fb8c",
     "prev": null,
     "regions": {
      "0ae59448-8252-42a3-a11d-e7ebe7f83e46": {
       "attrs": {
        "height": 1,
        "width": 1,
        "x": 0,
        "y": 0
       },
       "content": {
        "cell": "3690ea79-731e-412e-a72d-1f460fb0e073",
        "part": "source"
       },
       "id": "0ae59448-8252-42a3-a11d-e7ebe7f83e46"
      }
     }
    }
   },
   "themes": {}
  }
 },
 "nbformat": 4,
 "nbformat_minor": 0
}
