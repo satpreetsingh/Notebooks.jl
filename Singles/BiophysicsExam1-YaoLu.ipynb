{
 "cells": [
  {
   "cell_type": "markdown",
   "metadata": {},
   "source": [
    "## 1\n",
    "在讲第九章第6节时我们以氧和血红蛋白为例推导了希尔方程。这里我们考虑同时有一氧化碳存在的情况。一氧化碳与血红蛋白的结合强度是氧气的240倍（这表示CO的解离常数是O2的1/240，也即240Kd,CO=Kd,O2，其中Kd,O2 = 26mmHg），它是一种致命气体。 \n",
    "\n",
    "解离常数定义如下：对反应nL + R -> LnR,  (Kd,L)n = [L]n[R]/[LnR]。\n",
    "\n",
    "(1). 当CO与O2同时存在时，推导此时的希尔方程来计算血红蛋白结合氧气的概率。类似地，计算血红蛋白与CO结合的概率。计算氧分压时使用大气中氧气含量约为21%的事实，并已知CO的分压为2mmHg。血红蛋白和CO结合的希尔系数为1.4，与O2结合的希尔系数为3.0。\n",
    "\n",
    "(2). 假设氧分压不变，当CO分压为何值时，CO和O2具有相同的与血红蛋白结合概率？"
   ]
  },
  {
   "cell_type": "markdown",
   "metadata": {},
   "source": [
    "<img src=\"https://raw.githubusercontent.com/AStupidBear/Pictures/master/BiophysicsExam/1.png\">"
   ]
  },
  {
   "cell_type": "markdown",
   "metadata": {},
   "source": [
    "## 2\n",
    "大肠杆菌在水中转动螺旋的鞭毛以产生向前运动的推力，我们在第5章课堂上做了这个受力分析。大肠杆菌正常情况下以20m/s的速度游动。如果马达改为比正常情况下转动快10倍，大肠杆菌的游动速度如何改变？如果它们周围的流体黏度增加到10倍，马达仍旧以正常速度转动，它们的游动速度又如何？在这两种情况下马达的功率输出如何改变？"
   ]
  },
  {
   "cell_type": "markdown",
   "metadata": {},
   "source": [
    "<img src=\"https://raw.githubusercontent.com/AStupidBear/Pictures/master/BiophysicsExam/2.png\">"
   ]
  },
  {
   "cell_type": "markdown",
   "metadata": {},
   "source": [
    "## 3. 大肠杆菌的趋化运动。\n",
    "\n",
    "在趋化实验中，营养物质分子由微吸管引入到含有细菌的溶液中。营养分子向外扩散产生了位置依赖的浓度梯度，通过显微镜我们就可以观测细菌的趋化响应。\n",
    "\n",
    "(1). 计算稳态下营养物质浓度梯度随离开微吸管距离r的关系，假定当rr0时，浓度固定为c0。典型值为c0=1mM，r0=1m。(提示：稳态，球对称，边界条件c(r=r0)=c0)。\n",
    "\n",
    "(2). 假定细菌对于浓度做出两次测量，一次是通过一端的受体蛋白阵列，另一次是通过另一端的受体蛋白阵列。估算细菌仍然能够检测出浓度梯度时离营养源的最大距离，假设受体蛋白阵列能够对于边长为100nm的立方体内的分子进行计数。假设细菌长1m。c0和r0值见(1)。(提示：对N个分子的计数误差大约为N1/2)\n",
    "\n",
    "(3). 现在假设采取另一种策略，细菌只利用一端受体，但是它比较其运动轨迹上每隔10m的两点的浓度。计算这种情形下细菌仍然能够检测出浓度梯度时离营养源的最大距离。"
   ]
  },
  {
   "cell_type": "markdown",
   "metadata": {},
   "source": [
    "<img src=\"https://raw.githubusercontent.com/AStupidBear/Pictures/master/BiophysicsExam/3.png\">"
   ]
  },
  {
   "cell_type": "markdown",
   "metadata": {},
   "source": [
    "## 4. 反竞争性抑制\n",
    "\n",
    "(1). 根据Cs, CI,总的酶浓度CEtot及速率常数k1,k-1,k2,k3,k-3，求定态反应速率v。\n",
    "\n",
    "(2). 保持CEtot和CI不变，分析v对Cs的依赖关系是否能表示成米-曼函数形式？此处Vmax和KM是CI的函数。"
   ]
  },
  {
   "cell_type": "markdown",
   "metadata": {},
   "source": [
    "<img src=\"https://raw.githubusercontent.com/AStupidBear/Pictures/master/BiophysicsExam/4.png\">"
   ]
  }
 ],
 "metadata": {
  "kernelspec": {
   "display_name": "Julia 0.5.0",
   "language": "julia",
   "name": "julia-0.5"
  },
  "language_info": {
   "file_extension": ".jl",
   "mimetype": "application/julia",
   "name": "julia",
   "version": "0.5.0"
  }
 },
 "nbformat": 4,
 "nbformat_minor": 1
}
