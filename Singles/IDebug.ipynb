{
 "cells": [
  {
   "cell_type": "code",
   "execution_count": null,
   "metadata": {
    "collapsed": true,
    "run_control": {
     "frozen": false,
     "read_only": false
    }
   },
   "outputs": [],
   "source": [
    "module IDebug\n",
    "\n",
    "export @debug, @bp\n",
    "using JSON\n",
    "\n",
    "macro bp(ex)\n",
    "    return :($(esc(ex)))\n",
    "end\n",
    "\n",
    "function nbinclude_string(path::AbstractString)\n",
    "    codes = []\n",
    "    path = abspath(path)\n",
    "\n",
    "    nb = open(JSON.parse, path, \"r\")\n",
    "\n",
    "    # check for an acceptable notebook:\n",
    "    nb[\"nbformat\"] == 4 || error(\"unrecognized notebook format \", nb[\"nbformat\"])\n",
    "    lang = lowercase(nb[\"metadata\"][\"language_info\"][\"name\"])\n",
    "    lang == \"julia\" || error(\"notebook is for unregognized language $lang\")\n",
    "\n",
    "    shell_or_help = r\"^\\s*[;?]\" # pattern for shell command or help\n",
    "\n",
    "    for cell in nb[\"cells\"]\n",
    "        if cell[\"cell_type\"] == \"code\" && !isempty(cell[\"source\"])\n",
    "            s = join(cell[\"source\"])\n",
    "            isempty(strip(s)) && continue # Jupyter doesn't number empty cellsf\n",
    "            ismatch(shell_or_help, s) && continue\n",
    "            ismatch(r\"IDebug\", s) && continue\n",
    "            ismatch(r\"@debug\", s) && continue\n",
    "            push!(codes,s)\n",
    "        end\n",
    "    end\n",
    "    code = join(codes, '\\n')\n",
    "    lines = []\n",
    "    for (line, str) in enumerate(split(code,'\\n'))\n",
    "        ismatch(r\"@bp\", str) && push!(lines, line) \n",
    "    end\n",
    "    return code, lines\n",
    "end\n",
    "\n",
    "macro debug(ex...)\n",
    "\tprintln(\"using Gallium, IDebug\")\n",
    "    ex = quote\n",
    "    cd($(pwd()))\n",
    "    code, lines = IDebug.nbinclude_string($(ex[1]))\n",
    "    write(\"test.jl\", code)\n",
    "\n",
    "    for line in lines\n",
    "        Gallium.breakpoint(\"test.jl\", line)\n",
    "    end\n",
    "    include(\"test.jl\")\n",
    "    $(ex[2])\n",
    "    end\n",
    "    println(ex)\n",
    "end\n",
    "\n",
    "end # end of module"
   ]
  }
 ],
 "metadata": {
  "kernelspec": {
   "display_name": "Julia 0.5.0",
   "language": "julia",
   "name": "julia-0.5"
  },
  "language_info": {
   "file_extension": ".jl",
   "mimetype": "application/julia",
   "name": "julia",
   "version": "0.5.0"
  }
 },
 "nbformat": 4,
 "nbformat_minor": 0
}
