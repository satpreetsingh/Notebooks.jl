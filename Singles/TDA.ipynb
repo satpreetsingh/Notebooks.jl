{
 "cells": [
  {
   "cell_type": "code",
   "execution_count": null,
   "metadata": {
    "ExecuteTime": {
     "end_time": "2016-11-17T18:48:05.625630",
     "start_time": "2016-11-17T10:48:03.663Z"
    },
    "collapsed": false,
    "run_control": {
     "frozen": false,
     "read_only": false
    }
   },
   "outputs": [],
   "source": [
    "using Gadfly, LightGraphs, Combinatorics"
   ]
  },
  {
   "cell_type": "code",
   "execution_count": null,
   "metadata": {
    "ExecuteTime": {
     "end_time": "2016-11-17T18:48:07.017798",
     "start_time": "2016-11-17T10:48:09.121Z"
    },
    "collapsed": false,
    "run_control": {
     "frozen": false,
     "read_only": false
    },
    "scrolled": true
   },
   "outputs": [],
   "source": [
    "import Base.+\n",
    "+(x::UInt8,y::UInt8) = x $ y \n",
    "isocc(v) = !isempty(v.rowval)\n",
    "top(v) = v.rowval[end]\n",
    "\n",
    "function persistent_homology(∂)\n",
    "    _top = Dict{Int,Int}()\n",
    "    R = SparseMatrixCSC{UInt8,Int64}[∂[:,i] for i=1:size(∂,2)]\n",
    "\n",
    "    for j=1:length(R)\n",
    "        while isocc(R[j]) \n",
    "            i=top(R[j])\n",
    "            if haskey(_top,i)\n",
    "                R[j] += R[_top[i]]\n",
    "            else\n",
    "                _top[i] = j\n",
    "                break\n",
    "            end\n",
    "        end\n",
    "    end\n",
    "    R\n",
    "end\n",
    "\n",
    "function threshold!(a::Dict{Vector{Int},Float64},σ::Vector{Int})  \n",
    "    n = length(σ)\n",
    "    if n == 1\n",
    "        a[σ] = 1e-5\n",
    "    elseif n ==2\n",
    "        a[σ] = D[σ...]\n",
    "    else\n",
    "        r = 0.0\n",
    "        for δ in combinations(σ,n-1)\n",
    "            r = max(r,a[δ])\n",
    "        end\n",
    "        a[σ] = r + 1e-5\n",
    "    end       \n",
    "end"
   ]
  },
  {
   "cell_type": "code",
   "execution_count": null,
   "metadata": {
    "ExecuteTime": {
     "end_time": "2016-11-17T18:48:07.843580",
     "start_time": "2016-11-17T10:48:09.952Z"
    },
    "collapsed": false,
    "run_control": {
     "frozen": false,
     "read_only": false
    }
   },
   "outputs": [],
   "source": [
    "N = 3 # number of pts\n",
    "\n",
    "D = [0 0.8 0.26;\n",
    "    0.8 0 0.4;\n",
    "    0.24 0.4 0]\n",
    "\n",
    "a_max = 3.0 # maximum radius\n",
    "dim_max = 2"
   ]
  },
  {
   "cell_type": "code",
   "execution_count": null,
   "metadata": {
    "ExecuteTime": {
     "end_time": "2016-11-17T18:48:39.936259",
     "start_time": "2016-11-17T10:48:42.251Z"
    },
    "collapsed": false,
    "run_control": {
     "frozen": false,
     "read_only": false
    }
   },
   "outputs": [],
   "source": [
    "N = 30; t = linspace(0,2π,N); x = cos(t); y = sin(t)\n",
    "data = hcat([x y]',[x+3.5 y]')\n",
    "\n",
    "M = size(data, 2)\n",
    "D = zeros(M, M)\n",
    "for i=1:M, j=1:M\n",
    "D[i, j] = norm(data[:,i] - data[:,j])\n",
    "end\n",
    "\n",
    "a_max = 2.0\n",
    "dim_max = 2"
   ]
  },
  {
   "cell_type": "code",
   "execution_count": null,
   "metadata": {
    "ExecuteTime": {
     "end_time": "2016-11-17T18:48:44.047371",
     "start_time": "2016-11-17T10:48:43.021Z"
    },
    "collapsed": false,
    "run_control": {
     "frozen": false,
     "read_only": false
    },
    "scrolled": true
   },
   "outputs": [],
   "source": [
    "g = Graph(Int.(D .< a_max)) # gplot(g) |> display\n",
    "cliques = maximal_cliques(g)\n",
    "dim_max = min(dim_max, maximum(map(length,cliques))-1)\n",
    "\n",
    "filtrations = Array{Array{Int64,1},1}()\n",
    "for dim in 0:dim_max\n",
    "    for clique in cliques\n",
    "          append!(filtrations,collect(combinations(clique,dim+1)))\n",
    "    end\n",
    "end\n",
    "pop!(filtrations)\n",
    "\n",
    "a = Dict{Vector{Int},Float64}() # threshold radius of σs\n",
    "for σ in filtrations\n",
    "    threshold!(a, σ)\n",
    "end\n",
    "\n",
    "p = sortperm(map(x->a[x],filtrations))\n",
    "filtrations = filtrations[p]\n",
    "index = Dict{Vector{Int},Int}()\n",
    "for (i,σ) in enumerate(filtrations)\n",
    "    index[σ] = i\n",
    "end\n",
    "index\n",
    "\n",
    "∂ = spzeros(UInt8,length(filtrations),length(filtrations))\n",
    "for (j,σ) in enumerate(filtrations)\n",
    "    n = length(σ)\n",
    "    if n ==1; continue; end\n",
    "    for δ in combinations(σ,n-1)\n",
    "        ∂[index[δ],j] = one(UInt8)\n",
    "    end\n",
    "end\n",
    "full(Int.(∂));"
   ]
  },
  {
   "cell_type": "code",
   "execution_count": null,
   "metadata": {
    "ExecuteTime": {
     "end_time": "2016-11-17T18:48:59.593151",
     "start_time": "2016-11-17T10:48:48.582Z"
    },
    "collapsed": false,
    "run_control": {
     "frozen": false,
     "read_only": false
    }
   },
   "outputs": [],
   "source": [
    "R = persistent_homology(∂)\n",
    "Int.(full(hcat(R...)));"
   ]
  },
  {
   "cell_type": "code",
   "execution_count": null,
   "metadata": {
    "ExecuteTime": {
     "end_time": "2016-11-17T18:49:02.119053",
     "start_time": "2016-11-17T10:49:04.401Z"
    },
    "collapsed": false,
    "run_control": {
     "frozen": false,
     "read_only": false
    }
   },
   "outputs": [],
   "source": [
    "birth = Float64[]\n",
    "death = Float64[]\n",
    "degree = Int[]\n",
    "for j = 1:length(R)\n",
    "    if !isempty(R[j].rowval)\n",
    "        i = R[j].rowval[end] # birth time\n",
    "        push!(birth,a[filtrations[i]]+0.01*rand())\n",
    "        push!(death,a[filtrations[j]]+0.01*rand())\n",
    "        push!(degree, length(filtrations[i])-1) # degree\n",
    "    end\n",
    "end\n",
    "degree;     "
   ]
  },
  {
   "cell_type": "code",
   "execution_count": null,
   "metadata": {
    "ExecuteTime": {
     "end_time": "2016-11-17T18:49:05.031617",
     "start_time": "2016-11-17T10:49:06.221Z"
    },
    "collapsed": false,
    "run_control": {
     "frozen": false,
     "read_only": false
    }
   },
   "outputs": [],
   "source": [
    "dims = map(x->length(x)-1,filtrations)\n",
    "C = hist(dims,(0:dim_max+1)-0.5)[2]\n",
    "C = Dict(zip(0:dim_max,C))\n",
    "B = Dict{Int,Int}()\n",
    "Z = Dict{Int,Int}()\n",
    "H = Dict{Int,Int}()\n",
    "B[-1] = 0\n",
    "for dim in 0:dim_max\n",
    "    B[dim] = sum(degree .== dim)\n",
    "    Z[dim] = C[dim] - B[dim-1]\n",
    "    H[dim] = Z[dim] - B[dim]\n",
    "end\n",
    "H"
   ]
  },
  {
   "cell_type": "code",
   "execution_count": null,
   "metadata": {
    "ExecuteTime": {
     "end_time": "2016-11-17T18:49:31.362707",
     "start_time": "2016-11-17T10:49:10.352Z"
    },
    "collapsed": false,
    "run_control": {
     "frozen": false,
     "read_only": false
    }
   },
   "outputs": [],
   "source": [
    "p = plot(layer(x = birth, y = death, color = map(string,degree), Geom.point),\n",
    "layer(x = [0,a_max], ymin = [0,0], ymax = [0,a_max], Geom.ribbon),\n",
    "Guide.xlabel(\"birth\"), Guide.ylabel(\"death\"), Guide.colorkey(\"Betti Number\"))\n"
   ]
  },
  {
   "cell_type": "code",
   "execution_count": null,
   "metadata": {
    "collapsed": true
   },
   "outputs": [],
   "source": []
  }
 ],
 "metadata": {
  "kernelspec": {
   "display_name": "Julia 0.5.0",
   "language": "julia",
   "name": "julia-0.5"
  },
  "language_info": {
   "file_extension": ".jl",
   "mimetype": "application/julia",
   "name": "julia",
   "version": "0.5.0"
  }
 },
 "nbformat": 4,
 "nbformat_minor": 0
}
