{
 "cells": [
  {
   "cell_type": "code",
   "execution_count": 17,
   "metadata": {
    "ExecuteTime": {
     "end_time": "2016-11-13T11:56:18.767183",
     "start_time": "2016-11-13T03:56:30.288Z"
    },
    "collapsed": false,
    "run_control": {
     "frozen": false,
     "read_only": false
    },
    "scrolled": false
   },
   "outputs": [
    {
     "name": "stdout",
     "output_type": "stream",
     "text": [
      "scale_nothread\n",
      "10^4  0.080103 seconds\n",
      "10^5"
     ]
    },
    {
     "name": "stderr",
     "output_type": "stream",
     "text": [
      "WARNING: Method definition scale_nothread(Any, Any) in module Main at In[16]:4 overwritten at In[17]:4.\n",
      "WARNING: Method definition scale_nothread_ib(Any, Any) in module Main at In[16]:10 overwritten at In[17]:10.\n",
      "WARNING: Method definition scale_nothread_simd(Any, Any) in module Main at In[16]:16 overwritten at In[17]:16.\n",
      "WARNING: Method definition scale_thread(Any, Any) in module Main at In[16]:22 overwritten at In[17]:22.\n",
      "WARNING: Method definition scale_thread_ib(Any, Any) in module Main at In[16]:28 overwritten at In[17]:28.\n",
      "WARNING: Method definition @time_scale(ANY<:Any) in module Main at In[16]:34 overwritten at In[17]:34.\n",
      "WARNING: Method definition time_all() in module Main at In[16]:64 overwritten at In[17]:58.\n"
     ]
    },
    {
     "name": "stdout",
     "output_type": "stream",
     "text": [
      "  0.085836 seconds\n",
      "10^6  0.085435 seconds\n",
      "scale_nothread_ib\n",
      "10^4  0.034491 seconds\n",
      "10^5  0.055978 seconds\n",
      "10^6  0.055971 seconds\n",
      "scale_nothread_simd\n",
      "10^4  0.031586 seconds\n",
      "10^5  0.045741 seconds\n",
      "10^6  0.043211 seconds\n",
      "scale_thread\n",
      "10^4  0.057908 seconds (20.00 k allocations: 625.000 KB)\n",
      "10^5  0.012299 seconds (2.00 k allocations: 62.500 KB)\n",
      "10^6  0.007808 seconds (200 allocations: 6.250 KB)\n",
      "scale_thread_ib\n",
      "10^4  0.047813 seconds (20.00 k allocations: 625.000 KB)\n",
      "10^5  0.006534 seconds (2.00 k allocations: 62.500 KB)\n",
      "10^6  0.003588 seconds (200 allocations: 6.250 KB)\n"
     ]
    }
   ],
   "source": [
    "#!/usr/bin/julia\n",
    "\n",
    "@noinline function scale_nothread(a, s)\n",
    "    for i in 1:length(a)\n",
    "        a[i] *= s\n",
    "    end\n",
    "end\n",
    "\n",
    "@noinline function scale_nothread_ib(a, s)\n",
    "    @inbounds for i in 1:length(a)\n",
    "        a[i] *= s\n",
    "    end\n",
    "end\n",
    "\n",
    "@noinline function scale_nothread_simd(a, s)\n",
    "    @inbounds @simd for i in 1:length(a)\n",
    "        a[i] *= s\n",
    "    end\n",
    "end\n",
    "\n",
    "@noinline function scale_thread(a, s)\n",
    "    Threads.@threads for i in 1:length(a)\n",
    "        a[i] *= s\n",
    "    end\n",
    "end\n",
    "\n",
    "@noinline function scale_thread_ib(a, s)\n",
    "    Threads.@threads for i in 1:length(a)\n",
    "        @inbounds a[i] *= s\n",
    "    end\n",
    "end\n",
    "\n",
    "macro time_scale(fname)\n",
    "    quote\n",
    "        println($(esc(fname)))\n",
    "        a = fill(1e100, 10^4)\n",
    "        print(\"10^4\")\n",
    "        $(esc(fname))(a, 0.999)\n",
    "        @time for i in 1:(10^4)\n",
    "            $(esc(fname))(a, 0.999)\n",
    "        end\n",
    "        a = fill(1e100, 10^5)\n",
    "        print(\"10^5\")\n",
    "        $(esc(fname))(a, 0.999)\n",
    "        @time for i in 1:(10^3)\n",
    "            $(esc(fname))(a, 0.999)\n",
    "        end\n",
    "        a = fill(1e100, 10^6)\n",
    "        print(\"10^6\")\n",
    "        $(esc(fname))(a, 0.999)\n",
    "        @time for i in 1:(10^2)\n",
    "            $(esc(fname))(a, 0.999)\n",
    "        end\n",
    "    end\n",
    "end\n",
    "\n",
    "function time_all()\n",
    "    @time_scale scale_nothread\n",
    "    @time_scale scale_nothread_ib\n",
    "    @time_scale scale_nothread_simd\n",
    "    @time_scale scale_thread\n",
    "    @time_scale scale_thread_ib\n",
    "end\n",
    "\n",
    "time_all()"
   ]
  },
  {
   "cell_type": "code",
   "execution_count": null,
   "metadata": {
    "collapsed": true,
    "run_control": {
     "frozen": false,
     "read_only": false
    }
   },
   "outputs": [],
   "source": [
    "function threadstest1{N}(A::Array{Float64},b::Vector{Float64},k::Vector{Array{Float64,N}})\n",
    "  @inbounds for i in eachindex(A)\n",
    "    A[i]+= sin(b[1]*k[1][i] + b[2]*k[2][i] + b[3]*k[3][i] + b[5]*k[5][i]) +\n",
    "    exp(b[7]*k[7][i] + b[8]*k[8][i] + b[10]*k[10][i] + b[11]*k[11][i]) +\n",
    "    erf(b[12]*k[12][i] + b[14]*k[14][i] + b[15]*k[15][i] + b[16]*k[16][i]) +\n",
    "    (b[18]*k[18][i] + b[19]*k[19][i] + b[20]*k[20][i] + b[21]*k[21][i]) +\n",
    "    (b[22]*k[22][i] + b[23]*k[23][i] + b[24]*k[24][i] + b[25]*k[25][i]) +\n",
    "    (b[26]*k[26][i] + b[27]*k[27][i] + b[28]*k[28][i] + b[29]*k[29][i]) +\n",
    "    (b[30]*k[30][i] + b[31]*k[31][i] + b[32]*k[32][i] + b[33]*k[33][i]) +\n",
    "    (b[34]*k[34][i] + b[35]*k[35][i])\n",
    "  end\n",
    "  A\n",
    "end\n",
    "function threadstest2{N}(A::Array{Float64},b::Vector{Float64},k::Vector{Array{Float64,N}})\n",
    "  @inbounds Threads.@threads for i in eachindex(A)\n",
    "    A[i]+= sin(b[1]*k[1][i] + b[2]*k[2][i] + b[3]*k[3][i] + b[5]*k[5][i]) +\n",
    "    exp(b[7]*k[7][i] + b[8]*k[8][i] + b[10]*k[10][i] + b[11]*k[11][i]) +\n",
    "    erf(b[12]*k[12][i] + b[14]*k[14][i] + b[15]*k[15][i] + b[16]*k[16][i]) +\n",
    "    (b[18]*k[18][i] + b[19]*k[19][i] + b[20]*k[20][i] + b[21]*k[21][i]) +\n",
    "    (b[22]*k[22][i] + b[23]*k[23][i] + b[24]*k[24][i] + b[25]*k[25][i]) +\n",
    "    (b[26]*k[26][i] + b[27]*k[27][i] + b[28]*k[28][i] + b[29]*k[29][i]) +\n",
    "    (b[30]*k[30][i] + b[31]*k[31][i] + b[32]*k[32][i] + b[33]*k[33][i]) +\n",
    "    (b[34]*k[34][i] + b[35]*k[35][i])\n",
    "  end\n",
    "  A\n",
    "end\n",
    "using BenchmarkTools\n",
    "function benchmarkthreadtests()\n",
    "  const ds = [10 100 1000 2000 5000]\n",
    "  ts = Array{Any}(length(ds),2)\n",
    "  for i in eachindex(ds)\n",
    "    d = ds[i]\n",
    "    A = rand(d,d); b = rand(35)\n",
    "    k = [rand(d,d)]\n",
    "    for j = 1:34\n",
    "      push!(k,rand(d,d))\n",
    "    end\n",
    "    println(\"d = $d\")\n",
    "    println(\"Serial\")\n",
    "    ts[i,1] = @benchmark threadstest1($A,$b,$k)\n",
    "    println(\"Threads\")\n",
    "    ts[i,2] = @benchmark threadstest2($A,$b,$k)\n",
    "  end\n",
    "  ts\n",
    "end\n",
    "ts = benchmarkthreadtests()\n",
    "meantimes = [mean(x.times) for x in ts]\n"
   ]
  },
  {
   "cell_type": "code",
   "execution_count": 11,
   "metadata": {
    "ExecuteTime": {
     "end_time": "2016-11-13T11:52:05.083490",
     "start_time": "2016-11-13T03:52:17.541Z"
    },
    "collapsed": false
   },
   "outputs": [
    {
     "name": "stdout",
     "output_type": "stream",
     "text": [
      "Number of threads = 32\n",
      "Warmup!\n",
      "Serial time = 0.027521303\n",
      "Parallel time = 0.024238235\n"
     ]
    },
    {
     "name": "stderr",
     "output_type": "stream",
     "text": [
      "WARNING: redefining constant N\n",
      "WARNING: Method definition driver() in module Main at In[10]:5 overwritten at In[11]:5.\n",
      "WARNING: Method definition warmup(Array{Float64, 1}, Array{Float64, 1}) in module Main at In[10]:16 overwritten at In[11]:16.\n",
      "WARNING: Method definition test1(Array{Float64, 1}, Array{Float64, 1}) in module Main at In[10]:21 overwritten at In[11]:21.\n",
      "WARNING: Method definition test2(Array{Float64, 1}, Array{Float64, 1}) in module Main at In[10]:28 overwritten at In[11]:28.\n"
     ]
    }
   ],
   "source": [
    "const N = 10^6\n",
    "\n",
    "using Base.Threads\n",
    "function driver()\n",
    "    println(\"Number of threads = $(nthreads())\")\n",
    "    x = rand(N)\n",
    "    y = zeros(N)\n",
    "    println(\"Warmup!\")\n",
    "    warmup(x, y)\n",
    "    t1 = test1(x, y)\n",
    "    t2 = test2(x, y)\n",
    "    println(\"Serial time = $t1\")\n",
    "    println(\"Parallel time = $t2\")\n",
    "end\n",
    "function warmup(x::Vector{Float64}, y::Vector{Float64})\n",
    "    for i = 1:N\n",
    "        y[i] = sin(x[i])^2 + cos(x[i])^2\n",
    "    end\n",
    "end\n",
    "function test1(x::Vector{Float64}, y::Vector{Float64})\n",
    "    t1 = @elapsed for i = 1:N\n",
    "        y[i] = sin(x[i])^2 + cos(x[i])^2\n",
    "    end\n",
    "    @assert sum(y) == N\n",
    "    t1\n",
    "end\n",
    "function test2(x::Vector{Float64}, y::Vector{Float64})\n",
    "    t2 = @elapsed @threads for i = 1:N\n",
    "        y[i] = sin(x[i])^2 + cos(x[i])^2\n",
    "    end\n",
    "    @assert sum(y) == N\n",
    "    t2\n",
    "end\n",
    "driver()"
   ]
  },
  {
   "cell_type": "code",
   "execution_count": null,
   "metadata": {
    "collapsed": true
   },
   "outputs": [],
   "source": []
  }
 ],
 "metadata": {
  "anaconda-cloud": {},
  "kernelspec": {
   "display_name": "Julia 0.5.0",
   "language": "julia",
   "name": "julia-0.5"
  },
  "language_info": {
   "file_extension": ".jl",
   "mimetype": "application/julia",
   "name": "julia",
   "version": "0.5.0"
  }
 },
 "nbformat": 4,
 "nbformat_minor": 1
}
