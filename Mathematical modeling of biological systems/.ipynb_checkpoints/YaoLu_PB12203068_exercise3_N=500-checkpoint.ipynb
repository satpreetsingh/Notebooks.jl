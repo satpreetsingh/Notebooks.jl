{
 "cells": [
  {
   "cell_type": "code",
   "execution_count": 1,
   "metadata": {
    "ExecuteTime": {
     "end_time": "2016-12-22T17:14:16.601526",
     "start_time": "2016-12-22T09:14:19.323Z"
    },
    "collapsed": false,
    "run_control": {
     "frozen": false,
     "read_only": false
    }
   },
   "outputs": [
    {
     "data": {
      "text/plain": [
       "Plots.GRBackend()"
      ]
     },
     "execution_count": 1,
     "metadata": {},
     "output_type": "execute_result"
    }
   ],
   "source": [
    "import Plots; Plots.gr()"
   ]
  },
  {
   "cell_type": "code",
   "execution_count": null,
   "metadata": {
    "ExecuteTime": {
     "end_time": "2016-12-22T17:14:17.888096",
     "start_time": "2016-12-22T09:14:19.333Z"
    },
    "collapsed": false,
    "run_control": {
     "frozen": false,
     "read_only": false
    },
    "scrolled": true
   },
   "outputs": [],
   "source": [
    "using GaussianMixtures, StatsBase, Distributions"
   ]
  },
  {
   "cell_type": "markdown",
   "metadata": {},
   "source": [
    "## 1.模拟实验数据\n",
    "\n",
    "假设一种细胞群体包含两类细胞，数量分别占细胞总数的70%和30%这两类细胞在某种可观察性如荧光强度是有区别的，第一类细胞该种性分布均值100，均方偏差20的正态分布，第二类细胞该性分布均值150，均方偏差35的正态分布"
   ]
  },
  {
   "cell_type": "code",
   "execution_count": 3,
   "metadata": {
    "ExecuteTime": {
     "end_time": "2016-12-22T17:14:31.124264",
     "start_time": "2016-12-22T09:14:19.346Z"
    },
    "collapsed": false,
    "run_control": {
     "frozen": false,
     "read_only": false
    }
   },
   "outputs": [
    {
     "data": {
      "text/html": [
       "<?xml version=\"1.0\" encoding=\"utf-8\"?>\n",
       "<svg xmlns=\"http://www.w3.org/2000/svg\" xmlns:xlink=\"http://www.w3.org/1999/xlink\" width=\"600\" height=\"400\" viewBox=\"0 0 600 400\">\n",
       "<defs>\n",
       "  <clipPath id=\"clip00\">\n",
       "    <rect x=\"0\" y=\"0\" width=\"600\" height=\"400\"/>\n",
       "  </clipPath>\n",
       "</defs>\n",
       "<polygon clip-path=\"url(#clip00)\" points=\"\n",
       "0,400 600,400 600,0 0,0 \n",
       "  \" fill=\"#ffffff\" fill-opacity=\"1\"/>\n",
       "<defs>\n",
       "  <clipPath id=\"clip01\">\n",
       "    <rect x=\"120\" y=\"0\" width=\"421\" height=\"400\"/>\n",
       "  </clipPath>\n",
       "</defs>\n",
       "<polygon clip-path=\"url(#clip00)\" points=\"\n",
       "21.7148,384.952 596.063,384.952 596.063,3.93701 21.7148,3.93701 \n",
       "  \" fill=\"#ffffff\" fill-opacity=\"1\"/>\n",
       "<defs>\n",
       "  <clipPath id=\"clip02\">\n",
       "    <rect x=\"21\" y=\"3\" width=\"575\" height=\"382\"/>\n",
       "  </clipPath>\n",
       "</defs>\n",
       "<polyline clip-path=\"url(#clip02)\" style=\"stroke:#00002d; stroke-width:0.8; stroke-opacity:0.5; fill:none\" stroke-dasharray=\"1, 2\" points=\"\n",
       "  52.6579,379.237 52.6579,9.65223 \n",
       "  \"/>\n",
       "<polyline clip-path=\"url(#clip02)\" style=\"stroke:#00002d; stroke-width:0.8; stroke-opacity:0.5; fill:none\" stroke-dasharray=\"1, 2\" points=\"\n",
       "  199.672,379.237 199.672,9.65223 \n",
       "  \"/>\n",
       "<polyline clip-path=\"url(#clip02)\" style=\"stroke:#00002d; stroke-width:0.8; stroke-opacity:0.5; fill:none\" stroke-dasharray=\"1, 2\" points=\"\n",
       "  346.685,379.237 346.685,9.65223 \n",
       "  \"/>\n",
       "<polyline clip-path=\"url(#clip02)\" style=\"stroke:#00002d; stroke-width:0.8; stroke-opacity:0.5; fill:none\" stroke-dasharray=\"1, 2\" points=\"\n",
       "  493.699,379.237 493.699,9.65223 \n",
       "  \"/>\n",
       "<polyline clip-path=\"url(#clip02)\" style=\"stroke:#00002d; stroke-width:0.8; stroke-opacity:0.5; fill:none\" stroke-dasharray=\"1, 2\" points=\"\n",
       "  30.33,384.952 587.448,384.952 \n",
       "  \"/>\n",
       "<polyline clip-path=\"url(#clip02)\" style=\"stroke:#00002d; stroke-width:0.8; stroke-opacity:0.5; fill:none\" stroke-dasharray=\"1, 2\" points=\"\n",
       "  30.33,313.062 587.448,313.062 \n",
       "  \"/>\n",
       "<polyline clip-path=\"url(#clip02)\" style=\"stroke:#00002d; stroke-width:0.8; stroke-opacity:0.5; fill:none\" stroke-dasharray=\"1, 2\" points=\"\n",
       "  30.33,241.173 587.448,241.173 \n",
       "  \"/>\n",
       "<polyline clip-path=\"url(#clip02)\" style=\"stroke:#00002d; stroke-width:0.8; stroke-opacity:0.5; fill:none\" stroke-dasharray=\"1, 2\" points=\"\n",
       "  30.33,169.283 587.448,169.283 \n",
       "  \"/>\n",
       "<polyline clip-path=\"url(#clip02)\" style=\"stroke:#00002d; stroke-width:0.8; stroke-opacity:0.5; fill:none\" stroke-dasharray=\"1, 2\" points=\"\n",
       "  30.33,97.3935 587.448,97.3935 \n",
       "  \"/>\n",
       "<polyline clip-path=\"url(#clip02)\" style=\"stroke:#00002d; stroke-width:0.8; stroke-opacity:0.5; fill:none\" stroke-dasharray=\"1, 2\" points=\"\n",
       "  30.33,25.5039 587.448,25.5039 \n",
       "  \"/>\n",
       "<polyline clip-path=\"url(#clip02)\" style=\"stroke:#00002d; stroke-width:0.8; stroke-opacity:1; fill:none\" points=\"\n",
       "  21.7148,384.952 596.063,384.952 \n",
       "  \"/>\n",
       "<polyline clip-path=\"url(#clip02)\" style=\"stroke:#00002d; stroke-width:0.8; stroke-opacity:1; fill:none\" points=\"\n",
       "  52.6579,384.952 52.6579,379.237 \n",
       "  \"/>\n",
       "<polyline clip-path=\"url(#clip02)\" style=\"stroke:#00002d; stroke-width:0.8; stroke-opacity:1; fill:none\" points=\"\n",
       "  199.672,384.952 199.672,379.237 \n",
       "  \"/>\n",
       "<polyline clip-path=\"url(#clip02)\" style=\"stroke:#00002d; stroke-width:0.8; stroke-opacity:1; fill:none\" points=\"\n",
       "  346.685,384.952 346.685,379.237 \n",
       "  \"/>\n",
       "<polyline clip-path=\"url(#clip02)\" style=\"stroke:#00002d; stroke-width:0.8; stroke-opacity:1; fill:none\" points=\"\n",
       "  493.699,384.952 493.699,379.237 \n",
       "  \"/>\n",
       "<polyline clip-path=\"url(#clip02)\" style=\"stroke:#00002d; stroke-width:0.8; stroke-opacity:1; fill:none\" points=\"\n",
       "  21.7148,384.952 21.7148,3.93701 \n",
       "  \"/>\n",
       "<polyline clip-path=\"url(#clip02)\" style=\"stroke:#00002d; stroke-width:0.8; stroke-opacity:1; fill:none\" points=\"\n",
       "  21.7148,384.952 30.33,384.952 \n",
       "  \"/>\n",
       "<polyline clip-path=\"url(#clip02)\" style=\"stroke:#00002d; stroke-width:0.8; stroke-opacity:1; fill:none\" points=\"\n",
       "  21.7148,313.062 30.33,313.062 \n",
       "  \"/>\n",
       "<polyline clip-path=\"url(#clip02)\" style=\"stroke:#00002d; stroke-width:0.8; stroke-opacity:1; fill:none\" points=\"\n",
       "  21.7148,241.173 30.33,241.173 \n",
       "  \"/>\n",
       "<polyline clip-path=\"url(#clip02)\" style=\"stroke:#00002d; stroke-width:0.8; stroke-opacity:1; fill:none\" points=\"\n",
       "  21.7148,169.283 30.33,169.283 \n",
       "  \"/>\n",
       "<polyline clip-path=\"url(#clip02)\" style=\"stroke:#00002d; stroke-width:0.8; stroke-opacity:1; fill:none\" points=\"\n",
       "  21.7148,97.3935 30.33,97.3935 \n",
       "  \"/>\n",
       "<polyline clip-path=\"url(#clip02)\" style=\"stroke:#00002d; stroke-width:0.8; stroke-opacity:1; fill:none\" points=\"\n",
       "  21.7148,25.5039 30.33,25.5039 \n",
       "  \"/>\n",
       "<g clip-path=\"url(#clip00)\">\n",
       "<text style=\"fill:#00002d; fill-opacity:1; font-family:Arial,Helvetica Neue,Helvetica,sans-serif; font-size:12; text-anchor:middle;\" transform=\"rotate(0, 52.6579, 396.952)\" x=\"52.6579\" y=\"396.952\">50</text>\n",
       "</g>\n",
       "<g clip-path=\"url(#clip00)\">\n",
       "<text style=\"fill:#00002d; fill-opacity:1; font-family:Arial,Helvetica Neue,Helvetica,sans-serif; font-size:12; text-anchor:middle;\" transform=\"rotate(0, 199.672, 396.952)\" x=\"199.672\" y=\"396.952\">100</text>\n",
       "</g>\n",
       "<g clip-path=\"url(#clip00)\">\n",
       "<text style=\"fill:#00002d; fill-opacity:1; font-family:Arial,Helvetica Neue,Helvetica,sans-serif; font-size:12; text-anchor:middle;\" transform=\"rotate(0, 346.685, 396.952)\" x=\"346.685\" y=\"396.952\">150</text>\n",
       "</g>\n",
       "<g clip-path=\"url(#clip00)\">\n",
       "<text style=\"fill:#00002d; fill-opacity:1; font-family:Arial,Helvetica Neue,Helvetica,sans-serif; font-size:12; text-anchor:middle;\" transform=\"rotate(0, 493.699, 396.952)\" x=\"493.699\" y=\"396.952\">200</text>\n",
       "</g>\n",
       "<g clip-path=\"url(#clip00)\">\n",
       "<text style=\"fill:#00002d; fill-opacity:1; font-family:Arial,Helvetica Neue,Helvetica,sans-serif; font-size:12; text-anchor:end;\" transform=\"rotate(0, 20.5148, 389.452)\" x=\"20.5148\" y=\"389.452\">0</text>\n",
       "</g>\n",
       "<g clip-path=\"url(#clip00)\">\n",
       "<text style=\"fill:#00002d; fill-opacity:1; font-family:Arial,Helvetica Neue,Helvetica,sans-serif; font-size:12; text-anchor:end;\" transform=\"rotate(0, 20.5148, 317.562)\" x=\"20.5148\" y=\"317.562\">10</text>\n",
       "</g>\n",
       "<g clip-path=\"url(#clip00)\">\n",
       "<text style=\"fill:#00002d; fill-opacity:1; font-family:Arial,Helvetica Neue,Helvetica,sans-serif; font-size:12; text-anchor:end;\" transform=\"rotate(0, 20.5148, 245.673)\" x=\"20.5148\" y=\"245.673\">20</text>\n",
       "</g>\n",
       "<g clip-path=\"url(#clip00)\">\n",
       "<text style=\"fill:#00002d; fill-opacity:1; font-family:Arial,Helvetica Neue,Helvetica,sans-serif; font-size:12; text-anchor:end;\" transform=\"rotate(0, 20.5148, 173.783)\" x=\"20.5148\" y=\"173.783\">30</text>\n",
       "</g>\n",
       "<g clip-path=\"url(#clip00)\">\n",
       "<text style=\"fill:#00002d; fill-opacity:1; font-family:Arial,Helvetica Neue,Helvetica,sans-serif; font-size:12; text-anchor:end;\" transform=\"rotate(0, 20.5148, 101.893)\" x=\"20.5148\" y=\"101.893\">40</text>\n",
       "</g>\n",
       "<g clip-path=\"url(#clip00)\">\n",
       "<text style=\"fill:#00002d; fill-opacity:1; font-family:Arial,Helvetica Neue,Helvetica,sans-serif; font-size:12; text-anchor:end;\" transform=\"rotate(0, 20.5148, 30.0039)\" x=\"20.5148\" y=\"30.0039\">50</text>\n",
       "</g>\n",
       "<polygon clip-path=\"url(#clip02)\" points=\"\n",
       "37.9699,363.385 37.9699,384.952 56.0312,384.952 56.0312,363.385 37.9699,363.385 37.9699,363.385 \n",
       "  \" fill=\"#0099ff\" fill-opacity=\"1\"/>\n",
       "<polyline clip-path=\"url(#clip02)\" style=\"stroke:#00002d; stroke-width:0.8; stroke-opacity:1; fill:none\" points=\"\n",
       "  37.9699,363.385 37.9699,384.952 56.0312,384.952 56.0312,363.385 37.9699,363.385 \n",
       "  \"/>\n",
       "<polygon clip-path=\"url(#clip02)\" points=\"\n",
       "56.0312,363.385 56.0312,384.952 74.0925,384.952 74.0925,363.385 56.0312,363.385 56.0312,363.385 \n",
       "  \" fill=\"#0099ff\" fill-opacity=\"1\"/>\n",
       "<polyline clip-path=\"url(#clip02)\" style=\"stroke:#00002d; stroke-width:0.8; stroke-opacity:1; fill:none\" points=\"\n",
       "  56.0312,363.385 56.0312,384.952 74.0925,384.952 74.0925,363.385 56.0312,363.385 \n",
       "  \"/>\n",
       "<polygon clip-path=\"url(#clip02)\" points=\"\n",
       "74.0925,356.196 74.0925,384.952 92.1537,384.952 92.1537,356.196 74.0925,356.196 74.0925,356.196 \n",
       "  \" fill=\"#0099ff\" fill-opacity=\"1\"/>\n",
       "<polyline clip-path=\"url(#clip02)\" style=\"stroke:#00002d; stroke-width:0.8; stroke-opacity:1; fill:none\" points=\"\n",
       "  74.0925,356.196 74.0925,384.952 92.1537,384.952 92.1537,356.196 74.0925,356.196 \n",
       "  \"/>\n",
       "<polygon clip-path=\"url(#clip02)\" points=\"\n",
       "92.1537,334.629 92.1537,384.952 110.215,384.952 110.215,334.629 92.1537,334.629 92.1537,334.629 \n",
       "  \" fill=\"#0099ff\" fill-opacity=\"1\"/>\n",
       "<polyline clip-path=\"url(#clip02)\" style=\"stroke:#00002d; stroke-width:0.8; stroke-opacity:1; fill:none\" points=\"\n",
       "  92.1537,334.629 92.1537,384.952 110.215,384.952 110.215,334.629 92.1537,334.629 \n",
       "  \"/>\n",
       "<polygon clip-path=\"url(#clip02)\" points=\"\n",
       "110.215,255.551 110.215,384.952 128.276,384.952 128.276,255.551 110.215,255.551 110.215,255.551 \n",
       "  \" fill=\"#0099ff\" fill-opacity=\"1\"/>\n",
       "<polyline clip-path=\"url(#clip02)\" style=\"stroke:#00002d; stroke-width:0.8; stroke-opacity:1; fill:none\" points=\"\n",
       "  110.215,255.551 110.215,384.952 128.276,384.952 128.276,255.551 110.215,255.551 \n",
       "  \"/>\n",
       "<polygon clip-path=\"url(#clip02)\" points=\"\n",
       "128.276,219.606 128.276,384.952 146.338,384.952 146.338,219.606 128.276,219.606 128.276,219.606 \n",
       "  \" fill=\"#0099ff\" fill-opacity=\"1\"/>\n",
       "<polyline clip-path=\"url(#clip02)\" style=\"stroke:#00002d; stroke-width:0.8; stroke-opacity:1; fill:none\" points=\"\n",
       "  128.276,219.606 128.276,384.952 146.338,384.952 146.338,219.606 128.276,219.606 \n",
       "  \"/>\n",
       "<polygon clip-path=\"url(#clip02)\" points=\"\n",
       "146.338,111.771 146.338,384.952 164.399,384.952 164.399,111.771 146.338,111.771 146.338,111.771 \n",
       "  \" fill=\"#0099ff\" fill-opacity=\"1\"/>\n",
       "<polyline clip-path=\"url(#clip02)\" style=\"stroke:#00002d; stroke-width:0.8; stroke-opacity:1; fill:none\" points=\"\n",
       "  146.338,111.771 146.338,384.952 164.399,384.952 164.399,111.771 146.338,111.771 \n",
       "  \"/>\n",
       "<polygon clip-path=\"url(#clip02)\" points=\"\n",
       "164.399,75.8266 164.399,384.952 182.46,384.952 182.46,75.8266 164.399,75.8266 164.399,75.8266 \n",
       "  \" fill=\"#0099ff\" fill-opacity=\"1\"/>\n",
       "<polyline clip-path=\"url(#clip02)\" style=\"stroke:#00002d; stroke-width:0.8; stroke-opacity:1; fill:none\" points=\"\n",
       "  164.399,75.8266 164.399,384.952 182.46,384.952 182.46,75.8266 164.399,75.8266 \n",
       "  \"/>\n",
       "<polygon clip-path=\"url(#clip02)\" points=\"\n",
       "182.46,104.582 182.46,384.952 200.521,384.952 200.521,104.582 182.46,104.582 182.46,104.582 \n",
       "  \" fill=\"#0099ff\" fill-opacity=\"1\"/>\n",
       "<polyline clip-path=\"url(#clip02)\" style=\"stroke:#00002d; stroke-width:0.8; stroke-opacity:1; fill:none\" points=\"\n",
       "  182.46,104.582 182.46,384.952 200.521,384.952 200.521,104.582 182.46,104.582 \n",
       "  \"/>\n",
       "<polygon clip-path=\"url(#clip02)\" points=\"\n",
       "200.521,3.93701 200.521,384.952 218.583,384.952 218.583,3.93701 200.521,3.93701 200.521,3.93701 \n",
       "  \" fill=\"#0099ff\" fill-opacity=\"1\"/>\n",
       "<polyline clip-path=\"url(#clip02)\" style=\"stroke:#00002d; stroke-width:0.8; stroke-opacity:1; fill:none\" points=\"\n",
       "  200.521,3.93701 200.521,384.952 218.583,384.952 218.583,3.93701 200.521,3.93701 \n",
       "  \"/>\n",
       "<polygon clip-path=\"url(#clip02)\" points=\"\n",
       "218.583,54.2597 218.583,384.952 236.644,384.952 236.644,54.2597 218.583,54.2597 218.583,54.2597 \n",
       "  \" fill=\"#0099ff\" fill-opacity=\"1\"/>\n",
       "<polyline clip-path=\"url(#clip02)\" style=\"stroke:#00002d; stroke-width:0.8; stroke-opacity:1; fill:none\" points=\"\n",
       "  218.583,54.2597 218.583,384.952 236.644,384.952 236.644,54.2597 218.583,54.2597 \n",
       "  \"/>\n",
       "<polygon clip-path=\"url(#clip02)\" points=\"\n",
       "236.644,61.4487 236.644,384.952 254.705,384.952 254.705,61.4487 236.644,61.4487 236.644,61.4487 \n",
       "  \" fill=\"#0099ff\" fill-opacity=\"1\"/>\n",
       "<polyline clip-path=\"url(#clip02)\" style=\"stroke:#00002d; stroke-width:0.8; stroke-opacity:1; fill:none\" points=\"\n",
       "  236.644,61.4487 236.644,384.952 254.705,384.952 254.705,61.4487 236.644,61.4487 \n",
       "  \"/>\n",
       "<polygon clip-path=\"url(#clip02)\" points=\"\n",
       "254.705,205.228 254.705,384.952 272.766,384.952 272.766,205.228 254.705,205.228 254.705,205.228 \n",
       "  \" fill=\"#0099ff\" fill-opacity=\"1\"/>\n",
       "<polyline clip-path=\"url(#clip02)\" style=\"stroke:#00002d; stroke-width:0.8; stroke-opacity:1; fill:none\" points=\"\n",
       "  254.705,205.228 254.705,384.952 272.766,384.952 272.766,205.228 254.705,205.228 \n",
       "  \"/>\n",
       "<polygon clip-path=\"url(#clip02)\" points=\"\n",
       "272.766,198.039 272.766,384.952 290.828,384.952 290.828,198.039 272.766,198.039 272.766,198.039 \n",
       "  \" fill=\"#0099ff\" fill-opacity=\"1\"/>\n",
       "<polyline clip-path=\"url(#clip02)\" style=\"stroke:#00002d; stroke-width:0.8; stroke-opacity:1; fill:none\" points=\"\n",
       "  272.766,198.039 272.766,384.952 290.828,384.952 290.828,198.039 272.766,198.039 \n",
       "  \"/>\n",
       "<polygon clip-path=\"url(#clip02)\" points=\"\n",
       "290.828,212.417 290.828,384.952 308.889,384.952 308.889,212.417 290.828,212.417 290.828,212.417 \n",
       "  \" fill=\"#0099ff\" fill-opacity=\"1\"/>\n",
       "<polyline clip-path=\"url(#clip02)\" style=\"stroke:#00002d; stroke-width:0.8; stroke-opacity:1; fill:none\" points=\"\n",
       "  290.828,212.417 290.828,384.952 308.889,384.952 308.889,212.417 290.828,212.417 \n",
       "  \"/>\n",
       "<polygon clip-path=\"url(#clip02)\" points=\"\n",
       "308.889,269.929 308.889,384.952 326.95,384.952 326.95,269.929 308.889,269.929 308.889,269.929 \n",
       "  \" fill=\"#0099ff\" fill-opacity=\"1\"/>\n",
       "<polyline clip-path=\"url(#clip02)\" style=\"stroke:#00002d; stroke-width:0.8; stroke-opacity:1; fill:none\" points=\"\n",
       "  308.889,269.929 308.889,384.952 326.95,384.952 326.95,269.929 308.889,269.929 \n",
       "  \"/>\n",
       "<polygon clip-path=\"url(#clip02)\" points=\"\n",
       "326.95,327.44 326.95,384.952 345.011,384.952 345.011,327.44 326.95,327.44 326.95,327.44 \n",
       "  \" fill=\"#0099ff\" fill-opacity=\"1\"/>\n",
       "<polyline clip-path=\"url(#clip02)\" style=\"stroke:#00002d; stroke-width:0.8; stroke-opacity:1; fill:none\" points=\"\n",
       "  326.95,327.44 326.95,384.952 345.011,384.952 345.011,327.44 326.95,327.44 \n",
       "  \"/>\n",
       "<polygon clip-path=\"url(#clip02)\" points=\"\n",
       "345.011,269.929 345.011,384.952 363.073,384.952 363.073,269.929 345.011,269.929 345.011,269.929 \n",
       "  \" fill=\"#0099ff\" fill-opacity=\"1\"/>\n",
       "<polyline clip-path=\"url(#clip02)\" style=\"stroke:#00002d; stroke-width:0.8; stroke-opacity:1; fill:none\" points=\"\n",
       "  345.011,269.929 345.011,384.952 363.073,384.952 363.073,269.929 345.011,269.929 \n",
       "  \"/>\n",
       "<polygon clip-path=\"url(#clip02)\" points=\"\n",
       "363.073,313.062 363.073,384.952 381.134,384.952 381.134,313.062 363.073,313.062 363.073,313.062 \n",
       "  \" fill=\"#0099ff\" fill-opacity=\"1\"/>\n",
       "<polyline clip-path=\"url(#clip02)\" style=\"stroke:#00002d; stroke-width:0.8; stroke-opacity:1; fill:none\" points=\"\n",
       "  363.073,313.062 363.073,384.952 381.134,384.952 381.134,313.062 363.073,313.062 \n",
       "  \"/>\n",
       "<polygon clip-path=\"url(#clip02)\" points=\"\n",
       "381.134,327.44 381.134,384.952 399.195,384.952 399.195,327.44 381.134,327.44 381.134,327.44 \n",
       "  \" fill=\"#0099ff\" fill-opacity=\"1\"/>\n",
       "<polyline clip-path=\"url(#clip02)\" style=\"stroke:#00002d; stroke-width:0.8; stroke-opacity:1; fill:none\" points=\"\n",
       "  381.134,327.44 381.134,384.952 399.195,384.952 399.195,327.44 381.134,327.44 \n",
       "  \"/>\n",
       "<polygon clip-path=\"url(#clip02)\" points=\"\n",
       "399.195,320.251 399.195,384.952 417.256,384.952 417.256,320.251 399.195,320.251 399.195,320.251 \n",
       "  \" fill=\"#0099ff\" fill-opacity=\"1\"/>\n",
       "<polyline clip-path=\"url(#clip02)\" style=\"stroke:#00002d; stroke-width:0.8; stroke-opacity:1; fill:none\" points=\"\n",
       "  399.195,320.251 399.195,384.952 417.256,384.952 417.256,320.251 399.195,320.251 \n",
       "  \"/>\n",
       "<polygon clip-path=\"url(#clip02)\" points=\"\n",
       "417.256,320.251 417.256,384.952 435.318,384.952 435.318,320.251 417.256,320.251 417.256,320.251 \n",
       "  \" fill=\"#0099ff\" fill-opacity=\"1\"/>\n",
       "<polyline clip-path=\"url(#clip02)\" style=\"stroke:#00002d; stroke-width:0.8; stroke-opacity:1; fill:none\" points=\"\n",
       "  417.256,320.251 417.256,384.952 435.318,384.952 435.318,320.251 417.256,320.251 \n",
       "  \"/>\n",
       "<polygon clip-path=\"url(#clip02)\" points=\"\n",
       "435.318,341.818 435.318,384.952 453.379,384.952 453.379,341.818 435.318,341.818 435.318,341.818 \n",
       "  \" fill=\"#0099ff\" fill-opacity=\"1\"/>\n",
       "<polyline clip-path=\"url(#clip02)\" style=\"stroke:#00002d; stroke-width:0.8; stroke-opacity:1; fill:none\" points=\"\n",
       "  435.318,341.818 435.318,384.952 453.379,384.952 453.379,341.818 435.318,341.818 \n",
       "  \"/>\n",
       "<polygon clip-path=\"url(#clip02)\" points=\"\n",
       "453.379,363.385 453.379,384.952 471.44,384.952 471.44,363.385 453.379,363.385 453.379,363.385 \n",
       "  \" fill=\"#0099ff\" fill-opacity=\"1\"/>\n",
       "<polyline clip-path=\"url(#clip02)\" style=\"stroke:#00002d; stroke-width:0.8; stroke-opacity:1; fill:none\" points=\"\n",
       "  453.379,363.385 453.379,384.952 471.44,384.952 471.44,363.385 453.379,363.385 \n",
       "  \"/>\n",
       "<polygon clip-path=\"url(#clip02)\" points=\"\n",
       "471.44,341.818 471.44,384.952 489.502,384.952 489.502,341.818 471.44,341.818 471.44,341.818 \n",
       "  \" fill=\"#0099ff\" fill-opacity=\"1\"/>\n",
       "<polyline clip-path=\"url(#clip02)\" style=\"stroke:#00002d; stroke-width:0.8; stroke-opacity:1; fill:none\" points=\"\n",
       "  471.44,341.818 471.44,384.952 489.502,384.952 489.502,341.818 471.44,341.818 \n",
       "  \"/>\n",
       "<polygon clip-path=\"url(#clip02)\" points=\"\n",
       "489.502,341.818 489.502,384.952 507.563,384.952 507.563,341.818 489.502,341.818 489.502,341.818 \n",
       "  \" fill=\"#0099ff\" fill-opacity=\"1\"/>\n",
       "<polyline clip-path=\"url(#clip02)\" style=\"stroke:#00002d; stroke-width:0.8; stroke-opacity:1; fill:none\" points=\"\n",
       "  489.502,341.818 489.502,384.952 507.563,384.952 507.563,341.818 489.502,341.818 \n",
       "  \"/>\n",
       "<polygon clip-path=\"url(#clip02)\" points=\"\n",
       "507.563,363.385 507.563,384.952 525.624,384.952 525.624,363.385 507.563,363.385 507.563,363.385 \n",
       "  \" fill=\"#0099ff\" fill-opacity=\"1\"/>\n",
       "<polyline clip-path=\"url(#clip02)\" style=\"stroke:#00002d; stroke-width:0.8; stroke-opacity:1; fill:none\" points=\"\n",
       "  507.563,363.385 507.563,384.952 525.624,384.952 525.624,363.385 507.563,363.385 \n",
       "  \"/>\n",
       "<polygon clip-path=\"url(#clip02)\" points=\"\n",
       "525.624,377.763 525.624,384.952 543.685,384.952 543.685,377.763 525.624,377.763 525.624,377.763 \n",
       "  \" fill=\"#0099ff\" fill-opacity=\"1\"/>\n",
       "<polyline clip-path=\"url(#clip02)\" style=\"stroke:#00002d; stroke-width:0.8; stroke-opacity:1; fill:none\" points=\"\n",
       "  525.624,377.763 525.624,384.952 543.685,384.952 543.685,377.763 525.624,377.763 \n",
       "  \"/>\n",
       "<polygon clip-path=\"url(#clip02)\" points=\"\n",
       "543.685,377.763 543.685,384.952 561.747,384.952 561.747,377.763 543.685,377.763 543.685,377.763 \n",
       "  \" fill=\"#0099ff\" fill-opacity=\"1\"/>\n",
       "<polyline clip-path=\"url(#clip02)\" style=\"stroke:#00002d; stroke-width:0.8; stroke-opacity:1; fill:none\" points=\"\n",
       "  543.685,377.763 543.685,384.952 561.747,384.952 561.747,377.763 543.685,377.763 \n",
       "  \"/>\n",
       "<polygon clip-path=\"url(#clip02)\" points=\"\n",
       "561.747,377.763 561.747,384.952 579.808,384.952 579.808,377.763 561.747,377.763 561.747,377.763 \n",
       "  \" fill=\"#0099ff\" fill-opacity=\"1\"/>\n",
       "<polyline clip-path=\"url(#clip02)\" style=\"stroke:#00002d; stroke-width:0.8; stroke-opacity:1; fill:none\" points=\"\n",
       "  561.747,377.763 561.747,384.952 579.808,384.952 579.808,377.763 561.747,377.763 \n",
       "  \"/>\n",
       "<polygon clip-path=\"url(#clip00)\" points=\"\n",
       "505.547,55.057 578.063,55.057 578.063,24.817 505.547,24.817 \n",
       "  \" fill=\"#ffffff\" fill-opacity=\"1\"/>\n",
       "<polyline clip-path=\"url(#clip00)\" style=\"stroke:#00002d; stroke-width:0.8; stroke-opacity:1; fill:none\" points=\"\n",
       "  505.547,55.057 578.063,55.057 578.063,24.817 505.547,24.817 505.547,55.057 \n",
       "  \"/>\n",
       "<polygon clip-path=\"url(#clip00)\" points=\"\n",
       "511.547,45.985 547.547,45.985 547.547,33.889 511.547,33.889 511.547,45.985 \n",
       "  \" fill=\"#0099ff\" fill-opacity=\"1\"/>\n",
       "<polyline clip-path=\"url(#clip00)\" style=\"stroke:#00002d; stroke-width:0.8; stroke-opacity:1; fill:none\" points=\"\n",
       "  511.547,45.985 547.547,45.985 547.547,33.889 511.547,33.889 511.547,45.985 \n",
       "  \"/>\n",
       "<g clip-path=\"url(#clip00)\">\n",
       "<text style=\"fill:#00002d; fill-opacity:1; font-family:Arial,Helvetica Neue,Helvetica,sans-serif; font-size:12; text-anchor:start;\" transform=\"rotate(0, 553.547, 44.437)\" x=\"553.547\" y=\"44.437\">y1</text>\n",
       "</g>\n",
       "</svg>\n"
      ]
     },
     "execution_count": 3,
     "metadata": {},
     "output_type": "execute_result"
    }
   ],
   "source": [
    "N = 500\n",
    "srand(10)\n",
    "x = [100 + 20randn(7N÷10,1); 150 + 35randn(3N÷10,1)]\n",
    "Plots.histogram(x)"
   ]
  },
  {
   "cell_type": "markdown",
   "metadata": {},
   "source": [
    "## 2. 极大似然参数估计"
   ]
  },
  {
   "cell_type": "code",
   "execution_count": null,
   "metadata": {
    "ExecuteTime": {
     "end_time": "2016-12-22T17:14:42.829569",
     "start_time": "2016-12-22T09:14:19.354Z"
    },
    "collapsed": false,
    "run_control": {
     "frozen": false,
     "read_only": false
    },
    "scrolled": true
   },
   "outputs": [],
   "source": [
    "g1 = GMM(1, x; method=:kmeans, kind=:diag, nInit=50, nIter=100, nFinal=10)\n",
    "m1 = MixtureModel(g1)"
   ]
  },
  {
   "cell_type": "code",
   "execution_count": 5,
   "metadata": {
    "ExecuteTime": {
     "end_time": "2016-12-22T17:14:45.035175",
     "start_time": "2016-12-22T09:14:19.361Z"
    },
    "collapsed": false,
    "run_control": {
     "frozen": false,
     "read_only": false
    },
    "scrolled": true
   },
   "outputs": [
    {
     "name": "stdout",
     "output_type": "stream",
     "text": [
      "m1 = MixtureModel{Distributions.Normal{Float64}}(K = 1)\n",
      "components[1] (prior = 1.0000): Distributions.Normal{Float64}(μ=115.40082517992488, σ=32.80213264021365)\n",
      "\n",
      "m1 = MixtureModel{Distributions.Normal{Float64}}(K = 1)\n",
      "components[1] (prior = 1.0000): Distributions.Normal{Float64}(μ=115.40082517992488, σ=32.80213264021365)\n",
      "\n",
      "m1 = MixtureModel{Distributions.Normal{Float64}}(K = 1)\n",
      "components[1] (prior = 1.0000): Distributions.Normal{Float64}(μ=115.40082517992488, σ=32.80213264021365)\n",
      "\n"
     ]
    }
   ],
   "source": [
    "for t = 1:3\n",
    "    em!(g1, x)\n",
    "    m1 = MixtureModel(g1)\n",
    "    @show m1\n",
    "end"
   ]
  },
  {
   "cell_type": "code",
   "execution_count": null,
   "metadata": {
    "ExecuteTime": {
     "end_time": "2016-12-22T17:14:46.794466",
     "start_time": "2016-12-22T09:14:19.372Z"
    },
    "collapsed": false,
    "run_control": {
     "frozen": false,
     "read_only": false
    }
   },
   "outputs": [],
   "source": [
    "g2 = GMM(2, x; method=:kmeans, kind=:diag, nInit=50, nIter=100, nFinal=10)\n",
    "m2 = MixtureModel(g2)"
   ]
  },
  {
   "cell_type": "code",
   "execution_count": 7,
   "metadata": {
    "ExecuteTime": {
     "end_time": "2016-12-22T17:14:46.808508",
     "start_time": "2016-12-22T09:14:19.378Z"
    },
    "collapsed": false,
    "run_control": {
     "frozen": false,
     "read_only": false
    }
   },
   "outputs": [
    {
     "name": "stdout",
     "output_type": "stream",
     "text": [
      "m2 = MixtureModel{Distributions.Normal{Float64}}(K = 2)\n",
      "components[1] (prior = 0.7758): Distributions.Normal{Float64}(μ=102.42203241935307, σ=19.943323672453463)\n",
      "components[2] (prior = 0.2242): Distributions.Normal{Float64}(μ=160.3212093306435, σ=28.680466015739473)\n",
      "\n",
      "m2 = MixtureModel{Distributions.Normal{Float64}}(K = 2)\n",
      "components[1] (prior = 0.7770): Distributions.Normal{Float64}(μ=102.45262236522714, σ=19.959483639293616)\n",
      "components[2] (prior = 0.2230): Distributions.Normal{Float64}(μ=160.50933205173305, σ=28.595880735995877)\n",
      "\n",
      "m2 = MixtureModel{Distributions.Normal{Float64}}(K = 2)\n",
      "components[1] (prior = 0.7779): Distributions.Normal{Float64}(μ=102.47822197309131, σ=19.97303589978457)\n",
      "components[2] (prior = 0.2221): Distributions.Normal{Float64}(μ=160.6658545684686, σ=28.52540931573819)\n",
      "\n"
     ]
    }
   ],
   "source": [
    "for t = 1:3\n",
    "    em!(g2, x)\n",
    "    m2 = MixtureModel(g2)\n",
    "    @show m2\n",
    "end"
   ]
  },
  {
   "cell_type": "code",
   "execution_count": null,
   "metadata": {
    "ExecuteTime": {
     "end_time": "2016-12-22T17:14:46.930981",
     "start_time": "2016-12-22T09:14:19.385Z"
    },
    "collapsed": false,
    "run_control": {
     "frozen": false,
     "read_only": false
    },
    "scrolled": true
   },
   "outputs": [],
   "source": [
    "g3 = GMM(3, x; method=:kmeans, kind=:diag, nInit=50, nIter=100, nFinal=10)\n",
    "m3 = MixtureModel(g3)"
   ]
  },
  {
   "cell_type": "code",
   "execution_count": 9,
   "metadata": {
    "ExecuteTime": {
     "end_time": "2016-12-22T17:14:46.945522",
     "start_time": "2016-12-22T09:14:19.391Z"
    },
    "collapsed": false,
    "run_control": {
     "frozen": false,
     "read_only": false
    }
   },
   "outputs": [
    {
     "name": "stdout",
     "output_type": "stream",
     "text": [
      "m3 = MixtureModel{Distributions.Normal{Float64}}(K = 3)\n",
      "components[1] (prior = 0.1550): Distributions.Normal{Float64}(μ=171.60482697292602, σ=24.366317668977377)\n",
      "components[2] (prior = 0.5024): Distributions.Normal{Float64}(μ=96.74787883819639, σ=17.98503246184642)\n",
      "components[3] (prior = 0.3426): Distributions.Normal{Float64}(μ=117.31975908000534, σ=21.31507232193434)\n",
      "\n",
      "m3 = MixtureModel{Distributions.Normal{Float64}}(K = 3)\n",
      "components[1] (prior = 0.1521): Distributions.Normal{Float64}(μ=172.10979653250655, σ=24.184127699875955)\n",
      "components[2] (prior = 0.5042): Distributions.Normal{Float64}(μ=96.90147800095217, σ=18.009899892518188)\n",
      "components[3] (prior = 0.3437): Distributions.Normal{Float64}(μ=117.44642317394369, σ=21.6060971424613)\n",
      "\n",
      "m3 = MixtureModel{Distributions.Normal{Float64}}(K = 3)\n",
      "components[1] (prior = 0.1491): Distributions.Normal{Float64}(μ=172.61276235531648, σ=24.002610938830674)\n",
      "components[2] (prior = 0.5059): Distributions.Normal{Float64}(μ=97.04351074168055, σ=18.02851440083085)\n",
      "components[3] (prior = 0.3450): Distributions.Normal{Float64}(μ=117.58456105157497, σ=21.891145991941944)\n",
      "\n"
     ]
    }
   ],
   "source": [
    "for t = 1:3\n",
    "    em!(g3, x)\n",
    "    m3 = MixtureModel(g3)\n",
    "    @show m3\n",
    "end"
   ]
  },
  {
   "cell_type": "markdown",
   "metadata": {},
   "source": [
    "## 3.假设检验\n",
    "\n",
    "把模拟实验结果作为观察数据，针对不同的N， 分别采用M1、M2作为null hypothesis, 用卡方检验，判别在显著性0.05时是否应该否定相应模型?\n"
   ]
  },
  {
   "cell_type": "markdown",
   "metadata": {},
   "source": [
    "将数据x做直方图h，把直方图统计区间的最左边和最右边延展到无穷大，利用MixtureModel的pdf积分计算每个区间的理论概率 $E$，与实际直方图h得到的O结合计算卡方值 $\\chi^{2}$, p是MixtureModel的混合数，length(x)-1-p是卡方分布的自由度，利用卡方分布的cdf可以计算significance"
   ]
  },
  {
   "cell_type": "code",
   "execution_count": 10,
   "metadata": {
    "ExecuteTime": {
     "end_time": "2016-12-22T17:14:47.054186",
     "start_time": "2016-12-22T09:14:19.399Z"
    },
    "collapsed": false,
    "run_control": {
     "frozen": false,
     "read_only": false
    }
   },
   "outputs": [
    {
     "data": {
      "text/plain": [
       "prob (generic function with 1 method)"
      ]
     },
     "execution_count": 10,
     "metadata": {},
     "output_type": "execute_result"
    }
   ],
   "source": [
    "prob(m, x1, x2) = quadgk(x->pdf(m, x), x1, x2)[1]"
   ]
  },
  {
   "cell_type": "code",
   "execution_count": 11,
   "metadata": {
    "ExecuteTime": {
     "end_time": "2016-12-22T17:14:47.059446",
     "start_time": "2016-12-22T09:14:19.405Z"
    },
    "collapsed": false,
    "run_control": {
     "frozen": false,
     "read_only": false
    }
   },
   "outputs": [
    {
     "data": {
      "text/plain": [
       "Chisq_test (generic function with 1 method)"
      ]
     },
     "execution_count": 11,
     "metadata": {},
     "output_type": "execute_result"
    }
   ],
   "source": [
    "function Chisq_test(m, x)\n",
    "    h = fit(Histogram, vec(x))\n",
    "    edge = [-Inf; h.edges[1][2:end-1]; Inf]\n",
    "    interval = [(edge[i], edge[i+1]) for i in 1:length(edge)-1]\n",
    "\n",
    "    O = h.weights\n",
    "    E = length(x)*[prob(m, ab...) for ab in interval]\n",
    "    χ² = sum((O[i] - E[i]) ^ 2 / E[i] for i in 1:length(O))\n",
    "\n",
    "    p = 2length(m.components)\n",
    "    significance = 1 - cdf(Chisq(length(O) - 1 - p), χ²)\n",
    "    significance\n",
    "end"
   ]
  },
  {
   "cell_type": "code",
   "execution_count": 12,
   "metadata": {
    "ExecuteTime": {
     "end_time": "2016-12-22T17:14:49.563055",
     "start_time": "2016-12-22T09:14:19.412Z"
    },
    "collapsed": false,
    "run_control": {
     "frozen": false,
     "read_only": false
    },
    "scrolled": true
   },
   "outputs": [
    {
     "name": "stdout",
     "output_type": "stream",
     "text": [
      "significance = Chisq_test(m1,x) = 1.1102230246251565e-16\n",
      "significance = Chisq_test(m2,x) = 0.7606675724047451\n"
     ]
    }
   ],
   "source": [
    "@show significance = Chisq_test(m1, x)\n",
    "@show significance = Chisq_test(m2, x);"
   ]
  },
  {
   "cell_type": "markdown",
   "metadata": {
    "ExecuteTime": {
     "end_time": "2016-12-21T22:42:39.466239",
     "start_time": "2016-12-21T14:37:16.907Z"
    }
   },
   "source": [
    "M2的显著性大于0.05， 不能否定M2\n",
    "\n",
    "M1的显著性小于0.05， 否定M1"
   ]
  },
  {
   "cell_type": "markdown",
   "metadata": {},
   "source": [
    "## 4. 模型选择\n",
    "\n",
    "把模拟实验结果作为了观察数据，针对不同的N，用修正的AIC判据在M1， M2，M3 中做出选择"
   ]
  },
  {
   "cell_type": "code",
   "execution_count": 13,
   "metadata": {
    "ExecuteTime": {
     "end_time": "2016-12-22T17:14:49.566700",
     "start_time": "2016-12-22T09:14:19.419Z"
    },
    "collapsed": false,
    "run_control": {
     "frozen": false,
     "read_only": false
    }
   },
   "outputs": [
    {
     "data": {
      "text/plain": [
       "AIC_select (generic function with 1 method)"
      ]
     },
     "execution_count": 13,
     "metadata": {},
     "output_type": "execute_result"
    }
   ],
   "source": [
    "function AIC_select(m, x)\n",
    "    k = 2length(m.components)\n",
    "    L = sum(logpdf(m, x[i]) for i in 1:length(x))\n",
    "    aic = 2k - 2L\n",
    "    L, aic\n",
    "end"
   ]
  },
  {
   "cell_type": "markdown",
   "metadata": {},
   "source": [
    "L denotes likelihood"
   ]
  },
  {
   "cell_type": "code",
   "execution_count": 14,
   "metadata": {
    "ExecuteTime": {
     "end_time": "2016-12-22T17:14:49.681059",
     "start_time": "2016-12-22T09:14:19.423Z"
    },
    "collapsed": false,
    "run_control": {
     "frozen": false,
     "read_only": false
    },
    "scrolled": true
   },
   "outputs": [
    {
     "name": "stdout",
     "output_type": "stream",
     "text": [
      "(L,aic) = AIC_select(m1,x) = (-2454.7160329998997,4913.432065999799)\n",
      "(L,aic) = AIC_select(m2,x) = (-2409.269620663083,4826.539241326166)\n",
      "(L,aic) = AIC_select(m3,x) = (-2408.798533607517,4829.597067215034)\n"
     ]
    }
   ],
   "source": [
    "@show L, aic = AIC_select(m1, x)\n",
    "@show L, aic = AIC_select(m2, x)\n",
    "@show L, aic = AIC_select(m3, x);"
   ]
  },
  {
   "cell_type": "markdown",
   "metadata": {},
   "source": [
    "M2的AIC最小， 选择M2"
   ]
  }
 ],
 "metadata": {
  "kernelspec": {
   "display_name": "Julia 0.5.0",
   "language": "julia",
   "name": "julia-0.5"
  },
  "language_info": {
   "file_extension": ".jl",
   "mimetype": "application/julia",
   "name": "julia",
   "version": "0.5.0"
  }
 },
 "nbformat": 4,
 "nbformat_minor": 0
}
