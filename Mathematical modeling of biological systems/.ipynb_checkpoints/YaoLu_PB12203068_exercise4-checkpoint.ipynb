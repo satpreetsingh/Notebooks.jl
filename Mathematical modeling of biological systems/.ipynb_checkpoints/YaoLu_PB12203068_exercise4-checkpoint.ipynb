{
 "cells": [
  {
   "cell_type": "markdown",
   "metadata": {},
   "source": [
    "This is a function to calculate the fisher score of data $(X, y)$ along a direction $\\overrightarrow{e}$. $X[d, i]$ denotes the d-th component of the i-th point, $y[i]$ denotes the label of the i-th point."
   ]
  },
  {
   "cell_type": "code",
   "execution_count": 1,
   "metadata": {
    "ExecuteTime": {
     "end_time": "2016-12-20T20:47:24.342300",
     "start_time": "2016-12-20T12:47:26.426Z"
    },
    "collapsed": false
   },
   "outputs": [
    {
     "data": {
      "text/plain": [
       "fisher_score (generic function with 1 method)"
      ]
     },
     "execution_count": 1,
     "metadata": {},
     "output_type": "execute_result"
    }
   ],
   "source": [
    "function fisher_score(X, y, e)\n",
    "  x = At_mul_B(normalize(e), X)\n",
    "\n",
    "  N = length(x)\n",
    "  Nc = maximum(y)\n",
    "\n",
    "  n = zeros(Nc)\n",
    "  μ = zeros(Nc)\n",
    "  σ2 = zeros(Nc)\n",
    "\n",
    "  for i in 1:N\n",
    "     c =  y[i]\n",
    "     n[c] += 1\n",
    "     μ[c] += x[i]\n",
    "  end\n",
    "  μ ./= n\n",
    "\n",
    "  for i in 1:N\n",
    "    c = y[i]\n",
    "    σ2[c] += (x[i] - μ[c]) ^ 2\n",
    "  end\n",
    "  σ2 ./= n\n",
    "\n",
    "  μtot = mean(x)\n",
    "  sb = sum(n[c] * (μ[c] - μtot) ^ 2 for c in 1:Nc)\n",
    "  sw = sum(n[c] * σ2[c] for c in 1:Nc)\n",
    "  score = sb / sw\n",
    "end"
   ]
  },
  {
   "cell_type": "markdown",
   "metadata": {},
   "source": [
    "This is a function to calculate the generalized eigenvalues and eigenvectors of $S_{between}$, $S_{within}$"
   ]
  },
  {
   "cell_type": "code",
   "execution_count": 2,
   "metadata": {
    "ExecuteTime": {
     "end_time": "2016-12-20T20:47:26.092411",
     "start_time": "2016-12-20T12:47:29.086Z"
    },
    "collapsed": false,
    "run_control": {
     "frozen": false,
     "read_only": false
    }
   },
   "outputs": [
    {
     "data": {
      "text/plain": [
       "lda (generic function with 1 method)"
      ]
     },
     "execution_count": 2,
     "metadata": {},
     "output_type": "execute_result"
    }
   ],
   "source": [
    "function lda(X, y)\n",
    "  D, N = size(X)\n",
    "  Nc = maximum(y)\n",
    "\n",
    "  n = zeros(Nc)\n",
    "  μ = [zeros(D) for c in 1:Nc]\n",
    "  Σ = [zeros(D, D) for c in 1:Nc]\n",
    "\n",
    "  for i = 1:N\n",
    "    c = y[i]\n",
    "    n[c] += 1\n",
    "    for d = 1:D\n",
    "      μ[c][d] += X[d, i]\n",
    "    end\n",
    "  end\n",
    "  μ ./= n\n",
    "\n",
    "  for i in 1:N\n",
    "    c = y[i]\n",
    "    for d1 = 1:D, d2 = 1:D\n",
    "      Σ[c][d1, d2] += (X[d1, i] - μ[c][d1]) * ((X[d2, i] - μ[c][d2]))\n",
    "    end\n",
    "  end\n",
    "  Σ ./= n\n",
    "\n",
    "  μtot = mean(X, 2)\n",
    "\n",
    "  Sw = zeros(D, D)\n",
    "  for c = 1:Nc, d2 = 1:D, d1 = 1:D\n",
    "    Sw[d1, d2] += n[c] * Σ[c][d1, d2]\n",
    "  end\n",
    "\n",
    "  Sb = zeros(D, D)\n",
    "  for c = 1:Nc, d2 = 1:D, d1 = 1:D\n",
    "    Sb[d1, d2] += n[c] * (μ[c][d1] - μtot[d1]) * (μ[c][d2] - μtot[d2])\n",
    "  end\n",
    "\n",
    "  D, V = eig(Sb, Sw)\n",
    "end"
   ]
  },
  {
   "cell_type": "markdown",
   "metadata": {},
   "source": [
    "This is the data provided by Prof. Liu. For y, 1 represents red and 2 represents blue."
   ]
  },
  {
   "cell_type": "code",
   "execution_count": 3,
   "metadata": {
    "ExecuteTime": {
     "end_time": "2016-12-20T20:47:27.298770",
     "start_time": "2016-12-20T12:47:30.257Z"
    },
    "collapsed": false,
    "run_control": {
     "frozen": false,
     "read_only": false
    }
   },
   "outputs": [],
   "source": [
    "X = [3 2 2 1 4 6 8 9 9 10;\n",
    "     6 4 3 4 4 9 7 5 10 8]\n",
    "\n",
    "y = [1, 1, 1, 1, 1, 2, 2, 2, 2, 2];"
   ]
  },
  {
   "cell_type": "markdown",
   "metadata": {},
   "source": [
    "Fisher score along x1 direction."
   ]
  },
  {
   "cell_type": "code",
   "execution_count": 4,
   "metadata": {
    "ExecuteTime": {
     "end_time": "2016-12-20T20:47:28.971152",
     "start_time": "2016-12-20T12:47:30.815Z"
    },
    "collapsed": false,
    "run_control": {
     "frozen": false,
     "read_only": false
    }
   },
   "outputs": [
    {
     "data": {
      "text/plain": [
       "6.250000000000002"
      ]
     },
     "execution_count": 4,
     "metadata": {},
     "output_type": "execute_result"
    }
   ],
   "source": [
    "fisher_score(X, y, [1.0, 0.0])"
   ]
  },
  {
   "cell_type": "markdown",
   "metadata": {},
   "source": [
    "Fisher score along x2 direction."
   ]
  },
  {
   "cell_type": "code",
   "execution_count": 5,
   "metadata": {
    "ExecuteTime": {
     "end_time": "2016-12-20T20:47:50.996010",
     "start_time": "2016-12-20T12:47:53.906Z"
    },
    "collapsed": false
   },
   "outputs": [
    {
     "data": {
      "text/plain": [
       "1.6530612244897953"
      ]
     },
     "execution_count": 5,
     "metadata": {},
     "output_type": "execute_result"
    }
   ],
   "source": [
    "fisher_score(X, y, [0.0, 1.0])"
   ]
  },
  {
   "cell_type": "markdown",
   "metadata": {},
   "source": [
    "Generalized eigenvalues and eigenvectors of $S_{between}$, $S_{within}$"
   ]
  },
  {
   "cell_type": "code",
   "execution_count": 6,
   "metadata": {
    "ExecuteTime": {
     "end_time": "2016-12-20T20:47:54.855666",
     "start_time": "2016-12-20T12:47:55.796Z"
    },
    "collapsed": false
   },
   "outputs": [
    {
     "data": {
      "text/plain": [
       "([0.0,8.31518],\n",
       "[0.117706 -0.236298; -0.196177 -0.112768])"
      ]
     },
     "execution_count": 6,
     "metadata": {},
     "output_type": "execute_result"
    }
   ],
   "source": [
    "D, V = lda(X, y)"
   ]
  },
  {
   "cell_type": "markdown",
   "metadata": {},
   "source": [
    "The maximum projection direction: $(1,k)$"
   ]
  },
  {
   "cell_type": "code",
   "execution_count": 7,
   "metadata": {
    "ExecuteTime": {
     "end_time": "2016-12-20T20:47:57.546716",
     "start_time": "2016-12-20T12:48:00.575Z"
    },
    "collapsed": false
   },
   "outputs": [
    {
     "data": {
      "text/plain": [
       "0.5748287606847523"
      ]
     },
     "execution_count": 7,
     "metadata": {},
     "output_type": "execute_result"
    }
   ],
   "source": [
    "k = V[2, 2] / V[2, 1]"
   ]
  },
  {
   "cell_type": "markdown",
   "metadata": {
    "ExecuteTime": {
     "end_time": "2016-12-20T20:46:01.585375",
     "start_time": "2016-12-20T12:46:04.547Z"
    }
   },
   "source": [
    "The maximum score along direction $(1,k)$"
   ]
  },
  {
   "cell_type": "code",
   "execution_count": 8,
   "metadata": {
    "ExecuteTime": {
     "end_time": "2016-12-20T20:48:17.683889",
     "start_time": "2016-12-20T12:48:20.685Z"
    },
    "collapsed": false
   },
   "outputs": [
    {
     "data": {
      "text/plain": [
       "8.315175650689802"
      ]
     },
     "execution_count": 8,
     "metadata": {},
     "output_type": "execute_result"
    }
   ],
   "source": [
    "max_score = D[2]"
   ]
  },
  {
   "cell_type": "markdown",
   "metadata": {},
   "source": [
    "The green line is the max-direction. Intuitively, it seperates the red and blue objects perfectly."
   ]
  },
  {
   "cell_type": "code",
   "execution_count": 10,
   "metadata": {
    "ExecuteTime": {
     "end_time": "2016-12-20T20:48:44.720651",
     "start_time": "2016-12-20T12:48:34.496Z"
    },
    "collapsed": false
   },
   "outputs": [
    {
     "data": {
      "text/html": [
       "<?xml version=\"1.0\" encoding=\"utf-8\"?>\n",
       "<svg xmlns=\"http://www.w3.org/2000/svg\" xmlns:xlink=\"http://www.w3.org/1999/xlink\" width=\"600\" height=\"400\" viewBox=\"0 0 600 400\">\n",
       "<defs>\n",
       "  <clipPath id=\"clip00\">\n",
       "    <rect x=\"0\" y=\"0\" width=\"600\" height=\"400\"/>\n",
       "  </clipPath>\n",
       "</defs>\n",
       "<polygon clip-path=\"url(#clip00)\" points=\"\n",
       "0,400 600,400 600,0 0,0 \n",
       "  \" fill=\"#ffffff\" fill-opacity=\"1\"/>\n",
       "<defs>\n",
       "  <clipPath id=\"clip01\">\n",
       "    <rect x=\"120\" y=\"0\" width=\"421\" height=\"400\"/>\n",
       "  </clipPath>\n",
       "</defs>\n",
       "<polygon clip-path=\"url(#clip00)\" points=\"\n",
       "21.7148,384.952 596.063,384.952 596.063,3.93701 21.7148,3.93701 \n",
       "  \" fill=\"#ffffff\" fill-opacity=\"1\"/>\n",
       "<defs>\n",
       "  <clipPath id=\"clip02\">\n",
       "    <rect x=\"21\" y=\"3\" width=\"575\" height=\"382\"/>\n",
       "  </clipPath>\n",
       "</defs>\n",
       "<polyline clip-path=\"url(#clip02)\" style=\"stroke:#00002d; stroke-width:0.8; stroke-opacity:0.5; fill:none\" stroke-dasharray=\"1, 2\" points=\"\n",
       "  98.1741,379.237 98.1741,9.65223 \n",
       "  \"/>\n",
       "<polyline clip-path=\"url(#clip02)\" style=\"stroke:#00002d; stroke-width:0.8; stroke-opacity:0.5; fill:none\" stroke-dasharray=\"1, 2\" points=\"\n",
       "  218.583,379.237 218.583,9.65223 \n",
       "  \"/>\n",
       "<polyline clip-path=\"url(#clip02)\" style=\"stroke:#00002d; stroke-width:0.8; stroke-opacity:0.5; fill:none\" stroke-dasharray=\"1, 2\" points=\"\n",
       "  338.991,379.237 338.991,9.65223 \n",
       "  \"/>\n",
       "<polyline clip-path=\"url(#clip02)\" style=\"stroke:#00002d; stroke-width:0.8; stroke-opacity:0.5; fill:none\" stroke-dasharray=\"1, 2\" points=\"\n",
       "  459.399,379.237 459.399,9.65223 \n",
       "  \"/>\n",
       "<polyline clip-path=\"url(#clip02)\" style=\"stroke:#00002d; stroke-width:0.8; stroke-opacity:0.5; fill:none\" stroke-dasharray=\"1, 2\" points=\"\n",
       "  579.808,379.237 579.808,9.65223 \n",
       "  \"/>\n",
       "<polyline clip-path=\"url(#clip02)\" style=\"stroke:#00002d; stroke-width:0.8; stroke-opacity:0.5; fill:none\" stroke-dasharray=\"1, 2\" points=\"\n",
       "  30.33,271.469 587.448,271.469 \n",
       "  \"/>\n",
       "<polyline clip-path=\"url(#clip02)\" style=\"stroke:#00002d; stroke-width:0.8; stroke-opacity:0.5; fill:none\" stroke-dasharray=\"1, 2\" points=\"\n",
       "  30.33,14.7204 587.448,14.7204 \n",
       "  \"/>\n",
       "<polyline clip-path=\"url(#clip02)\" style=\"stroke:#00002d; stroke-width:0.8; stroke-opacity:1; fill:none\" points=\"\n",
       "  21.7148,384.952 596.063,384.952 \n",
       "  \"/>\n",
       "<polyline clip-path=\"url(#clip02)\" style=\"stroke:#00002d; stroke-width:0.8; stroke-opacity:1; fill:none\" points=\"\n",
       "  98.1741,384.952 98.1741,379.237 \n",
       "  \"/>\n",
       "<polyline clip-path=\"url(#clip02)\" style=\"stroke:#00002d; stroke-width:0.8; stroke-opacity:1; fill:none\" points=\"\n",
       "  218.583,384.952 218.583,379.237 \n",
       "  \"/>\n",
       "<polyline clip-path=\"url(#clip02)\" style=\"stroke:#00002d; stroke-width:0.8; stroke-opacity:1; fill:none\" points=\"\n",
       "  338.991,384.952 338.991,379.237 \n",
       "  \"/>\n",
       "<polyline clip-path=\"url(#clip02)\" style=\"stroke:#00002d; stroke-width:0.8; stroke-opacity:1; fill:none\" points=\"\n",
       "  459.399,384.952 459.399,379.237 \n",
       "  \"/>\n",
       "<polyline clip-path=\"url(#clip02)\" style=\"stroke:#00002d; stroke-width:0.8; stroke-opacity:1; fill:none\" points=\"\n",
       "  579.808,384.952 579.808,379.237 \n",
       "  \"/>\n",
       "<polyline clip-path=\"url(#clip02)\" style=\"stroke:#00002d; stroke-width:0.8; stroke-opacity:1; fill:none\" points=\"\n",
       "  21.7148,384.952 21.7148,3.93701 \n",
       "  \"/>\n",
       "<polyline clip-path=\"url(#clip02)\" style=\"stroke:#00002d; stroke-width:0.8; stroke-opacity:1; fill:none\" points=\"\n",
       "  21.7148,271.469 30.33,271.469 \n",
       "  \"/>\n",
       "<polyline clip-path=\"url(#clip02)\" style=\"stroke:#00002d; stroke-width:0.8; stroke-opacity:1; fill:none\" points=\"\n",
       "  21.7148,14.7204 30.33,14.7204 \n",
       "  \"/>\n",
       "<g clip-path=\"url(#clip00)\">\n",
       "<text style=\"fill:#00002d; fill-opacity:1; font-family:Arial,Helvetica Neue,Helvetica,sans-serif; font-size:12; text-anchor:middle;\" transform=\"rotate(0, 98.1741, 396.952)\" x=\"98.1741\" y=\"396.952\">2</text>\n",
       "</g>\n",
       "<g clip-path=\"url(#clip00)\">\n",
       "<text style=\"fill:#00002d; fill-opacity:1; font-family:Arial,Helvetica Neue,Helvetica,sans-serif; font-size:12; text-anchor:middle;\" transform=\"rotate(0, 218.583, 396.952)\" x=\"218.583\" y=\"396.952\">4</text>\n",
       "</g>\n",
       "<g clip-path=\"url(#clip00)\">\n",
       "<text style=\"fill:#00002d; fill-opacity:1; font-family:Arial,Helvetica Neue,Helvetica,sans-serif; font-size:12; text-anchor:middle;\" transform=\"rotate(0, 338.991, 396.952)\" x=\"338.991\" y=\"396.952\">6</text>\n",
       "</g>\n",
       "<g clip-path=\"url(#clip00)\">\n",
       "<text style=\"fill:#00002d; fill-opacity:1; font-family:Arial,Helvetica Neue,Helvetica,sans-serif; font-size:12; text-anchor:middle;\" transform=\"rotate(0, 459.399, 396.952)\" x=\"459.399\" y=\"396.952\">8</text>\n",
       "</g>\n",
       "<g clip-path=\"url(#clip00)\">\n",
       "<text style=\"fill:#00002d; fill-opacity:1; font-family:Arial,Helvetica Neue,Helvetica,sans-serif; font-size:12; text-anchor:middle;\" transform=\"rotate(0, 579.808, 396.952)\" x=\"579.808\" y=\"396.952\">10</text>\n",
       "</g>\n",
       "<g clip-path=\"url(#clip00)\">\n",
       "<text style=\"fill:#00002d; fill-opacity:1; font-family:Arial,Helvetica Neue,Helvetica,sans-serif; font-size:12; text-anchor:end;\" transform=\"rotate(0, 20.5148, 275.969)\" x=\"20.5148\" y=\"275.969\">5</text>\n",
       "</g>\n",
       "<g clip-path=\"url(#clip00)\">\n",
       "<text style=\"fill:#00002d; fill-opacity:1; font-family:Arial,Helvetica Neue,Helvetica,sans-serif; font-size:12; text-anchor:end;\" transform=\"rotate(0, 20.5148, 19.2204)\" x=\"20.5148\" y=\"19.2204\">10</text>\n",
       "</g>\n",
       "<circle clip-path=\"url(#clip02)\" style=\"fill:#00002d; stroke:none; fill-opacity:1\" cx=\"158.378\" cy=\"220.119\" r=\"3\"/>\n",
       "<circle clip-path=\"url(#clip02)\" style=\"fill:#0099ff; stroke:none; fill-opacity:1\" cx=\"158.378\" cy=\"220.119\" r=\"2\"/>\n",
       "<circle clip-path=\"url(#clip02)\" style=\"fill:#00002d; stroke:none; fill-opacity:1\" cx=\"98.1741\" cy=\"322.819\" r=\"3\"/>\n",
       "<circle clip-path=\"url(#clip02)\" style=\"fill:#0099ff; stroke:none; fill-opacity:1\" cx=\"98.1741\" cy=\"322.819\" r=\"2\"/>\n",
       "<circle clip-path=\"url(#clip02)\" style=\"fill:#00002d; stroke:none; fill-opacity:1\" cx=\"98.1741\" cy=\"374.168\" r=\"3\"/>\n",
       "<circle clip-path=\"url(#clip02)\" style=\"fill:#0099ff; stroke:none; fill-opacity:1\" cx=\"98.1741\" cy=\"374.168\" r=\"2\"/>\n",
       "<circle clip-path=\"url(#clip02)\" style=\"fill:#00002d; stroke:none; fill-opacity:1\" cx=\"37.9699\" cy=\"322.819\" r=\"3\"/>\n",
       "<circle clip-path=\"url(#clip02)\" style=\"fill:#0099ff; stroke:none; fill-opacity:1\" cx=\"37.9699\" cy=\"322.819\" r=\"2\"/>\n",
       "<circle clip-path=\"url(#clip02)\" style=\"fill:#00002d; stroke:none; fill-opacity:1\" cx=\"218.583\" cy=\"322.819\" r=\"3\"/>\n",
       "<circle clip-path=\"url(#clip02)\" style=\"fill:#0099ff; stroke:none; fill-opacity:1\" cx=\"218.583\" cy=\"322.819\" r=\"2\"/>\n",
       "<circle clip-path=\"url(#clip02)\" style=\"fill:#00002d; stroke:none; fill-opacity:1\" cx=\"338.991\" cy=\"66.0702\" r=\"3\"/>\n",
       "<circle clip-path=\"url(#clip02)\" style=\"fill:#e9746a; stroke:none; fill-opacity:1\" cx=\"338.991\" cy=\"66.0702\" r=\"2\"/>\n",
       "<circle clip-path=\"url(#clip02)\" style=\"fill:#00002d; stroke:none; fill-opacity:1\" cx=\"459.399\" cy=\"168.77\" r=\"3\"/>\n",
       "<circle clip-path=\"url(#clip02)\" style=\"fill:#e9746a; stroke:none; fill-opacity:1\" cx=\"459.399\" cy=\"168.77\" r=\"2\"/>\n",
       "<circle clip-path=\"url(#clip02)\" style=\"fill:#00002d; stroke:none; fill-opacity:1\" cx=\"519.604\" cy=\"271.469\" r=\"3\"/>\n",
       "<circle clip-path=\"url(#clip02)\" style=\"fill:#e9746a; stroke:none; fill-opacity:1\" cx=\"519.604\" cy=\"271.469\" r=\"2\"/>\n",
       "<circle clip-path=\"url(#clip02)\" style=\"fill:#00002d; stroke:none; fill-opacity:1\" cx=\"519.604\" cy=\"14.7204\" r=\"3\"/>\n",
       "<circle clip-path=\"url(#clip02)\" style=\"fill:#e9746a; stroke:none; fill-opacity:1\" cx=\"519.604\" cy=\"14.7204\" r=\"2\"/>\n",
       "<circle clip-path=\"url(#clip02)\" style=\"fill:#00002d; stroke:none; fill-opacity:1\" cx=\"579.808\" cy=\"117.42\" r=\"3\"/>\n",
       "<circle clip-path=\"url(#clip02)\" style=\"fill:#e9746a; stroke:none; fill-opacity:1\" cx=\"579.808\" cy=\"117.42\" r=\"2\"/>\n",
       "<polyline clip-path=\"url(#clip02)\" style=\"stroke:#3cb370; stroke-width:0.8; stroke-opacity:1; fill:none\" points=\"\n",
       "  37.9699,374.168 43.443,371.485 48.9161,368.802 54.3893,366.118 59.8624,363.435 65.3355,360.751 70.8086,358.068 76.2817,355.385 81.7548,352.701 87.2279,350.018 \n",
       "  92.701,347.335 98.1741,344.651 103.647,341.968 109.12,339.284 114.593,336.601 120.067,333.918 125.54,331.234 131.013,328.551 136.486,325.867 141.959,323.184 \n",
       "  147.432,320.501 152.905,317.817 158.378,315.134 163.851,312.45 169.325,309.767 174.798,307.084 180.271,304.4 185.744,301.717 191.217,299.034 196.69,296.35 \n",
       "  202.163,293.667 207.636,290.983 213.109,288.3 218.583,285.617 224.056,282.933 229.529,280.25 235.002,277.566 240.475,274.883 245.948,272.2 251.421,269.516 \n",
       "  256.894,266.833 262.367,264.149 267.841,261.466 273.314,258.783 278.787,256.099 284.26,253.416 289.733,250.732 295.206,248.049 300.679,245.366 306.152,242.682 \n",
       "  311.625,239.999 317.099,237.316 322.572,234.632 328.045,231.949 333.518,229.265 338.991,226.582 344.464,223.899 349.937,221.215 355.41,218.532 360.883,215.848 \n",
       "  366.357,213.165 371.83,210.482 377.303,207.798 382.776,205.115 388.249,202.431 393.722,199.748 399.195,197.065 404.668,194.381 410.141,191.698 415.615,189.015 \n",
       "  421.088,186.331 426.561,183.648 432.034,180.964 437.507,178.281 442.98,175.598 448.453,172.914 453.926,170.231 459.399,167.547 464.873,164.864 470.346,162.181 \n",
       "  475.819,159.497 481.292,156.814 486.765,154.13 492.238,151.447 497.711,148.764 503.184,146.08 508.657,143.397 514.131,140.713 519.604,138.03 525.077,135.347 \n",
       "  530.55,132.663 536.023,129.98 541.496,127.297 546.969,124.613 552.442,121.93 557.915,119.246 563.389,116.563 568.862,113.88 574.335,111.196 579.808,108.513 \n",
       "  \n",
       "  \"/>\n",
       "</svg>\n"
      ]
     },
     "execution_count": 10,
     "metadata": {},
     "output_type": "execute_result"
    }
   ],
   "source": [
    "import Plots; Plots.gr()\n",
    "Plots.scatter(X[1,:], X[2,:], group=y, leg=:none)\n",
    "xmin, xmax = extrema(X[1,:])\n",
    "ymin, ymax = extrema(X[2,:])\n",
    "x = linspace(xmin, xmax, 100)\n",
    "Plots.plot!(x, k * (x - xmin) + ymin)"
   ]
  }
 ],
 "metadata": {
  "kernelspec": {
   "display_name": "Julia 0.5.0",
   "language": "julia",
   "name": "julia-0.5"
  },
  "language_info": {
   "file_extension": ".jl",
   "mimetype": "application/julia",
   "name": "julia",
   "version": "0.5.0"
  }
 },
 "nbformat": 4,
 "nbformat_minor": 0
}
