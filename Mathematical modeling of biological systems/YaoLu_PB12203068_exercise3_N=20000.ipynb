{
 "cells": [
  {
   "cell_type": "code",
   "execution_count": 1,
   "metadata": {
    "ExecuteTime": {
     "end_time": "2016-12-22T17:10:32.281987",
     "start_time": "2016-12-22T09:10:35.025Z"
    },
    "collapsed": false,
    "run_control": {
     "frozen": false,
     "read_only": false
    }
   },
   "outputs": [
    {
     "data": {
      "text/plain": [
       "Plots.GRBackend()"
      ]
     },
     "execution_count": 1,
     "metadata": {},
     "output_type": "execute_result"
    }
   ],
   "source": [
    "import Plots; Plots.gr()"
   ]
  },
  {
   "cell_type": "code",
   "execution_count": null,
   "metadata": {
    "ExecuteTime": {
     "end_time": "2016-12-22T17:10:34.483513",
     "start_time": "2016-12-22T09:10:38.194Z"
    },
    "collapsed": false,
    "run_control": {
     "frozen": false,
     "read_only": false
    },
    "scrolled": true
   },
   "outputs": [],
   "source": [
    "using GaussianMixtures, StatsBase, Distributions"
   ]
  },
  {
   "cell_type": "markdown",
   "metadata": {},
   "source": [
    "## 1.模拟实验数据\n",
    "\n",
    "假设一种细胞群体包含两类细胞，数量分别占细胞总数的70%和30%这两类细胞在某种可观察性如荧光强度是有区别的，第一类细胞该种性分布均值100，均方偏差20的正态分布，第二类细胞该性分布均值150，均方偏差35的正态分布"
   ]
  },
  {
   "cell_type": "code",
   "execution_count": 3,
   "metadata": {
    "ExecuteTime": {
     "end_time": "2016-12-22T17:10:52.319072",
     "start_time": "2016-12-22T09:10:43.875Z"
    },
    "collapsed": false,
    "run_control": {
     "frozen": false,
     "read_only": false
    }
   },
   "outputs": [
    {
     "data": {
      "text/html": [
       "<?xml version=\"1.0\" encoding=\"utf-8\"?>\n",
       "<svg xmlns=\"http://www.w3.org/2000/svg\" xmlns:xlink=\"http://www.w3.org/1999/xlink\" width=\"600\" height=\"400\" viewBox=\"0 0 600 400\">\n",
       "<defs>\n",
       "  <clipPath id=\"clip00\">\n",
       "    <rect x=\"0\" y=\"0\" width=\"600\" height=\"400\"/>\n",
       "  </clipPath>\n",
       "</defs>\n",
       "<polygon clip-path=\"url(#clip00)\" points=\"\n",
       "0,400 600,400 600,0 0,0 \n",
       "  \" fill=\"#ffffff\" fill-opacity=\"1\"/>\n",
       "<defs>\n",
       "  <clipPath id=\"clip01\">\n",
       "    <rect x=\"120\" y=\"0\" width=\"421\" height=\"400\"/>\n",
       "  </clipPath>\n",
       "</defs>\n",
       "<polygon clip-path=\"url(#clip00)\" points=\"\n",
       "39.4926,384.952 596.063,384.952 596.063,3.93701 39.4926,3.93701 \n",
       "  \" fill=\"#ffffff\" fill-opacity=\"1\"/>\n",
       "<defs>\n",
       "  <clipPath id=\"clip02\">\n",
       "    <rect x=\"39\" y=\"3\" width=\"557\" height=\"382\"/>\n",
       "  </clipPath>\n",
       "</defs>\n",
       "<polyline clip-path=\"url(#clip02)\" style=\"stroke:#00002d; stroke-width:0.8; stroke-opacity:0.5; fill:none\" stroke-dasharray=\"1, 2\" points=\"\n",
       "  233.466,379.237 233.466,9.65223 \n",
       "  \"/>\n",
       "<polyline clip-path=\"url(#clip02)\" style=\"stroke:#00002d; stroke-width:0.8; stroke-opacity:0.5; fill:none\" stroke-dasharray=\"1, 2\" points=\"\n",
       "  448.381,379.237 448.381,9.65223 \n",
       "  \"/>\n",
       "<polyline clip-path=\"url(#clip02)\" style=\"stroke:#00002d; stroke-width:0.8; stroke-opacity:0.5; fill:none\" stroke-dasharray=\"1, 2\" points=\"\n",
       "  47.8411,384.952 587.714,384.952 \n",
       "  \"/>\n",
       "<polyline clip-path=\"url(#clip02)\" style=\"stroke:#00002d; stroke-width:0.8; stroke-opacity:0.5; fill:none\" stroke-dasharray=\"1, 2\" points=\"\n",
       "  47.8411,307.289 587.714,307.289 \n",
       "  \"/>\n",
       "<polyline clip-path=\"url(#clip02)\" style=\"stroke:#00002d; stroke-width:0.8; stroke-opacity:0.5; fill:none\" stroke-dasharray=\"1, 2\" points=\"\n",
       "  47.8411,229.626 587.714,229.626 \n",
       "  \"/>\n",
       "<polyline clip-path=\"url(#clip02)\" style=\"stroke:#00002d; stroke-width:0.8; stroke-opacity:0.5; fill:none\" stroke-dasharray=\"1, 2\" points=\"\n",
       "  47.8411,151.963 587.714,151.963 \n",
       "  \"/>\n",
       "<polyline clip-path=\"url(#clip02)\" style=\"stroke:#00002d; stroke-width:0.8; stroke-opacity:0.5; fill:none\" stroke-dasharray=\"1, 2\" points=\"\n",
       "  47.8411,74.2997 587.714,74.2997 \n",
       "  \"/>\n",
       "<polyline clip-path=\"url(#clip02)\" style=\"stroke:#00002d; stroke-width:0.8; stroke-opacity:1; fill:none\" points=\"\n",
       "  39.4926,384.952 596.063,384.952 \n",
       "  \"/>\n",
       "<polyline clip-path=\"url(#clip02)\" style=\"stroke:#00002d; stroke-width:0.8; stroke-opacity:1; fill:none\" points=\"\n",
       "  233.466,384.952 233.466,379.237 \n",
       "  \"/>\n",
       "<polyline clip-path=\"url(#clip02)\" style=\"stroke:#00002d; stroke-width:0.8; stroke-opacity:1; fill:none\" points=\"\n",
       "  448.381,384.952 448.381,379.237 \n",
       "  \"/>\n",
       "<polyline clip-path=\"url(#clip02)\" style=\"stroke:#00002d; stroke-width:0.8; stroke-opacity:1; fill:none\" points=\"\n",
       "  39.4926,384.952 39.4926,3.93701 \n",
       "  \"/>\n",
       "<polyline clip-path=\"url(#clip02)\" style=\"stroke:#00002d; stroke-width:0.8; stroke-opacity:1; fill:none\" points=\"\n",
       "  39.4926,384.952 47.8411,384.952 \n",
       "  \"/>\n",
       "<polyline clip-path=\"url(#clip02)\" style=\"stroke:#00002d; stroke-width:0.8; stroke-opacity:1; fill:none\" points=\"\n",
       "  39.4926,307.289 47.8411,307.289 \n",
       "  \"/>\n",
       "<polyline clip-path=\"url(#clip02)\" style=\"stroke:#00002d; stroke-width:0.8; stroke-opacity:1; fill:none\" points=\"\n",
       "  39.4926,229.626 47.8411,229.626 \n",
       "  \"/>\n",
       "<polyline clip-path=\"url(#clip02)\" style=\"stroke:#00002d; stroke-width:0.8; stroke-opacity:1; fill:none\" points=\"\n",
       "  39.4926,151.963 47.8411,151.963 \n",
       "  \"/>\n",
       "<polyline clip-path=\"url(#clip02)\" style=\"stroke:#00002d; stroke-width:0.8; stroke-opacity:1; fill:none\" points=\"\n",
       "  39.4926,74.2997 47.8411,74.2997 \n",
       "  \"/>\n",
       "<g clip-path=\"url(#clip00)\">\n",
       "<text style=\"fill:#00002d; fill-opacity:1; font-family:Arial,Helvetica Neue,Helvetica,sans-serif; font-size:12; text-anchor:middle;\" transform=\"rotate(0, 233.466, 396.952)\" x=\"233.466\" y=\"396.952\">100</text>\n",
       "</g>\n",
       "<g clip-path=\"url(#clip00)\">\n",
       "<text style=\"fill:#00002d; fill-opacity:1; font-family:Arial,Helvetica Neue,Helvetica,sans-serif; font-size:12; text-anchor:middle;\" transform=\"rotate(0, 448.381, 396.952)\" x=\"448.381\" y=\"396.952\">200</text>\n",
       "</g>\n",
       "<g clip-path=\"url(#clip00)\">\n",
       "<text style=\"fill:#00002d; fill-opacity:1; font-family:Arial,Helvetica Neue,Helvetica,sans-serif; font-size:12; text-anchor:end;\" transform=\"rotate(0, 38.2926, 389.452)\" x=\"38.2926\" y=\"389.452\">0</text>\n",
       "</g>\n",
       "<g clip-path=\"url(#clip00)\">\n",
       "<text style=\"fill:#00002d; fill-opacity:1; font-family:Arial,Helvetica Neue,Helvetica,sans-serif; font-size:12; text-anchor:end;\" transform=\"rotate(0, 38.2926, 311.789)\" x=\"38.2926\" y=\"311.789\">500</text>\n",
       "</g>\n",
       "<g clip-path=\"url(#clip00)\">\n",
       "<text style=\"fill:#00002d; fill-opacity:1; font-family:Arial,Helvetica Neue,Helvetica,sans-serif; font-size:12; text-anchor:end;\" transform=\"rotate(0, 38.2926, 234.126)\" x=\"38.2926\" y=\"234.126\">1000</text>\n",
       "</g>\n",
       "<g clip-path=\"url(#clip00)\">\n",
       "<text style=\"fill:#00002d; fill-opacity:1; font-family:Arial,Helvetica Neue,Helvetica,sans-serif; font-size:12; text-anchor:end;\" transform=\"rotate(0, 38.2926, 156.463)\" x=\"38.2926\" y=\"156.463\">1500</text>\n",
       "</g>\n",
       "<g clip-path=\"url(#clip00)\">\n",
       "<text style=\"fill:#00002d; fill-opacity:1; font-family:Arial,Helvetica Neue,Helvetica,sans-serif; font-size:12; text-anchor:end;\" transform=\"rotate(0, 38.2926, 78.7997)\" x=\"38.2926\" y=\"78.7997\">2000</text>\n",
       "</g>\n",
       "<polygon clip-path=\"url(#clip02)\" points=\"\n",
       "55.2446,384.641 55.2446,384.952 72.7468,384.952 72.7468,384.641 55.2446,384.641 55.2446,384.641 \n",
       "  \" fill=\"#0099ff\" fill-opacity=\"1\"/>\n",
       "<polyline clip-path=\"url(#clip02)\" style=\"stroke:#00002d; stroke-width:0.8; stroke-opacity:1; fill:none\" points=\"\n",
       "  55.2446,384.641 55.2446,384.952 72.7468,384.952 72.7468,384.641 55.2446,384.641 \n",
       "  \"/>\n",
       "<polygon clip-path=\"url(#clip02)\" points=\"\n",
       "72.7468,384.175 72.7468,384.952 90.249,384.952 90.249,384.175 72.7468,384.175 72.7468,384.175 \n",
       "  \" fill=\"#0099ff\" fill-opacity=\"1\"/>\n",
       "<polyline clip-path=\"url(#clip02)\" style=\"stroke:#00002d; stroke-width:0.8; stroke-opacity:1; fill:none\" points=\"\n",
       "  72.7468,384.175 72.7468,384.952 90.249,384.952 90.249,384.175 72.7468,384.175 \n",
       "  \"/>\n",
       "<polygon clip-path=\"url(#clip02)\" points=\"\n",
       "90.249,382.467 90.249,384.952 107.751,384.952 107.751,382.467 90.249,382.467 90.249,382.467 \n",
       "  \" fill=\"#0099ff\" fill-opacity=\"1\"/>\n",
       "<polyline clip-path=\"url(#clip02)\" style=\"stroke:#00002d; stroke-width:0.8; stroke-opacity:1; fill:none\" points=\"\n",
       "  90.249,382.467 90.249,384.952 107.751,384.952 107.751,382.467 90.249,382.467 \n",
       "  \"/>\n",
       "<polygon clip-path=\"url(#clip02)\" points=\"\n",
       "107.751,373.924 107.751,384.952 125.253,384.952 125.253,373.924 107.751,373.924 107.751,373.924 \n",
       "  \" fill=\"#0099ff\" fill-opacity=\"1\"/>\n",
       "<polyline clip-path=\"url(#clip02)\" style=\"stroke:#00002d; stroke-width:0.8; stroke-opacity:1; fill:none\" points=\"\n",
       "  107.751,373.924 107.751,384.952 125.253,384.952 125.253,373.924 107.751,373.924 \n",
       "  \"/>\n",
       "<polygon clip-path=\"url(#clip02)\" points=\"\n",
       "125.253,355.595 125.253,384.952 142.756,384.952 142.756,355.595 125.253,355.595 125.253,355.595 \n",
       "  \" fill=\"#0099ff\" fill-opacity=\"1\"/>\n",
       "<polyline clip-path=\"url(#clip02)\" style=\"stroke:#00002d; stroke-width:0.8; stroke-opacity:1; fill:none\" points=\"\n",
       "  125.253,355.595 125.253,384.952 142.756,384.952 142.756,355.595 125.253,355.595 \n",
       "  \"/>\n",
       "<polygon clip-path=\"url(#clip02)\" points=\"\n",
       "142.756,320.647 142.756,384.952 160.258,384.952 160.258,320.647 142.756,320.647 142.756,320.647 \n",
       "  \" fill=\"#0099ff\" fill-opacity=\"1\"/>\n",
       "<polyline clip-path=\"url(#clip02)\" style=\"stroke:#00002d; stroke-width:0.8; stroke-opacity:1; fill:none\" points=\"\n",
       "  142.756,320.647 142.756,384.952 160.258,384.952 160.258,320.647 142.756,320.647 \n",
       "  \"/>\n",
       "<polygon clip-path=\"url(#clip02)\" points=\"\n",
       "160.258,264.885 160.258,384.952 177.76,384.952 177.76,264.885 160.258,264.885 160.258,264.885 \n",
       "  \" fill=\"#0099ff\" fill-opacity=\"1\"/>\n",
       "<polyline clip-path=\"url(#clip02)\" style=\"stroke:#00002d; stroke-width:0.8; stroke-opacity:1; fill:none\" points=\"\n",
       "  160.258,264.885 160.258,384.952 177.76,384.952 177.76,264.885 160.258,264.885 \n",
       "  \"/>\n",
       "<polygon clip-path=\"url(#clip02)\" points=\"\n",
       "177.76,187.066 177.76,384.952 195.262,384.952 195.262,187.066 177.76,187.066 177.76,187.066 \n",
       "  \" fill=\"#0099ff\" fill-opacity=\"1\"/>\n",
       "<polyline clip-path=\"url(#clip02)\" style=\"stroke:#00002d; stroke-width:0.8; stroke-opacity:1; fill:none\" points=\"\n",
       "  177.76,187.066 177.76,384.952 195.262,384.952 195.262,187.066 177.76,187.066 \n",
       "  \"/>\n",
       "<polygon clip-path=\"url(#clip02)\" points=\"\n",
       "195.262,80.6681 195.262,384.952 212.764,384.952 212.764,80.6681 195.262,80.6681 195.262,80.6681 \n",
       "  \" fill=\"#0099ff\" fill-opacity=\"1\"/>\n",
       "<polyline clip-path=\"url(#clip02)\" style=\"stroke:#00002d; stroke-width:0.8; stroke-opacity:1; fill:none\" points=\"\n",
       "  195.262,80.6681 195.262,384.952 212.764,384.952 212.764,80.6681 195.262,80.6681 \n",
       "  \"/>\n",
       "<polygon clip-path=\"url(#clip02)\" points=\"\n",
       "212.764,13.8779 212.764,384.952 230.267,384.952 230.267,13.8779 212.764,13.8779 212.764,13.8779 \n",
       "  \" fill=\"#0099ff\" fill-opacity=\"1\"/>\n",
       "<polyline clip-path=\"url(#clip02)\" style=\"stroke:#00002d; stroke-width:0.8; stroke-opacity:1; fill:none\" points=\"\n",
       "  212.764,13.8779 212.764,384.952 230.267,384.952 230.267,13.8779 212.764,13.8779 \n",
       "  \"/>\n",
       "<polygon clip-path=\"url(#clip02)\" points=\"\n",
       "230.267,3.93701 230.267,384.952 247.769,384.952 247.769,3.93701 230.267,3.93701 230.267,3.93701 \n",
       "  \" fill=\"#0099ff\" fill-opacity=\"1\"/>\n",
       "<polyline clip-path=\"url(#clip02)\" style=\"stroke:#00002d; stroke-width:0.8; stroke-opacity:1; fill:none\" points=\"\n",
       "  230.267,3.93701 230.267,384.952 247.769,384.952 247.769,3.93701 230.267,3.93701 \n",
       "  \"/>\n",
       "<polygon clip-path=\"url(#clip02)\" points=\"\n",
       "247.769,39.9727 247.769,384.952 265.271,384.952 265.271,39.9727 247.769,39.9727 247.769,39.9727 \n",
       "  \" fill=\"#0099ff\" fill-opacity=\"1\"/>\n",
       "<polyline clip-path=\"url(#clip02)\" style=\"stroke:#00002d; stroke-width:0.8; stroke-opacity:1; fill:none\" points=\"\n",
       "  247.769,39.9727 247.769,384.952 265.271,384.952 265.271,39.9727 247.769,39.9727 \n",
       "  \"/>\n",
       "<polygon clip-path=\"url(#clip02)\" points=\"\n",
       "265.271,105.365 265.271,384.952 282.773,384.952 282.773,105.365 265.271,105.365 265.271,105.365 \n",
       "  \" fill=\"#0099ff\" fill-opacity=\"1\"/>\n",
       "<polyline clip-path=\"url(#clip02)\" style=\"stroke:#00002d; stroke-width:0.8; stroke-opacity:1; fill:none\" points=\"\n",
       "  265.271,105.365 265.271,384.952 282.773,384.952 282.773,105.365 265.271,105.365 \n",
       "  \"/>\n",
       "<polygon clip-path=\"url(#clip02)\" points=\"\n",
       "282.773,176.97 282.773,384.952 300.276,384.952 300.276,176.97 282.773,176.97 282.773,176.97 \n",
       "  \" fill=\"#0099ff\" fill-opacity=\"1\"/>\n",
       "<polyline clip-path=\"url(#clip02)\" style=\"stroke:#00002d; stroke-width:0.8; stroke-opacity:1; fill:none\" points=\"\n",
       "  282.773,176.97 282.773,384.952 300.276,384.952 300.276,176.97 282.773,176.97 \n",
       "  \"/>\n",
       "<polygon clip-path=\"url(#clip02)\" points=\"\n",
       "300.276,223.879 300.276,384.952 317.778,384.952 317.778,223.879 300.276,223.879 300.276,223.879 \n",
       "  \" fill=\"#0099ff\" fill-opacity=\"1\"/>\n",
       "<polyline clip-path=\"url(#clip02)\" style=\"stroke:#00002d; stroke-width:0.8; stroke-opacity:1; fill:none\" points=\"\n",
       "  300.276,223.879 300.276,384.952 317.778,384.952 317.778,223.879 300.276,223.879 \n",
       "  \"/>\n",
       "<polygon clip-path=\"url(#clip02)\" points=\"\n",
       "317.778,270.943 317.778,384.952 335.28,384.952 335.28,270.943 317.778,270.943 317.778,270.943 \n",
       "  \" fill=\"#0099ff\" fill-opacity=\"1\"/>\n",
       "<polyline clip-path=\"url(#clip02)\" style=\"stroke:#00002d; stroke-width:0.8; stroke-opacity:1; fill:none\" points=\"\n",
       "  317.778,270.943 317.778,384.952 335.28,384.952 335.28,270.943 317.778,270.943 \n",
       "  \"/>\n",
       "<polygon clip-path=\"url(#clip02)\" points=\"\n",
       "335.28,279.175 335.28,384.952 352.782,384.952 352.782,279.175 335.28,279.175 335.28,279.175 \n",
       "  \" fill=\"#0099ff\" fill-opacity=\"1\"/>\n",
       "<polyline clip-path=\"url(#clip02)\" style=\"stroke:#00002d; stroke-width:0.8; stroke-opacity:1; fill:none\" points=\"\n",
       "  335.28,279.175 335.28,384.952 352.782,384.952 352.782,279.175 335.28,279.175 \n",
       "  \"/>\n",
       "<polygon clip-path=\"url(#clip02)\" points=\"\n",
       "352.782,293.931 352.782,384.952 370.284,384.952 370.284,293.931 352.782,293.931 352.782,293.931 \n",
       "  \" fill=\"#0099ff\" fill-opacity=\"1\"/>\n",
       "<polyline clip-path=\"url(#clip02)\" style=\"stroke:#00002d; stroke-width:0.8; stroke-opacity:1; fill:none\" points=\"\n",
       "  352.782,293.931 352.782,384.952 370.284,384.952 370.284,293.931 352.782,293.931 \n",
       "  \"/>\n",
       "<polygon clip-path=\"url(#clip02)\" points=\"\n",
       "370.284,309.153 370.284,384.952 387.787,384.952 387.787,309.153 370.284,309.153 370.284,309.153 \n",
       "  \" fill=\"#0099ff\" fill-opacity=\"1\"/>\n",
       "<polyline clip-path=\"url(#clip02)\" style=\"stroke:#00002d; stroke-width:0.8; stroke-opacity:1; fill:none\" points=\"\n",
       "  370.284,309.153 370.284,384.952 387.787,384.952 387.787,309.153 370.284,309.153 \n",
       "  \"/>\n",
       "<polygon clip-path=\"url(#clip02)\" points=\"\n",
       "387.787,318.938 387.787,384.952 405.289,384.952 405.289,318.938 387.787,318.938 387.787,318.938 \n",
       "  \" fill=\"#0099ff\" fill-opacity=\"1\"/>\n",
       "<polyline clip-path=\"url(#clip02)\" style=\"stroke:#00002d; stroke-width:0.8; stroke-opacity:1; fill:none\" points=\"\n",
       "  387.787,318.938 387.787,384.952 405.289,384.952 405.289,318.938 387.787,318.938 \n",
       "  \"/>\n",
       "<polygon clip-path=\"url(#clip02)\" points=\"\n",
       "405.289,331.986 405.289,384.952 422.791,384.952 422.791,331.986 405.289,331.986 405.289,331.986 \n",
       "  \" fill=\"#0099ff\" fill-opacity=\"1\"/>\n",
       "<polyline clip-path=\"url(#clip02)\" style=\"stroke:#00002d; stroke-width:0.8; stroke-opacity:1; fill:none\" points=\"\n",
       "  405.289,331.986 405.289,384.952 422.791,384.952 422.791,331.986 405.289,331.986 \n",
       "  \"/>\n",
       "<polygon clip-path=\"url(#clip02)\" points=\"\n",
       "422.791,342.237 422.791,384.952 440.293,384.952 440.293,342.237 422.791,342.237 422.791,342.237 \n",
       "  \" fill=\"#0099ff\" fill-opacity=\"1\"/>\n",
       "<polyline clip-path=\"url(#clip02)\" style=\"stroke:#00002d; stroke-width:0.8; stroke-opacity:1; fill:none\" points=\"\n",
       "  422.791,342.237 422.791,384.952 440.293,384.952 440.293,342.237 422.791,342.237 \n",
       "  \"/>\n",
       "<polygon clip-path=\"url(#clip02)\" points=\"\n",
       "440.293,356.838 440.293,384.952 457.795,384.952 457.795,356.838 440.293,356.838 440.293,356.838 \n",
       "  \" fill=\"#0099ff\" fill-opacity=\"1\"/>\n",
       "<polyline clip-path=\"url(#clip02)\" style=\"stroke:#00002d; stroke-width:0.8; stroke-opacity:1; fill:none\" points=\"\n",
       "  440.293,356.838 440.293,384.952 457.795,384.952 457.795,356.838 440.293,356.838 \n",
       "  \"/>\n",
       "<polygon clip-path=\"url(#clip02)\" points=\"\n",
       "457.795,362.274 457.795,384.952 475.298,384.952 475.298,362.274 457.795,362.274 457.795,362.274 \n",
       "  \" fill=\"#0099ff\" fill-opacity=\"1\"/>\n",
       "<polyline clip-path=\"url(#clip02)\" style=\"stroke:#00002d; stroke-width:0.8; stroke-opacity:1; fill:none\" points=\"\n",
       "  457.795,362.274 457.795,384.952 475.298,384.952 475.298,362.274 457.795,362.274 \n",
       "  \"/>\n",
       "<polygon clip-path=\"url(#clip02)\" points=\"\n",
       "475.298,371.128 475.298,384.952 492.8,384.952 492.8,371.128 475.298,371.128 475.298,371.128 \n",
       "  \" fill=\"#0099ff\" fill-opacity=\"1\"/>\n",
       "<polyline clip-path=\"url(#clip02)\" style=\"stroke:#00002d; stroke-width:0.8; stroke-opacity:1; fill:none\" points=\"\n",
       "  475.298,371.128 475.298,384.952 492.8,384.952 492.8,371.128 475.298,371.128 \n",
       "  \"/>\n",
       "<polygon clip-path=\"url(#clip02)\" points=\"\n",
       "492.8,377.807 492.8,384.952 510.302,384.952 510.302,377.807 492.8,377.807 492.8,377.807 \n",
       "  \" fill=\"#0099ff\" fill-opacity=\"1\"/>\n",
       "<polyline clip-path=\"url(#clip02)\" style=\"stroke:#00002d; stroke-width:0.8; stroke-opacity:1; fill:none\" points=\"\n",
       "  492.8,377.807 492.8,384.952 510.302,384.952 510.302,377.807 492.8,377.807 \n",
       "  \"/>\n",
       "<polygon clip-path=\"url(#clip02)\" points=\"\n",
       "510.302,380.758 510.302,384.952 527.804,384.952 527.804,380.758 510.302,380.758 510.302,380.758 \n",
       "  \" fill=\"#0099ff\" fill-opacity=\"1\"/>\n",
       "<polyline clip-path=\"url(#clip02)\" style=\"stroke:#00002d; stroke-width:0.8; stroke-opacity:1; fill:none\" points=\"\n",
       "  510.302,380.758 510.302,384.952 527.804,384.952 527.804,380.758 510.302,380.758 \n",
       "  \"/>\n",
       "<polygon clip-path=\"url(#clip02)\" points=\"\n",
       "527.804,382.311 527.804,384.952 545.307,384.952 545.307,382.311 527.804,382.311 527.804,382.311 \n",
       "  \" fill=\"#0099ff\" fill-opacity=\"1\"/>\n",
       "<polyline clip-path=\"url(#clip02)\" style=\"stroke:#00002d; stroke-width:0.8; stroke-opacity:1; fill:none\" points=\"\n",
       "  527.804,382.311 527.804,384.952 545.307,384.952 545.307,382.311 527.804,382.311 \n",
       "  \"/>\n",
       "<polygon clip-path=\"url(#clip02)\" points=\"\n",
       "545.307,383.088 545.307,384.952 562.809,384.952 562.809,383.088 545.307,383.088 545.307,383.088 \n",
       "  \" fill=\"#0099ff\" fill-opacity=\"1\"/>\n",
       "<polyline clip-path=\"url(#clip02)\" style=\"stroke:#00002d; stroke-width:0.8; stroke-opacity:1; fill:none\" points=\"\n",
       "  545.307,383.088 545.307,384.952 562.809,384.952 562.809,383.088 545.307,383.088 \n",
       "  \"/>\n",
       "<polygon clip-path=\"url(#clip02)\" points=\"\n",
       "562.809,383.399 562.809,384.952 580.311,384.952 580.311,383.399 562.809,383.399 562.809,383.399 \n",
       "  \" fill=\"#0099ff\" fill-opacity=\"1\"/>\n",
       "<polyline clip-path=\"url(#clip02)\" style=\"stroke:#00002d; stroke-width:0.8; stroke-opacity:1; fill:none\" points=\"\n",
       "  562.809,383.399 562.809,384.952 580.311,384.952 580.311,383.399 562.809,383.399 \n",
       "  \"/>\n",
       "<polygon clip-path=\"url(#clip00)\" points=\"\n",
       "505.547,55.057 578.063,55.057 578.063,24.817 505.547,24.817 \n",
       "  \" fill=\"#ffffff\" fill-opacity=\"1\"/>\n",
       "<polyline clip-path=\"url(#clip00)\" style=\"stroke:#00002d; stroke-width:0.8; stroke-opacity:1; fill:none\" points=\"\n",
       "  505.547,55.057 578.063,55.057 578.063,24.817 505.547,24.817 505.547,55.057 \n",
       "  \"/>\n",
       "<polygon clip-path=\"url(#clip00)\" points=\"\n",
       "511.547,45.985 547.547,45.985 547.547,33.889 511.547,33.889 511.547,45.985 \n",
       "  \" fill=\"#0099ff\" fill-opacity=\"1\"/>\n",
       "<polyline clip-path=\"url(#clip00)\" style=\"stroke:#00002d; stroke-width:0.8; stroke-opacity:1; fill:none\" points=\"\n",
       "  511.547,45.985 547.547,45.985 547.547,33.889 511.547,33.889 511.547,45.985 \n",
       "  \"/>\n",
       "<g clip-path=\"url(#clip00)\">\n",
       "<text style=\"fill:#00002d; fill-opacity:1; font-family:Arial,Helvetica Neue,Helvetica,sans-serif; font-size:12; text-anchor:start;\" transform=\"rotate(0, 553.547, 44.437)\" x=\"553.547\" y=\"44.437\">y1</text>\n",
       "</g>\n",
       "</svg>\n"
      ]
     },
     "execution_count": 3,
     "metadata": {},
     "output_type": "execute_result"
    }
   ],
   "source": [
    "N = 20000\n",
    "srand(10)\n",
    "x = [100 + 20randn(7N÷10,1); 150 + 35randn(3N÷10,1)]\n",
    "Plots.histogram(x)"
   ]
  },
  {
   "cell_type": "markdown",
   "metadata": {},
   "source": [
    "## 2. 极大似然参数估计"
   ]
  },
  {
   "cell_type": "code",
   "execution_count": null,
   "metadata": {
    "ExecuteTime": {
     "end_time": "2016-12-22T17:11:07.035922",
     "start_time": "2016-12-22T09:11:00.314Z"
    },
    "collapsed": false
   },
   "outputs": [],
   "source": [
    "g1 = GMM(1, x; method=:kmeans, kind=:diag, nInit=50, nIter=100, nFinal=10)\n",
    "m1 = MixtureModel(g1)"
   ]
  },
  {
   "cell_type": "code",
   "execution_count": 5,
   "metadata": {
    "ExecuteTime": {
     "end_time": "2016-12-22T17:11:14.664070",
     "start_time": "2016-12-22T09:11:17.174Z"
    },
    "collapsed": false,
    "scrolled": true
   },
   "outputs": [
    {
     "name": "stdout",
     "output_type": "stream",
     "text": [
      "m1 = MixtureModel{Distributions.Normal{Float64}}(K = 1)\n",
      "components[1] (prior = 1.0000): Distributions.Normal{Float64}(μ=114.80025791788525, σ=34.08354257492853)\n",
      "\n",
      "m1 = MixtureModel{Distributions.Normal{Float64}}(K = 1)\n",
      "components[1] (prior = 1.0000): Distributions.Normal{Float64}(μ=114.80025791788525, σ=34.08354257492853)\n",
      "\n",
      "m1 = MixtureModel{Distributions.Normal{Float64}}(K = 1)\n",
      "components[1] (prior = 1.0000): Distributions.Normal{Float64}(μ=114.80025791788525, σ=34.08354257492853)\n",
      "\n"
     ]
    }
   ],
   "source": [
    "for t = 1:3\n",
    "    em!(g1, x)\n",
    "    m1 = MixtureModel(g1)\n",
    "    @show m1\n",
    "end"
   ]
  },
  {
   "cell_type": "code",
   "execution_count": null,
   "metadata": {
    "ExecuteTime": {
     "end_time": "2016-12-22T17:11:19.698495",
     "start_time": "2016-12-22T09:11:22.493Z"
    },
    "collapsed": false
   },
   "outputs": [],
   "source": [
    "g2 = GMM(2, x; method=:kmeans, kind=:diag, nInit=50, nIter=100, nFinal=10)\n",
    "m2 = MixtureModel(g2)"
   ]
  },
  {
   "cell_type": "code",
   "execution_count": 7,
   "metadata": {
    "ExecuteTime": {
     "end_time": "2016-12-22T17:11:22.462815",
     "start_time": "2016-12-22T09:11:27.334Z"
    },
    "collapsed": false,
    "run_control": {
     "frozen": false,
     "read_only": false
    }
   },
   "outputs": [
    {
     "name": "stdout",
     "output_type": "stream",
     "text": [
      "m2 = MixtureModel{Distributions.Normal{Float64}}(K = 2)\n",
      "components[1] (prior = 0.7045): Distributions.Normal{Float64}(μ=99.77748185832066, σ=20.01971220547362)\n",
      "components[2] (prior = 0.2955): Distributions.Normal{Float64}(μ=150.6134334096199, σ=33.9855464810837)\n",
      "\n",
      "m2 = MixtureModel{Distributions.Normal{Float64}}(K = 2)\n",
      "components[1] (prior = 0.7030): Distributions.Normal{Float64}(μ=99.75483618916014, σ=20.002386938247103)\n",
      "components[2] (prior = 0.2970): Distributions.Normal{Float64}(μ=150.41212868083255, σ=34.06381642737712)\n",
      "\n",
      "m2 = MixtureModel{Distributions.Normal{Float64}}(K = 2)\n",
      "components[1] (prior = 0.7017): Distributions.Normal{Float64}(μ=99.73483627968058, σ=19.986820678237272)\n",
      "components[2] (prior = 0.2983): Distributions.Normal{Float64}(μ=150.23251709339817, σ=34.13339654528371)\n",
      "\n"
     ]
    }
   ],
   "source": [
    "for t = 1:3\n",
    "    em!(g2, x)\n",
    "    m2 = MixtureModel(g2)\n",
    "    @show m2\n",
    "end"
   ]
  },
  {
   "cell_type": "code",
   "execution_count": null,
   "metadata": {
    "ExecuteTime": {
     "end_time": "2016-12-22T17:11:25.597032",
     "start_time": "2016-12-22T09:11:30.113Z"
    },
    "collapsed": false,
    "scrolled": true
   },
   "outputs": [],
   "source": [
    "g3 = GMM(3, x; method=:kmeans, kind=:diag, nInit=50, nIter=100, nFinal=10)\n",
    "m3 = MixtureModel(g3)"
   ]
  },
  {
   "cell_type": "code",
   "execution_count": 9,
   "metadata": {
    "ExecuteTime": {
     "end_time": "2016-12-22T17:11:27.991477",
     "start_time": "2016-12-22T09:11:32.834Z"
    },
    "collapsed": false,
    "run_control": {
     "frozen": false,
     "read_only": false
    }
   },
   "outputs": [
    {
     "name": "stdout",
     "output_type": "stream",
     "text": [
      "m3 = MixtureModel{Distributions.Normal{Float64}}(K = 3)\n",
      "components[1] (prior = 0.2998): Distributions.Normal{Float64}(μ=110.33248235957015, σ=20.162007437151438)\n",
      "components[2] (prior = 0.2495): Distributions.Normal{Float64}(μ=156.5637461063916, σ=32.012362515399346)\n",
      "components[3] (prior = 0.4507): Distributions.Normal{Float64}(μ=94.65417720020324, σ=18.845463184917158)\n",
      "\n",
      "m3 = MixtureModel{Distributions.Normal{Float64}}(K = 3)\n",
      "components[1] (prior = 0.2976): Distributions.Normal{Float64}(μ=110.04541081193899, σ=20.19488983134557)\n",
      "components[2] (prior = 0.2521): Distributions.Normal{Float64}(μ=156.17646863930813, σ=32.15765368167774)\n",
      "components[3] (prior = 0.4503): Distributions.Normal{Float64}(μ=94.77417773794066, σ=18.885797154436897)\n",
      "\n",
      "m3 = MixtureModel{Distributions.Normal{Float64}}(K = 3)\n",
      "components[1] (prior = 0.2955): Distributions.Normal{Float64}(μ=109.77886933297866, σ=20.21745671957379)\n",
      "components[2] (prior = 0.2547): Distributions.Normal{Float64}(μ=155.81283797003613, σ=32.29266610532391)\n",
      "components[3] (prior = 0.4499): Distributions.Normal{Float64}(μ=94.8811903359991, σ=18.92120951861933)\n",
      "\n"
     ]
    }
   ],
   "source": [
    "for t = 1:3\n",
    "    em!(g3, x)\n",
    "    m3 = MixtureModel(g3)\n",
    "    @show m3\n",
    "end"
   ]
  },
  {
   "cell_type": "markdown",
   "metadata": {},
   "source": [
    "## 3.假设检验\n",
    "\n",
    "把模拟实验结果作为观察数据，针对不同的N， 分别采用M1、M2作为null hypothesis, 用卡方检验，判别在显著性0.05时是否应该否定相应模型?\n"
   ]
  },
  {
   "cell_type": "markdown",
   "metadata": {},
   "source": [
    "将数据x做直方图h，把直方图统计区间的最左边和最右边延展到无穷大，利用MixtureModel的pdf积分计算每个区间的理论概率 $E$，与实际直方图h得到的O结合计算卡方值 $\\chi^{2}$, p是MixtureModel的混合数，length(x)-1-p是卡方分布的自由度，利用卡方分布的cdf可以计算significance"
   ]
  },
  {
   "cell_type": "code",
   "execution_count": 10,
   "metadata": {
    "ExecuteTime": {
     "end_time": "2016-12-22T17:11:32.010088",
     "start_time": "2016-12-22T09:11:36.823Z"
    },
    "collapsed": false,
    "run_control": {
     "frozen": false,
     "read_only": false
    }
   },
   "outputs": [
    {
     "data": {
      "text/plain": [
       "prob (generic function with 1 method)"
      ]
     },
     "execution_count": 10,
     "metadata": {},
     "output_type": "execute_result"
    }
   ],
   "source": [
    "prob(m, x1, x2) = quadgk(x->pdf(m, x), x1, x2)[1]"
   ]
  },
  {
   "cell_type": "code",
   "execution_count": 11,
   "metadata": {
    "ExecuteTime": {
     "end_time": "2016-12-22T17:11:33.727028",
     "start_time": "2016-12-22T09:11:38.693Z"
    },
    "collapsed": false,
    "run_control": {
     "frozen": false,
     "read_only": false
    }
   },
   "outputs": [
    {
     "data": {
      "text/plain": [
       "Chisq_test (generic function with 1 method)"
      ]
     },
     "execution_count": 11,
     "metadata": {},
     "output_type": "execute_result"
    }
   ],
   "source": [
    "function Chisq_test(m, x)\n",
    "    h = fit(Histogram, vec(x))\n",
    "    edge = [-Inf; h.edges[1][2:end-1]; Inf]\n",
    "    interval = [(edge[i], edge[i+1]) for i in 1:length(edge)-1]\n",
    "\n",
    "    O = h.weights\n",
    "    E = length(x)*[prob(m, ab...) for ab in interval]\n",
    "    χ² = sum((O[i] - E[i]) ^ 2 / E[i] for i in 1:length(O))\n",
    "\n",
    "    p = 2length(m.components)\n",
    "    significance = 1 - cdf(Chisq(length(O) - 1 - p), χ²)\n",
    "    significance\n",
    "end"
   ]
  },
  {
   "cell_type": "code",
   "execution_count": 12,
   "metadata": {
    "ExecuteTime": {
     "end_time": "2016-12-22T17:11:38.669517",
     "start_time": "2016-12-22T09:11:40.973Z"
    },
    "collapsed": false,
    "run_control": {
     "frozen": false,
     "read_only": false
    },
    "scrolled": true
   },
   "outputs": [
    {
     "name": "stdout",
     "output_type": "stream",
     "text": [
      "significance = Chisq_test(m1,x) = 0.0\n",
      "significance = Chisq_test(m2,x) = 0.29628740422799527\n"
     ]
    }
   ],
   "source": [
    "@show significance = Chisq_test(m1, x)\n",
    "@show significance = Chisq_test(m2, x);"
   ]
  },
  {
   "cell_type": "markdown",
   "metadata": {
    "ExecuteTime": {
     "end_time": "2016-12-21T22:42:39.466239",
     "start_time": "2016-12-21T14:37:16.907Z"
    }
   },
   "source": [
    "M2的显著性大于0.05， 不能否定M2\n",
    "\n",
    "M1的显著性小于0.05， 否定M1"
   ]
  },
  {
   "cell_type": "markdown",
   "metadata": {},
   "source": [
    "## 4. 模型选择\n",
    "\n",
    "把模拟实验结果作为了观察数据，针对不同的N，用修正的AIC判据在M1， M2，M3 中做出选择"
   ]
  },
  {
   "cell_type": "code",
   "execution_count": 13,
   "metadata": {
    "ExecuteTime": {
     "end_time": "2016-12-22T17:11:50.053505",
     "start_time": "2016-12-22T09:11:55.024Z"
    },
    "collapsed": false,
    "run_control": {
     "frozen": false,
     "read_only": false
    }
   },
   "outputs": [
    {
     "data": {
      "text/plain": [
       "AIC_select (generic function with 1 method)"
      ]
     },
     "execution_count": 13,
     "metadata": {},
     "output_type": "execute_result"
    }
   ],
   "source": [
    "function AIC_select(m, x)\n",
    "    k = 2length(m.components)\n",
    "    L = sum(logpdf(m, x[i]) for i in 1:length(x))\n",
    "    aic = 2k - 2L\n",
    "    L, aic\n",
    "end"
   ]
  },
  {
   "cell_type": "markdown",
   "metadata": {},
   "source": [
    "L denotes likelihood"
   ]
  },
  {
   "cell_type": "code",
   "execution_count": 14,
   "metadata": {
    "ExecuteTime": {
     "end_time": "2016-12-22T17:11:52.724651",
     "start_time": "2016-12-22T09:11:57.433Z"
    },
    "collapsed": false,
    "run_control": {
     "frozen": false,
     "read_only": false
    },
    "scrolled": true
   },
   "outputs": [
    {
     "name": "stdout",
     "output_type": "stream",
     "text": [
      "(L,aic) = AIC_select(m1,x) = (-98955.06357116673,197914.12714233345)\n",
      "(L,aic) = AIC_select(m2,x) = (-97266.23683571302,194540.47367142604)\n",
      "(L,aic) = AIC_select(m3,x) = (-97268.72585880879,194549.45171761757)\n"
     ]
    }
   ],
   "source": [
    "@show L, aic = AIC_select(m1, x)\n",
    "@show L, aic = AIC_select(m2, x)\n",
    "@show L, aic = AIC_select(m3, x);"
   ]
  },
  {
   "cell_type": "markdown",
   "metadata": {},
   "source": [
    "M2的AIC最小， 选择M2"
   ]
  }
 ],
 "metadata": {
  "kernelspec": {
   "display_name": "Julia 0.5.0",
   "language": "julia",
   "name": "julia-0.5"
  },
  "language_info": {
   "file_extension": ".jl",
   "mimetype": "application/julia",
   "name": "julia",
   "version": "0.5.0"
  }
 },
 "nbformat": 4,
 "nbformat_minor": 0
}
