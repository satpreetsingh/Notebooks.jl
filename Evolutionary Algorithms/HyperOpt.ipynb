{
 "cells": [
  {
   "cell_type": "code",
   "execution_count": null,
   "metadata": {
    "collapsed": true
   },
   "outputs": [],
   "source": [
    "using Hyperopt\n",
    "\n",
    "function objective(args)\n",
    "    x,y = args\n",
    "    return Dict(\"loss\" => x^2 + y^2, \"status\" => STATUS_OK)\n",
    "end\n",
    "\n",
    "trials = Trials()\n",
    "\n",
    "best_args = fmin(objective,\n",
    "    space=[normal(\"x\", 0.0, 1.0), uniform(\"y\", -1.0, 1.0)],\n",
    "    algo=TPESUGGEST,\n",
    "    maxevals=10,\n",
    "    trials = trials)\n",
    "\n",
    "@show best_args\n",
    "@show valswithlosses(trials)"
   ]
  }
 ],
 "metadata": {
  "kernelspec": {
   "display_name": "Julia 0.5.0",
   "language": "julia",
   "name": "julia-0.5"
  },
  "language_info": {
   "file_extension": ".jl",
   "mimetype": "application/julia",
   "name": "julia",
   "version": "0.5.0"
  }
 },
 "nbformat": 4,
 "nbformat_minor": 0
}
