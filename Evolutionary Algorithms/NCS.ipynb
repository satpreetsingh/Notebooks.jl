{
 "cells": [
  {
   "cell_type": "code",
   "execution_count": 12,
   "metadata": {
    "ExecuteTime": {
     "end_time": "2016-12-07T21:06:02.883695",
     "start_time": "2016-12-07T13:06:03.638Z"
    },
    "collapsed": false,
    "run_control": {
     "frozen": false,
     "read_only": false
    }
   },
   "outputs": [
    {
     "name": "stderr",
     "output_type": "stream",
     "text": [
      "WARNING: replacing module NCS\n"
     ]
    },
    {
     "data": {
      "text/plain": [
       "NCS"
      ]
     },
     "execution_count": 12,
     "metadata": {},
     "output_type": "execute_result"
    }
   ],
   "source": [
    "module NCS\n",
    "export Particle,init_pop,optimize\n",
    "const r = 0.99\n",
    "const λrange= 0.1\n",
    "const epoch = 100\n",
    "type Particle{T,N}\n",
    "    x::Array{T,N} # position\n",
    "    v::T # value\n",
    "    vn::T # normalized value\n",
    "    x′::Array{T,N} # trial position\n",
    "    v′::T  # trial value\n",
    "    vn′::T # normalized tial value\n",
    "    σ::Array{T,N} # diagnol elements of Σ (sampling covariance matrix)\n",
    "    Corr::T # correlation value\n",
    "    Corr′::T # tiral correlation value\n",
    "    flag::T # successful trial in an epoch\n",
    "    λ::T # λ>0 is a parameter to balance exploration and exploitation.\n",
    "end\n",
    "Base.show(p::Particle) = println(\"x=\",p.x,\" f(x)=\",p.v)\n",
    "function init_pop(f,l,u; N=10)\n",
    "    g = [Particle(l+(u-l).*rand(size(l)),Inf,Inf,\n",
    "        l+(u-l).*rand(size(l)),Inf,Inf,\n",
    "        (u-l)/N,Inf,Inf,0.0,1.0) for i=1:N]\n",
    "    for p in g\n",
    "        p.v = f(p.x)\n",
    "    end\n",
    "    g\n",
    "end\n",
    "function BD(p, q)\n",
    "    Corr = Corr′ = 0  \n",
    "    @inbounds for d in eachindex(p.x)\n",
    "        Δx = p.x[d] - q.x[d]\n",
    "        Δx′ = p.x′[d] - q.x[d]\n",
    "        σ2 = p.σ[d]^2; σ2′ = q.σ[d]^2\n",
    "        c = (σ2+σ2′)/2\n",
    "        Corr += 1/8*Δx^2/c + 1/2*(log(c) - 0.5*(log(σ2) + log(σ2′)))\n",
    "        Corr′+= 1/8*Δx′^2/c + 1/2*(log(c) - 0.5*(log(σ2) + log(σ2′)))\n",
    "    end\n",
    "    Corr,Corr′\n",
    "end\n",
    "function fitness_values{T,N}(f,g::Array{Particle{T,N}})\n",
    "#     Threads.@threads \n",
    "    for p in g\n",
    "        p.x′ .= p.x .+ p.σ.*randn(size(p.x))\n",
    "        p.v′ = f(p.x′)\n",
    "    end\n",
    "end\n",
    "\n",
    "function normalize_fitness_values(g)\n",
    "    v_min = minimum(min(p.v,p.v′) for p in g)\n",
    "    for p in g\n",
    "        p.vn = p.v - v_min;\n",
    "        p.vn′ = p.v′ - v_min;\n",
    "        p.vn,p.vn′ = p.vn/(p.vn+p.vn′),p.vn′/(p.vn+p.vn′)\n",
    "    end\n",
    "end\n",
    "function correlation_values(g)\n",
    "    for p in g\n",
    "        p.Corr = p.Corr′ = Inf\n",
    "        for q in g\n",
    "            c,c′ = BD(p,q)\n",
    "            if c < p.Corr\n",
    "                p.Corr = c\n",
    "            end\n",
    "            if c′ < p.Corr′\n",
    "                p.Corr′ = c′\n",
    "            end\n",
    "        end\n",
    "    end\n",
    "end\n",
    "function normalize_correlation_values(g)    \n",
    "    for p in g\n",
    "        p.Corr,p.Corr′ = p.Corr/(p.Corr+p.Corr′+1e-20),\n",
    "        p.Corr′/(p.Corr+p.Corr′+1e-20)\n",
    "    end\n",
    "end\n",
    "function selection(g)\n",
    "    for p in g\n",
    "        if p.λ*p.Corr′ > p.vn′\n",
    "            p.x = copy(p.x′)\n",
    "            p.v = p.v′\n",
    "            p.flag += 1.0\n",
    "        end\n",
    "    end\n",
    "end         \n",
    "\n",
    "function update_parameters(g,t,T)\n",
    "    for p in g\n",
    "        p.λ = 1 + λrange*(1-t/T)*randn()\n",
    "    end\n",
    "    if mod(t, epoch) == 0\n",
    "        for p in g         \n",
    "            if p.flag/epoch > 0.2\n",
    "                p.σ /= r;\n",
    "            elseif p.flag/epoch < 0.2\n",
    "                p.σ *= r;\n",
    "            end\n",
    "            p.flag = 0.0\n",
    "        end\n",
    "    end\n",
    "end\n",
    "function best(p0,g)\n",
    "    for p in g\n",
    "            if p.v < p0.v\n",
    "            p0.x = copy(p.x)\n",
    "            p0.v = p.v\n",
    "        end\n",
    "    end\n",
    "end\n",
    "function optimize(f,g; T=10,disp=false)\n",
    "    p0 = deepcopy(g[1])\n",
    "    for t = 0:T\n",
    "        fitness_values(f,g)\n",
    "        normalize_fitness_values(g)\n",
    "        correlation_values(g)\n",
    "        normalize_correlation_values(g)\n",
    "        selection(g)\n",
    "        best(p0,g)\n",
    "        update_parameters(g,t,T)\n",
    "        if disp == true && mod(t,100) == 0\n",
    "            show(p0)\n",
    "        end\n",
    "    end\n",
    "    p0.x,p0.v\n",
    "end\n",
    "end"
   ]
  },
  {
   "cell_type": "code",
   "execution_count": 13,
   "metadata": {
    "ExecuteTime": {
     "end_time": "2016-12-07T21:06:08.067467",
     "start_time": "2016-12-07T13:06:04.364Z"
    },
    "collapsed": true
   },
   "outputs": [
    {
     "name": "stderr",
     "output_type": "stream",
     "text": [
      "ERROR (unhandled task failure): listen: address already in use (EADDRINUSE)\n",
      " in uv_error at ./libuv.jl:68 [inlined]\n",
      " in #listen#393(::Int64, ::Function, ::Base.InetAddr{IPv4}) at ./socket.jl:700\n",
      " in (::Base.#kw##listen)(::Array{Any,1}, ::Base.#listen, ::Base.InetAddr{IPv4}) at ./<missing>:0\n",
      " in #serve#4(::Array{Any,1}, ::Function, ::Int64) at /home/rluser/.julia/v0.5/Atom/src/comm.jl:92\n",
      " in serve(::Int64) at /home/rluser/.julia/v0.5/Atom/src/comm.jl:92\n",
      " in (::##2#4{Module})() at ./task.jl:360\n",
      "ERROR (unhandled task failure): listen: address already in use (EADDRINUSE)\n",
      " in uv_error at ./libuv.jl:68 [inlined]\n",
      " in #listen#393(::Int64, ::Function, ::Base.InetAddr{IPv4}) at ./socket.jl:700\n",
      " in (::Base.#kw##listen)(::Array{Any,1}, ::Base.#listen, ::Base.InetAddr{IPv4}) at ./<missing>:0\n",
      " in #serve#4(::Array{Any,1}, ::Function, ::Int64) at /home/rluser/.julia/v0.5/Atom/src/comm.jl:92\n",
      " in serve(::Int64) at /home/rluser/.julia/v0.5/Atom/src/comm.jl:92\n",
      " in (::##2#4{Module})() at ./task.jl:360\n",
      "ERROR (unhandled task failure): listen: address already in use (EADDRINUSE)\n",
      " in uv_error at ./libuv.jl:68 [inlined]\n",
      " in #listen#393(::Int64, ::Function, ::Base.InetAddr{IPv4}) at ./socket.jl:700\n",
      " in (::Base.#kw##listen)(::Array{Any,1}, ::Base.#listen, ::Base.InetAddr{IPv4}) at ./<missing>:0\n",
      " in #serve#4(::Array{Any,1}, ::Function, ::Int64) at /home/rluser/.julia/v0.5/Atom/src/comm.jl:92\n",
      " in serve(::Int64) at /home/rluser/.julia/v0.5/Atom/src/comm.jl:92\n",
      " in (::##2#4{Module})() at ./task.jl:360\n"
     ]
    },
    {
     "data": {
      "text/plain": [
       "3-element Array{Int64,1}:\n",
       "  8\n",
       "  9\n",
       " 10"
      ]
     },
     "execution_count": 13,
     "metadata": {},
     "output_type": "execute_result"
    }
   ],
   "source": [
    "addprocs(3)"
   ]
  },
  {
   "cell_type": "code",
   "execution_count": 16,
   "metadata": {
    "ExecuteTime": {
     "end_time": "2016-12-07T21:06:35.881362",
     "start_time": "2016-12-07T13:06:34.583Z"
    },
    "collapsed": false
   },
   "outputs": [
    {
     "name": "stderr",
     "output_type": "stream",
     "text": [
      "WARNING: Method definition rastrigin(Any) in module Main at In[15]:3 overwritten at In[16]:4.\n"
     ]
    },
    {
     "ename": "LoadError",
     "evalue": "On worker 2:\nArgumentError: Module NCS not found in current path.\nRun `Pkg.add(\"NCS\")` to install the NCS package.\n in require at ./loading.jl:365\n in eval at ./boot.jl:234\n in #37 at ./multi.jl:1957\n in #625 at ./multi.jl:1421\n in run_work_thunk at ./multi.jl:1001\n in macro expansion at ./multi.jl:1421 [inlined]\n in #624 at ./event.jl:68\n in #remotecall_fetch#606(::Array{Any,1}, ::Function, ::Function, ::Base.Worker) at ./multi.jl:1070\n in remotecall_fetch(::Function, ::Base.Worker) at ./multi.jl:1062\n in #remotecall_fetch#609(::Array{Any,1}, ::Function, ::Function, ::Int64) at ./multi.jl:1080\n in remotecall_fetch(::Function, ::Int64) at ./multi.jl:1080\n in (::##38#40)() at ./multi.jl:1959\n\n...and 8 other exceptions.\n",
     "output_type": "error",
     "traceback": [
      "On worker 2:\nArgumentError: Module NCS not found in current path.\nRun `Pkg.add(\"NCS\")` to install the NCS package.\n in require at ./loading.jl:365\n in eval at ./boot.jl:234\n in #37 at ./multi.jl:1957\n in #625 at ./multi.jl:1421\n in run_work_thunk at ./multi.jl:1001\n in macro expansion at ./multi.jl:1421 [inlined]\n in #624 at ./event.jl:68\n in #remotecall_fetch#606(::Array{Any,1}, ::Function, ::Function, ::Base.Worker) at ./multi.jl:1070\n in remotecall_fetch(::Function, ::Base.Worker) at ./multi.jl:1062\n in #remotecall_fetch#609(::Array{Any,1}, ::Function, ::Function, ::Int64) at ./multi.jl:1080\n in remotecall_fetch(::Function, ::Int64) at ./multi.jl:1080\n in (::##38#40)() at ./multi.jl:1959\n\n...and 8 other exceptions.\n",
      "",
      " in sync_end() at ./task.jl:311",
      " in macro expansion; at ./multi.jl:1968 [inlined]",
      " in anonymous at ./<missing>:?"
     ]
    }
   ],
   "source": [
    "@everywhere begin\n",
    "import NCS\n",
    "const A = 10\n",
    "rastrigin(x) = A*length(x) + sum(x.^2 .- A*cos.(2π*x))\n",
    "end\n",
    "g = NCS.init_pop(x->rastrigin(x),-ones(3),ones(3); N=50)\n",
    "@time x0,y0 = NCS.optimize(x->rastrigin(x),g; T=1,disp=true)"
   ]
  },
  {
   "cell_type": "code",
   "execution_count": 20,
   "metadata": {
    "ExecuteTime": {
     "end_time": "2016-12-07T21:06:58.144509",
     "start_time": "2016-12-07T13:06:55.174Z"
    },
    "collapsed": false,
    "run_control": {
     "frozen": false,
     "read_only": false
    }
   },
   "outputs": [
    {
     "name": "stdout",
     "output_type": "stream",
     "text": [
      "x=[0.0518152,-0.125869,-0.188115] f(x)=9.755755874180029\n"
     ]
    },
    {
     "name": "stderr",
     "output_type": "stream",
     "text": [
      "WARNING: Method definition rastrigin(Any) in module Main at In[19]:3 overwritten at In[20]:3.\n"
     ]
    },
    {
     "name": "stdout",
     "output_type": "stream",
     "text": [
      "x=[0.00376503,0.0186632,-0.0712909] f(x)=1.0634797496767305\n",
      "x=[-1.00829,-0.00460273,0.00827538] f(x)=1.047993065094019\n",
      "x=[-0.0372093,-0.0359278,-0.0174312] f(x)=0.5886644745655047\n",
      "x=[-0.0372093,-0.0359278,-0.0174312] f(x)=0.5886644745655047\n",
      "x=[-0.0152281,-0.0253725,-0.0319281] f(x)=0.3749871892100529\n",
      "x=[0.0257391,-0.029334,0.0173396] f(x)=0.360973247491156\n",
      "x=[0.0257391,-0.029334,0.0173396] f(x)=0.360973247491156\n",
      "x=[0.0257391,-0.029334,0.0173396] f(x)=0.360973247491156\n",
      "x=[-0.0105309,-0.0137315,0.0212872] f(x)=0.14914529929496823\n",
      "x=[-0.0105309,-0.0137315,0.0212872] f(x)=0.14914529929496823\n",
      "  3.732736 seconds (61.07 M allocations: 1.014 GB, 2.89% gc time)\n"
     ]
    },
    {
     "data": {
      "text/plain": [
       "([-0.0105309,-0.0137315,0.0212872],0.14914529929496823)"
      ]
     },
     "execution_count": 20,
     "metadata": {},
     "output_type": "execute_result"
    }
   ],
   "source": [
    "import NCS\n",
    "const A = 10\n",
    "rastrigin(x) = A*length(x) + sum(x.^2 .- A*cos.(2π*x))\n",
    "g = NCS.init_pop(x->rastrigin(x),-ones(3),ones(3); N=50)\n",
    "@time x0,y0 = NCS.optimize(x->rastrigin(x),g; T=1000,disp=true)"
   ]
  },
  {
   "cell_type": "code",
   "execution_count": null,
   "metadata": {
    "ExecuteTime": {
     "end_time": "2016-12-07T20:53:56.888115",
     "start_time": "2016-12-07T12:53:54.428Z"
    },
    "collapsed": false
   },
   "outputs": [],
   "source": [
    "using ProfileView"
   ]
  }
 ],
 "metadata": {
  "kernelspec": {
   "display_name": "Julia 0.5.0",
   "language": "julia",
   "name": "julia-0.5"
  },
  "language_info": {
   "file_extension": ".jl",
   "mimetype": "application/julia",
   "name": "julia",
   "version": "0.5.0"
  }
 },
 "nbformat": 4,
 "nbformat_minor": 0
}
