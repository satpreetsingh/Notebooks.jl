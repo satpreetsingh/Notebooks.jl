{
 "cells": [
  {
   "cell_type": "code",
   "execution_count": 18,
   "metadata": {
    "ExecuteTime": {
     "end_time": "2016-12-07T20:00:17.893310",
     "start_time": "2016-12-07T12:00:18.612Z"
    },
    "collapsed": false
   },
   "outputs": [
    {
     "name": "stderr",
     "output_type": "stream",
     "text": [
      "WARNING: replacing module CMA\n"
     ]
    },
    {
     "data": {
      "text/plain": [
       "CMA"
      ]
     },
     "execution_count": 18,
     "metadata": {},
     "output_type": "execute_result"
    }
   ],
   "source": [
    "module CMA\n",
    "using PyCall\n",
    "@pyimport cma\n",
    "function cmaes(f, l, u; restarts=0)\n",
    "    options = Dict(\"boundary_handling\"=>\"BoundPenalty\",\"bounds\"=>(l, u))\n",
    "    res = cma.fmin(x->f(x), l+rand(size(l)).*(u-l), 1/4*norm(u-l), \n",
    "    options, bipop=true, restarts=restarts);\n",
    "    res[1],res[2]\n",
    "end\n",
    "end"
   ]
  },
  {
   "cell_type": "code",
   "execution_count": 19,
   "metadata": {
    "ExecuteTime": {
     "end_time": "2016-12-07T20:00:18.606040",
     "start_time": "2016-12-07T12:00:19.392Z"
    },
    "collapsed": false
   },
   "outputs": [
    {
     "name": "stderr",
     "output_type": "stream",
     "text": [
      "WARNING: Method definition rastrigin(Any) in module Main at In[14]:2 overwritten at In[19]:2.\n"
     ]
    },
    {
     "data": {
      "text/plain": [
       "rastrigin (generic function with 1 method)"
      ]
     },
     "execution_count": 19,
     "metadata": {},
     "output_type": "execute_result"
    }
   ],
   "source": [
    "const A = 10\n",
    "rastrigin(x) = A*length(x) + sum(x.^2 .- A*cos.(2π*x))\n",
    "CMA.cmaes(rastrigin, -ones(2), ones(2), restarts=4)"
   ]
  }
 ],
 "metadata": {
  "kernelspec": {
   "display_name": "Julia 0.5.0",
   "language": "julia",
   "name": "julia-0.5"
  },
  "language_info": {
   "file_extension": ".jl",
   "mimetype": "application/julia",
   "name": "julia",
   "version": "0.5.0"
  }
 },
 "nbformat": 4,
 "nbformat_minor": 0
}
