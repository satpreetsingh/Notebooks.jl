{
 "cells": [
  {
   "cell_type": "code",
   "execution_count": 1,
   "metadata": {
    "collapsed": false
   },
   "outputs": [
    {
     "data": {
      "text/plain": [
       "PSO"
      ]
     },
     "execution_count": 1,
     "metadata": {},
     "output_type": "execute_result"
    }
   ],
   "source": [
    "module PSO \n",
    "\n",
    "export init_population,optimize\n",
    "type Particle{T,N}\n",
    "    x::Array{T,N} # position\n",
    "    x_cost::Float64\n",
    "    v::Array{T,N} # velocity\n",
    "    xh::Array{T,N} # personal best\n",
    "    xh_cost::Float64\n",
    "    xg::Array{T,N} # global best\n",
    "    nb::Vector{Int}\n",
    "end\n",
    "\n",
    "const c1 = 1e-2\n",
    "const c2 = 1e-2\n",
    "\n",
    "function init_population(x0,N)\n",
    "    [Particle(x0,1e6,randn(2),\n",
    "    x0,1e6,\n",
    "    x0,[1:N;]) for i=1:N];\n",
    "end\n",
    "    \n",
    "function velocity_update(p::Particle)\n",
    "    for d in eachindex(p.v)\n",
    "        @inbounds p.v[d] += c1*rand()*(p.xh[d]-p.x[d]) + c2*rand()*(p.xg[d]-p.x[d])\n",
    "    end\n",
    "end\n",
    "function position_update(p::Particle)\n",
    "    for d in eachindex(p.x)\n",
    "        @inbounds p.x[d] += p.v[d]\n",
    "    end\n",
    "end \n",
    "function evaluate(f,g)\n",
    "    #     Threads.@threads \n",
    "    for p in g\n",
    "        p.x_cost = f(p.x)\n",
    "    end\n",
    "end\n",
    "\n",
    "function optimize(f,g; T=1000)\n",
    "    for t = 1:T\n",
    "        evaluate(f,g)\n",
    "        \n",
    "        for p in g\n",
    "            if p.x_cost < p.xh_cost\n",
    "                p.xh = copy(p.x)\n",
    "                p.xh_cost = p.x_cost\n",
    "            end\n",
    "\n",
    "            idx = indmin(g[i].x_cost for i in p.nb)\n",
    "            p.xg = g[p.nb[idx]].x\n",
    "\n",
    "            velocity_update(p)\n",
    "            position_update(p)\n",
    "        end\n",
    "    end\n",
    "    y0,index = findmin(p.xh_cost for p in g)\n",
    "    x0 = g[index].xh\n",
    "    x0,y0\n",
    "end\n",
    "\n",
    "end # end of module"
   ]
  },
  {
   "cell_type": "code",
   "execution_count": 17,
   "metadata": {
    "collapsed": false
   },
   "outputs": [
    {
     "name": "stderr",
     "output_type": "stream",
     "text": [
      "WARNING: Method definition f(Any) in module Main at In[16]:2 overwritten at In[17]:2.\n"
     ]
    },
    {
     "data": {
      "text/plain": [
       "([0.241385,-0.00556958],0.24144943061559335)"
      ]
     },
     "execution_count": 17,
     "metadata": {},
     "output_type": "execute_result"
    }
   ],
   "source": [
    "using PSO\n",
    "f(x) = norm(x)\n",
    "group = init_population(rand(2),10);\n",
    "optimize(f,group;T=1000)"
   ]
  }
 ],
 "metadata": {
  "kernelspec": {
   "display_name": "Julia 0.5.0",
   "language": "julia",
   "name": "julia-0.5"
  },
  "language_info": {
   "file_extension": ".jl",
   "mimetype": "application/julia",
   "name": "julia",
   "version": "0.5.0"
  }
 },
 "nbformat": 4,
 "nbformat_minor": 0
}
