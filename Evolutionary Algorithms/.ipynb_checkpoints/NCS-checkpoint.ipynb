{
 "cells": [
  {
   "cell_type": "code",
   "execution_count": 60,
   "metadata": {
    "ExecuteTime": {
     "end_time": "2016-12-07T20:56:54.057274",
     "start_time": "2016-12-07T12:56:54.811Z"
    },
    "collapsed": false,
    "run_control": {
     "frozen": false,
     "read_only": false
    }
   },
   "outputs": [
    {
     "name": "stderr",
     "output_type": "stream",
     "text": [
      "WARNING: replacing module NCS\n"
     ]
    },
    {
     "data": {
      "text/plain": [
       "NCS"
      ]
     },
     "execution_count": 60,
     "metadata": {},
     "output_type": "execute_result"
    }
   ],
   "source": [
    "module NCS\n",
    "export Particle,init_pop,optimize\n",
    "const r = 0.99\n",
    "const λrange= 0.1\n",
    "const epoch = 100\n",
    "type Particle{T,N}\n",
    "    x::Array{T,N} # position\n",
    "    v::T # value\n",
    "    vn::T # normalized value\n",
    "    x′::Array{T,N} # trial position\n",
    "    v′::T  # trial value\n",
    "    vn′::T # normalized tial value\n",
    "    σ::Array{T,N} # diagnol elements of Σ (sampling covariance matrix)\n",
    "    Corr::T # correlation value\n",
    "    Corr′::T # tiral correlation value\n",
    "    flag::T # successful trial in an epoch\n",
    "    λ::T # λ>0 is a parameter to balance exploration and exploitation.\n",
    "end\n",
    "Base.show(p::Particle) = println(\"x=\",p.x,\" f(x)=\",p.v)\n",
    "function init_pop(f,l,u; N=10)\n",
    "    g = [Particle(l+(u-l).*rand(size(l)),Inf,Inf,\n",
    "        l+(u-l).*rand(size(l)),Inf,Inf,\n",
    "        (u-l)/N,Inf,Inf,0.0,1.0) for i=1:N]\n",
    "    for p in g\n",
    "        p.v = f(p.x)\n",
    "    end\n",
    "    g\n",
    "end\n",
    "function BD(p, q)\n",
    "    Corr = Corr′ = 0  \n",
    "    @inbounds for d in eachindex(p.x)\n",
    "        Δx = p.x[d] - q.x[d]\n",
    "        Δx′ = p.x′[d] - q.x[d]\n",
    "        σ2 = p.σ[d]^2; σ2′ = q.σ[d]^2\n",
    "        c = (σ2+σ2′)/2\n",
    "        Corr += 1/8*Δx^2/c + 1/2*(log(c) - 0.5*(log(σ2) + log(σ2′)))\n",
    "        Corr′+= 1/8*Δx′^2/c + 1/2*(log(c) - 0.5*(log(σ2) + log(σ2′)))\n",
    "    end\n",
    "    Corr,Corr′\n",
    "end\n",
    "function fitness_values{T,N}(f,g::Array{Particle{T,N}})\n",
    "#     Threads.@threads \n",
    "    @parallel for p in g\n",
    "        p.x′ = p.x + p.σ.*randn(size(p.x))\n",
    "        p.v′ = f(p.x′)\n",
    "    end\n",
    "end\n",
    "\n",
    "function normalize_fitness_values(g)\n",
    "    v_min = minimum(min(p.v,p.v′) for p in g)\n",
    "    for p in g\n",
    "        p.vn = p.v - v_min;\n",
    "        p.vn′ = p.v′ - v_min;\n",
    "        p.vn,p.vn′ = p.vn/(p.vn+p.vn′),p.vn′/(p.vn+p.vn′)\n",
    "    end\n",
    "end\n",
    "function correlation_values(g)\n",
    "    for p in g\n",
    "        p.Corr = p.Corr′ = Inf\n",
    "        for q in g\n",
    "            c,c′ = BD(p,q)\n",
    "            if c < p.Corr\n",
    "                p.Corr = c\n",
    "            end\n",
    "            if c′ < p.Corr′\n",
    "                p.Corr′ = c′\n",
    "            end\n",
    "        end\n",
    "    end\n",
    "end\n",
    "function normalize_correlation_values(g)    \n",
    "    for p in g\n",
    "        p.Corr,p.Corr′ = p.Corr/(p.Corr+p.Corr′+1e-20),\n",
    "        p.Corr′/(p.Corr+p.Corr′+1e-20)\n",
    "    end\n",
    "end\n",
    "function selection(g)\n",
    "    for p in g\n",
    "            if p.λ*p.Corr′ > p.vn′\n",
    "            p.x = copy(p.x′)\n",
    "            p.v = p.v′\n",
    "            p.flag += 1.0\n",
    "        end\n",
    "    end\n",
    "end         \n",
    "\n",
    "function update_parameters(g,t,T)\n",
    "    for p in g\n",
    "        p.λ = 1 + λrange*(1-t/T)*randn()\n",
    "    end\n",
    "    if mod(t, epoch) == 0\n",
    "        for p in g         \n",
    "            if p.flag/epoch > 0.2\n",
    "                p.σ /= r;\n",
    "            elseif p.flag/epoch < 0.2\n",
    "                p.σ *= r;\n",
    "            end\n",
    "            p.flag = 0.0\n",
    "        end\n",
    "    end\n",
    "end\n",
    "function best(p0,g)\n",
    "    for p in g\n",
    "            if p.v < p0.v\n",
    "            p0.x = copy(p.x)\n",
    "            p0.v = p.v\n",
    "        end\n",
    "    end\n",
    "end\n",
    "function optimize(f,g; T=10,disp=false)\n",
    "    p0 = deepcopy(g[1])\n",
    "    for t = 0:T\n",
    "        fitness_values(f,g)\n",
    "        normalize_fitness_values(g)\n",
    "        correlation_values(g)\n",
    "        normalize_correlation_values(g)\n",
    "        selection(g)\n",
    "        best(p0,g)\n",
    "        update_parameters(g,t,T)\n",
    "        if disp == true && mod(t,100) == 0\n",
    "            show(p0)\n",
    "        end\n",
    "    end\n",
    "    p0.x,p0.v\n",
    "end\n",
    "end"
   ]
  },
  {
   "cell_type": "code",
   "execution_count": 62,
   "metadata": {
    "ExecuteTime": {
     "end_time": "2016-12-07T20:57:05.003291",
     "start_time": "2016-12-07T12:57:02.351Z"
    },
    "collapsed": false,
    "run_control": {
     "frozen": false,
     "read_only": false
    }
   },
   "outputs": [
    {
     "name": "stdout",
     "output_type": "stream",
     "text": [
      "x=[-0.0165765,0.932481,0.103563] f(x)=3.8645859872620143\n",
      "x="
     ]
    },
    {
     "name": "stderr",
     "output_type": "stream",
     "text": [
      "WARNING: Method definition rastrigin(Any) in module Main at In[61]:3 overwritten at In[62]:3.\n"
     ]
    },
    {
     "name": "stdout",
     "output_type": "stream",
     "text": [
      "[0.0233432,-0.0100159,-0.00644137] f(x)=0.1360382221841192\n",
      "x=[0.0233432,-0.0100159,-0.00644137] f(x)=0.1360382221841192\n",
      "x=[0.0233432,-0.0100159,-0.00644137] f(x)=0.1360382221841192\n",
      "x=[0.0233432,-0.0100159,-0.00644137] f(x)=0.1360382221841192\n",
      "x=[0.0233432,-0.0100159,-0.00644137] f(x)=0.1360382221841192\n",
      "x=[0.0233432,-0.0100159,-0.00644137] f(x)=0.1360382221841192\n",
      "x=[0.0233432,-0.0100159,-0.00644137] f(x)=0.1360382221841192\n",
      "x=[0.0233432,-0.0100159,-0.00644137] f(x)=0.1360382221841192\n",
      "x=[0.0233432,-0.0100159,-0.00644137] f(x)=0.1360382221841192\n",
      "x=[0.0233432,-0.0100159,-0.00644137] f(x)=0.1360382221841192\n",
      "  3.436448 seconds (60.00 M allocations: 995.787 MB, 11.59% gc time)\n"
     ]
    },
    {
     "data": {
      "text/plain": [
       "([0.0233432,-0.0100159,-0.00644137],0.1360382221841192)"
      ]
     },
     "execution_count": 62,
     "metadata": {},
     "output_type": "execute_result"
    }
   ],
   "source": [
    "import NCS\n",
    "const A = 10\n",
    "rastrigin(x) = A*length(x) + sum(x.^2 .- A*cos.(2π*x))\n",
    "g = NCS.init_pop(x->rastrigin(x),-ones(3),ones(3); N=50)\n",
    "@time x0,y0 = NCS.optimize(x->rastrigin(x),g; T=1000,disp=true)"
   ]
  },
  {
   "cell_type": "code",
   "execution_count": 52,
   "metadata": {
    "ExecuteTime": {
     "end_time": "2016-12-07T20:53:56.888115",
     "start_time": "2016-12-07T12:53:54.428Z"
    },
    "collapsed": false
   },
   "outputs": [
    {
     "name": "stderr",
     "output_type": "stream",
     "text": [
      "\u001b[1m\u001b[34mINFO: Precompiling module ProfileView.\n",
      "\u001b[0m\u001b[1m\u001b[34mINFO: Precompiling module ProfileViewSVG.\n",
      "\u001b[0m"
     ]
    }
   ],
   "source": [
    "using ProfileView"
   ]
  },
  {
   "cell_type": "code",
   "execution_count": 53,
   "metadata": {
    "ExecuteTime": {
     "end_time": "2016-12-07T20:54:50.357546",
     "start_time": "2016-12-07T12:54:51.037Z"
    },
    "collapsed": false
   },
   "outputs": [
    {
     "data": {
      "text/plain": [
       "Function"
      ]
     },
     "execution_count": 53,
     "metadata": {},
     "output_type": "execute_result"
    }
   ],
   "source": [
    "Function"
   ]
  },
  {
   "cell_type": "code",
   "execution_count": null,
   "metadata": {
    "collapsed": true
   },
   "outputs": [],
   "source": []
  }
 ],
 "metadata": {
  "kernelspec": {
   "display_name": "Julia 0.5.0",
   "language": "julia",
   "name": "julia-0.5"
  },
  "language_info": {
   "file_extension": ".jl",
   "mimetype": "application/julia",
   "name": "julia",
   "version": "0.5.0"
  }
 },
 "nbformat": 4,
 "nbformat_minor": 0
}
