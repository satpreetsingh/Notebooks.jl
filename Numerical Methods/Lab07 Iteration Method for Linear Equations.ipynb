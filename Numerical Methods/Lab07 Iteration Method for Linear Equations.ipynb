{
 "cells": [
  {
   "cell_type": "markdown",
   "metadata": {},
   "source": [
    "# Lab07 Iteration Methods for Linear Equations\n",
    "- 路遥\n",
    "- PB12203068"
   ]
  },
  {
   "cell_type": "markdown",
   "metadata": {},
   "source": [
    "## Prepare Dara"
   ]
  },
  {
   "cell_type": "code",
   "execution_count": 68,
   "metadata": {
    "collapsed": true
   },
   "outputs": [],
   "source": [
    "A=[31 -13 0 0 0 -10 0 0 0\n",
    "-13 35 -9 0 -11 0 0 0 0\n",
    "0 -9 31 -10 0 0 0 0 0\n",
    "0 0 -10 79 -30 0 0 0 9\n",
    "0 0 0 -30 57 -7 0 -5 0\n",
    "0 0 0 0 -7 47 -30 0 0\n",
    "0 0 0 0 0 -30 41 0 0\n",
    "0 0 0 0 -5 0 0 27 -2\n",
    "0 0 0 -9 0 0 0 -2 29.]\n",
    "y=[-15,27,-23,0,-20,12,-7,7,10.];"
   ]
  },
  {
   "cell_type": "markdown",
   "metadata": {},
   "source": [
    "## Algorithm Analysis\n",
    "create a function to do SOR Iteration and Gauss-Seidel Iteration."
   ]
  },
  {
   "cell_type": "code",
   "execution_count": 137,
   "metadata": {
    "collapsed": false
   },
   "outputs": [
    {
     "data": {
      "text/plain": [
       "RelaxationIteration (generic function with 2 methods)"
      ]
     },
     "execution_count": 137,
     "metadata": {},
     "output_type": "execute_result"
    }
   ],
   "source": [
    "function RelaxationIteration(A::Array{Float64,2},y::Array{Float64,1},x0::Array{Float64,1};ω=1)   \n",
    "    d=diag(A)\n",
    "    g=b./d\n",
    "    B=-diagm(1./d)*(A-diagm(d))\n",
    "    \n",
    "    N=size(A,1)\n",
    "    x_pre=x0\n",
    "    err=10\n",
    "    iter=0\n",
    "    \n",
    "    while err>1e-10\n",
    "        x_next=copy(x_pre)\n",
    "        for i=1:N\n",
    "            x_next[i]=(1-ω)*x_pre[i]+ω*(sum(B[i,:]*x_next)+g[i])\n",
    "        end\n",
    "        err=norm(x_pre-x_next)\n",
    "        x_pre=x_next\n",
    "        iter+=1\n",
    "    end\n",
    "    \n",
    "    return x_pre,iter\n",
    "end    "
   ]
  },
  {
   "cell_type": "markdown",
   "metadata": {},
   "source": [
    "## Computational Results"
   ]
  },
  {
   "cell_type": "code",
   "execution_count": 136,
   "metadata": {
    "collapsed": false,
    "scrolled": true
   },
   "outputs": [
    {
     "name": "stdout",
     "output_type": "stream",
     "text": [
      "Gauss-Seidel Iteration:\n",
      "\n",
      "root=[-0.3064596600880424,0.3146199815375083,-0.7494266216707055,-0.3063805105741114,-0.4781350427547755,0.14096907765715244,-0.06758360171427871,0.19018686727912243,0.26286031515142216]\n",
      "\n",
      "iteration=36\n"
     ]
    }
   ],
   "source": [
    "@printf \"Gauss-Seidel Iteration:\\n\\n\"\n",
    "root,iter=RelaxationIteration(A,y,ones(9));\n",
    "@printf \"root=%s\\n\\n\" root\n",
    "@printf \"iteration=%d\\n\" iter"
   ]
  },
  {
   "cell_type": "code",
   "execution_count": 139,
   "metadata": {
    "collapsed": false,
    "scrolled": false
   },
   "outputs": [
    {
     "name": "stdout",
     "output_type": "stream",
     "text": [
      "SOR Iteration\n",
      "\n",
      "factor  iteration\n",
      "0.02     3248\n",
      "0.04     1668\n",
      "0.06     1124\n",
      "0.08     847\n",
      "0.10     678\n",
      "0.12     564\n",
      "0.14     482\n",
      "0.16     420\n",
      "0.18     372\n",
      "0.20     333\n",
      "0.22     301\n",
      "0.24     274\n",
      "0.26     251\n",
      "0.28     231\n",
      "0.30     214\n",
      "0.32     199\n",
      "0.34     185\n",
      "0.36     173\n",
      "0.38     163\n",
      "0.40     153\n",
      "0.42     144\n",
      "0.44     136\n",
      "0.46     129\n",
      "0.48     122\n",
      "0.50     116\n",
      "0.52     110\n",
      "0.54     104\n",
      "0.56     99\n",
      "0.58     95\n",
      "0.60     90\n",
      "0.62     86\n",
      "0.64     82\n",
      "0.66     79\n",
      "0.68     75\n",
      "0.70     72\n",
      "0.72     69\n",
      "0.74     66\n",
      "0.76     63\n",
      "0.78     60\n",
      "0.80     57\n",
      "0.82     55\n",
      "0.84     53\n",
      "0.86     50\n",
      "0.88     48\n",
      "0.90     46\n",
      "0.92     44\n",
      "0.94     42\n",
      "0.96     40\n",
      "0.98     38\n",
      "1.00     36\n",
      "1.02     34\n",
      "1.04     32\n",
      "1.06     30\n",
      "1.08     29\n",
      "1.10     27\n",
      "1.12     25\n",
      "1.14     23\n",
      "1.16     20\n",
      "1.18     17\n",
      "1.20     17\n",
      "1.22     18\n",
      "1.24     19\n",
      "1.26     21\n",
      "1.28     22\n",
      "1.30     23\n",
      "1.32     24\n",
      "1.34     25\n",
      "1.36     27\n",
      "1.38     29\n",
      "1.40     30\n",
      "1.42     32\n",
      "1.44     34\n",
      "1.46     36\n",
      "1.48     38\n",
      "1.50     40\n",
      "1.52     43\n",
      "1.54     46\n",
      "1.56     49\n",
      "1.58     53\n",
      "1.60     57\n",
      "1.62     62\n",
      "1.64     68\n",
      "1.66     74\n",
      "1.68     81\n",
      "1.70     91\n",
      "1.72     102\n",
      "1.74     115\n",
      "1.76     134\n",
      "1.78     157\n",
      "1.80     191\n",
      "1.82     239\n",
      "1.84     323\n",
      "1.86     485\n",
      "1.88     965\n",
      "1.90     34431\n",
      "1.92     30466\n",
      "1.94     15166\n",
      "1.96     10164\n",
      "1.98     7679\n",
      "\n",
      "optimal factor:1.18  iteration:17"
     ]
    }
   ],
   "source": [
    "@printf \"SOR Iteration\\n\\n\"\n",
    "iter_array=[];\n",
    "@printf \"factor  iteration\\n\"\n",
    "for ω=(1:99)/50\n",
    "    root,iter=RelaxationIteration(A,y,ones(9),ω=ω);\n",
    "    push!(iter_array,iter)\n",
    "    @printf \"%.2f     %d\\n\" ω iter\n",
    "end\n",
    "\n",
    "@printf \"\\noptimal factor:%.2f  iteration:%d\" findmin(iter_array)[2]/50 minimum(iter_array)"
   ]
  },
  {
   "cell_type": "markdown",
   "metadata": {},
   "source": [
    "## Conclusion\n",
    "- Gauss-Seidel Iteration is a relatively fast algorithm.\n",
    "- The problem of SOR is that we cannot theoretically determine an optimal iteration factor in advance. Some factors converge faster than Gauss-Seidel Iteration while others do a bad job. So it's important to choose an optimal factor based on previous experiments."
   ]
  }
 ],
 "metadata": {
  "kernelspec": {
   "display_name": "Julia 0.4.5",
   "language": "julia",
   "name": "julia-0.4"
  },
  "language_info": {
   "file_extension": ".jl",
   "mimetype": "application/julia",
   "name": "julia",
   "version": "0.4.5"
  }
 },
 "nbformat": 4,
 "nbformat_minor": 0
}
