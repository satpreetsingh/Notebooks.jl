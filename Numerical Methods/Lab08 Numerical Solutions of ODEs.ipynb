{
 "cells": [
  {
   "cell_type": "markdown",
   "metadata": {},
   "source": [
    "# Lab08 Numerical Solutions of ODEs\n",
    "- 路遥\n",
    "- PB12203068"
   ]
  },
  {
   "cell_type": "markdown",
   "metadata": {},
   "source": [
    "## Algorithm Analysis\n",
    "create functions to do rk4 and adam3"
   ]
  },
  {
   "cell_type": "code",
   "execution_count": 7,
   "metadata": {
    "collapsed": false
   },
   "outputs": [
    {
     "data": {
      "text/plain": [
       "Dy (generic function with 1 method)"
      ]
     },
     "execution_count": 7,
     "metadata": {},
     "output_type": "execute_result"
    }
   ],
   "source": [
    "function Dy(t,y,h)\n",
    "    k1=f(t,y)\n",
    "    k2=f(t+h/2,y+h/2*k1)\n",
    "    k3=f(t+h/2,y+h/2*k2)\n",
    "    k4=f(t+h,y+h*k3)\n",
    "    return h/6*(k1+2k2+2k3+k4)\n",
    "end"
   ]
  },
  {
   "cell_type": "code",
   "execution_count": 8,
   "metadata": {
    "collapsed": false
   },
   "outputs": [
    {
     "data": {
      "text/plain": [
       "rk4 (generic function with 1 method)"
      ]
     },
     "execution_count": 8,
     "metadata": {},
     "output_type": "execute_result"
    }
   ],
   "source": [
    "function rk4(f::Function,y0,tspan)\n",
    "    h=tspan[2]-tspan[1]\n",
    "    N=length(tspan)\n",
    "    t=collect(tspan)\n",
    "    y=fill(y0,N)\n",
    "    for n=1:1:N-1\n",
    "        y[n+1]=y[n]+Dy(t[n],y[n],h)\n",
    "    end\n",
    "    return t,y\n",
    "end"
   ]
  },
  {
   "cell_type": "code",
   "execution_count": 9,
   "metadata": {
    "collapsed": false
   },
   "outputs": [
    {
     "data": {
      "text/plain": [
       "adam3 (generic function with 1 method)"
      ]
     },
     "execution_count": 9,
     "metadata": {},
     "output_type": "execute_result"
    }
   ],
   "source": [
    "function adam3(f::Function,y0,tspan)\n",
    "    h=tspan[2]-tspan[1]\n",
    "    N=length(tspan)\n",
    "    t=collect(tspan)\n",
    "    y=fill(y0,N)\n",
    "    y[2]=y[1]+Dy(t[1],y[1],h)\n",
    "    for n=2:1:N-1\n",
    "        y[n+1]=y[n]+Dy(t[n],y[n],h)\n",
    "        y[n+1]=y[n]+h/12*(5f(t[n+1],y[n+1])+8f(t[n],y[n])-f(t[n-1],y[n-1]))\n",
    "    end\n",
    "    return t,y\n",
    "end"
   ]
  },
  {
   "cell_type": "markdown",
   "metadata": {},
   "source": [
    "## Computational Results"
   ]
  },
  {
   "cell_type": "code",
   "execution_count": 10,
   "metadata": {
    "collapsed": false,
    "scrolled": true
   },
   "outputs": [
    {
     "data": {
      "text/plain": [
       "f (generic function with 1 method)"
      ]
     },
     "execution_count": 10,
     "metadata": {},
     "output_type": "execute_result"
    }
   ],
   "source": [
    "f(t,y)=-t^2*y^2"
   ]
  },
  {
   "cell_type": "code",
   "execution_count": 18,
   "metadata": {
    "collapsed": false
   },
   "outputs": [
    {
     "name": "stdout",
     "output_type": "stream",
     "text": [
      "Runge-Kutta 法的误差和误差阶：\n",
      "步长: 0.1000, 1.7800e-05\n",
      "步长: 0.0500, 1.0422e-06, 4.0941\n",
      "步长: 0.0250, 6.2907e-08, 4.0503\n",
      "步长: 0.0125, 3.8619e-09, 4.0259\n"
     ]
    }
   ],
   "source": [
    "println(\"Runge-Kutta 法的误差和误差阶：\")\n",
    "err=Float64[]\n",
    "for h=[0.1,0.05,0.025,0.0125]\n",
    "    t,y=rk4(f,3.0,0:h:1.5)\n",
    "    push!(err,y[end]-3/(1+1.5^3))\n",
    "    if length(err)>1\n",
    "        o2=-log(err[end]/err[end-1])/log(2)\n",
    "        @printf(\"步长: %.4f, %.4e, %.4f\\n\",h,err[end],o2)\n",
    "    else \n",
    "        @printf(\"步长: %.4f, %.4e\\n\",h,err[end])\n",
    "    end\n",
    "end"
   ]
  },
  {
   "cell_type": "code",
   "execution_count": 19,
   "metadata": {
    "collapsed": false
   },
   "outputs": [
    {
     "name": "stdout",
     "output_type": "stream",
     "text": [
      "Adam-3阶隐式法的误差和误差阶：\n",
      "步长: 0.1000, -1.4675e-04\n",
      "步长: 0.0500, -1.5476e-05, 3.2453\n",
      "步长: 0.0250, -1.7646e-06, 3.1326\n",
      "步长: 0.0125, -2.1032e-07, 3.0687\n"
     ]
    }
   ],
   "source": [
    "println(\"Adam-3阶隐式法的误差和误差阶：\")\n",
    "err=Float64[]\n",
    "for h=[0.1,0.05,0.025,0.0125]\n",
    "    t,y=adam3(f,3.0,0:h:1.5)\n",
    "    push!(err,y[end]-3/(1+1.5^3))\n",
    "    if length(err)>1\n",
    "        o2=-log(err[end]/err[end-1])/log(2)\n",
    "        @printf(\"步长: %.4f, %.4e, %.4f\\n\",h,err[end],o2)\n",
    "    else \n",
    "        @printf(\"步长: %.4f, %.4e\\n\",h,err[end])\n",
    "    end\n",
    "end"
   ]
  },
  {
   "cell_type": "markdown",
   "metadata": {},
   "source": [
    "## Conclusion\n",
    "- 两种方法都得到了精度很高的结果\n",
    "- 从上述误差阶的结果可以看出,Runge-Kutta4的确为4阶方法,Adam3为3阶方法\n",
    "- Runge-Kutta4为显式方法,不需要其他方法的辅助旧可以,Adam3就不行\n",
    "- Runge-Kutta4精度高,方法简单,实践中最常使用"
   ]
  }
 ],
 "metadata": {
  "kernelspec": {
   "display_name": "Julia 0.4.5",
   "language": "julia",
   "name": "julia-0.4"
  },
  "language_info": {
   "file_extension": ".jl",
   "mimetype": "application/julia",
   "name": "julia",
   "version": "0.4.5"
  }
 },
 "nbformat": 4,
 "nbformat_minor": 0
}
