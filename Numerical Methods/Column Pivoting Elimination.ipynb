{
 "cells": [
  {
   "cell_type": "markdown",
   "metadata": {},
   "source": [
    "# Column Pivoting Elimination\n",
    "\n",
    "- 路遥\n",
    "- PB12203068"
   ]
  },
  {
   "cell_type": "markdown",
   "metadata": {},
   "source": [
    "## Prepare Dara"
   ]
  },
  {
   "cell_type": "code",
   "execution_count": 66,
   "metadata": {
    "collapsed": false
   },
   "outputs": [],
   "source": [
    "A=[31 -13 0 0 0 -10 0 0 0\n",
    "-13 35 -9 0 -11 0 0 0 0\n",
    "0 -9 31 -10 0 0 0 0 0\n",
    "0 0 -10 79 -30 0 0 0 9\n",
    "0 0 0 -30 57 -7 0 -5 0\n",
    "0 0 0 0 -7 47 -30 0 0\n",
    "0 0 0 0 0 -30 41 0 0\n",
    "0 0 0 0 -5 0 0 27 -2\n",
    "0 0 0 -9 0 0 0 -2 29.]\n",
    "b=[-15,27,-23,0,-20,12,-7,7,10.];"
   ]
  },
  {
   "cell_type": "markdown",
   "metadata": {},
   "source": [
    "## Algorithm Analysis\n",
    "create a function to do Column Pivoting Elimination."
   ]
  },
  {
   "cell_type": "code",
   "execution_count": 90,
   "metadata": {
    "collapsed": false
   },
   "outputs": [
    {
     "data": {
      "text/plain": [
       "ColumnPivotingElimination (generic function with 1 method)"
      ]
     },
     "execution_count": 90,
     "metadata": {},
     "output_type": "execute_result"
    }
   ],
   "source": [
    "function ColumnPivotingElimination(A,b)\n",
    "    row,col=size(M)\n",
    "\n",
    "    for i=1:row\n",
    "        # Column Pivoting\n",
    "        iMax=findmax(abs(M[i:end,i]))[2]+i-1\n",
    "        if iMax!=i\n",
    "            temp=M[i,:]\n",
    "            M[i,:]=M[iMax,:]\n",
    "            M[iMax,:]=temp\n",
    "        end    \n",
    "        # Elimination\n",
    "        for ii=i+1:row\n",
    "            M[ii,:]=M[ii,:]-M[ii,i]/M[i,i]*M[i,:] \n",
    "        end    \n",
    "    end\n",
    "\n",
    "    for i=row:-1:2\n",
    "        for ii=i-1:-1:1\n",
    "            M[ii,:]+=-M[ii,i]/M[i,i]*M[i,:]\n",
    "        end    \n",
    "    end   \n",
    "\n",
    "    x=M[:,end]./diag(M[:,1:end-1]) \n",
    "end\n"
   ]
  },
  {
   "cell_type": "markdown",
   "metadata": {},
   "source": [
    "## Computational Results"
   ]
  },
  {
   "cell_type": "code",
   "execution_count": 88,
   "metadata": {
    "collapsed": false
   },
   "outputs": [
    {
     "data": {
      "text/plain": [
       "9-element Array{Float64,1}:\n",
       " -0.30646  \n",
       "  0.31462  \n",
       " -0.749427 \n",
       " -0.306381 \n",
       " -0.478135 \n",
       "  0.140969 \n",
       " -0.0675836\n",
       "  0.190187 \n",
       "  0.26286  "
      ]
     },
     "execution_count": 88,
     "metadata": {},
     "output_type": "execute_result"
    }
   ],
   "source": [
    "x=ColumnPivotingElimination(A,b)"
   ]
  },
  {
   "cell_type": "markdown",
   "metadata": {},
   "source": [
    "compare with results of built-in function"
   ]
  },
  {
   "cell_type": "code",
   "execution_count": 89,
   "metadata": {
    "collapsed": false
   },
   "outputs": [
    {
     "data": {
      "text/plain": [
       "9-element Array{Float64,1}:\n",
       " -0.30646  \n",
       "  0.31462  \n",
       " -0.749427 \n",
       " -0.306381 \n",
       " -0.478135 \n",
       "  0.140969 \n",
       " -0.0675836\n",
       "  0.190187 \n",
       "  0.26286  "
      ]
     },
     "execution_count": 89,
     "metadata": {},
     "output_type": "execute_result"
    }
   ],
   "source": [
    "x=A\\b"
   ]
  },
  {
   "cell_type": "markdown",
   "metadata": {},
   "source": [
    "## Conclusion\n",
    "- Gauss-Seidel Iteration is "
   ]
  }
 ],
 "metadata": {
  "kernelspec": {
   "display_name": "Julia 0.4.5",
   "language": "julia",
   "name": "julia-0.4"
  },
  "language_info": {
   "file_extension": ".jl",
   "mimetype": "application/julia",
   "name": "julia",
   "version": "0.4.5"
  }
 },
 "nbformat": 4,
 "nbformat_minor": 0
}
