{
 "cells": [
  {
   "cell_type": "markdown",
   "metadata": {},
   "source": [
    "# Lab 05 Solving Nonlinear Equations"
   ]
  },
  {
   "cell_type": "markdown",
   "metadata": {},
   "source": [
    "- Name 路遥 \n",
    "- Student Number:PB12203068 "
   ]
  },
  {
   "cell_type": "markdown",
   "metadata": {},
   "source": [
    "## Algorithm Analysis\n",
    "First, create a funtion for newton's method:"
   ]
  },
  {
   "cell_type": "code",
   "execution_count": 47,
   "metadata": {
    "collapsed": false
   },
   "outputs": [
    {
     "data": {
      "text/plain": [
       "newton (generic function with 2 methods)"
      ]
     },
     "execution_count": 47,
     "metadata": {},
     "output_type": "execute_result"
    }
   ],
   "source": [
    "function newton(f::Function,f¹::Function,x::Float64)\n",
    "    ϵ=1e-10;iter=0;x_pre=Inf\n",
    "    while norm(x-x_pre)>ϵ\n",
    "        x_next=x-f(x)/f¹(x)\n",
    "        x_pre=x;x=x_next;iter+=1\n",
    "    end\n",
    "    x,iter\n",
    "end"
   ]
  },
  {
   "cell_type": "markdown",
   "metadata": {},
   "source": [
    "Second, create a function for secant method:"
   ]
  },
  {
   "cell_type": "code",
   "execution_count": 48,
   "metadata": {
    "collapsed": false
   },
   "outputs": [
    {
     "data": {
      "text/plain": [
       "secant (generic function with 3 methods)"
      ]
     },
     "execution_count": 48,
     "metadata": {},
     "output_type": "execute_result"
    }
   ],
   "source": [
    "function secant(f::Function,x::Float64)\n",
    "    ϵ=1e-10;iter=0;x_pre::Float64=x-1e-3;\n",
    "    while norm(x-x_pre)>ϵ\n",
    "        x_next=x-f(x)/(f(x)-f(x_pre))*(x-x_pre)\n",
    "        x_pre=x;x=x_next;iter+=1\n",
    "    end\n",
    "    x,iter        \n",
    "end"
   ]
  },
  {
   "cell_type": "markdown",
   "metadata": {},
   "source": [
    "## Computational Results"
   ]
  },
  {
   "cell_type": "code",
   "execution_count": 36,
   "metadata": {
    "collapsed": false
   },
   "outputs": [
    {
     "data": {
      "text/plain": [
       "f¹ (generic function with 1 method)"
      ]
     },
     "execution_count": 36,
     "metadata": {},
     "output_type": "execute_result"
    }
   ],
   "source": [
    "f(x)=x.^3/3-x;\n",
    "f¹(x)=x.^2-1"
   ]
  },
  {
   "cell_type": "markdown",
   "metadata": {},
   "source": [
    "### 1. For newton's method"
   ]
  },
  {
   "cell_type": "code",
   "execution_count": 49,
   "metadata": {
    "collapsed": false
   },
   "outputs": [
    {
     "name": "stdout",
     "output_type": "stream",
     "text": [
      "\t\tnewton's method\n",
      "\n",
      "initial_value\t\troot\t\titeration\n",
      "-3.00\t\t-1.732050807569e+00\t\t7\n",
      "-1.50\t\t-1.732050807569e+00\t\t6\n",
      "0.10\t\t0.000000000000e+00\t\t4\n",
      "0.20\t\t0.000000000000e+00\t\t4\n",
      "0.75\t\t0.000000000000e+00\t\t6\n",
      "1.10\t\t1.732050807569e+00\t\t9\n",
      "2.00\t\t1.732050807569e+00\t\t5\n",
      "6.00\t\t1.732050807569e+00\t\t9\n"
     ]
    }
   ],
   "source": [
    "println(\"\\t\\tnewton's method\\n\")\n",
    "@printf \"%s\\t\\t%s\\t\\t%s\\n\" \"initial_value\" \"root\" \"iteration\"\n",
    "for x0=[-3,-1.5,0.1,0.2,0.75,1.1,2,6]\n",
    "    root,iter=newton(f,f¹,x0)\n",
    "    @printf \"%4.2f\\t\\t%16.12e\\t\\t%d\\n\" x0 root iter\n",
    "end"
   ]
  },
  {
   "cell_type": "markdown",
   "metadata": {},
   "source": [
    "### 2. For secant method"
   ]
  },
  {
   "cell_type": "code",
   "execution_count": 50,
   "metadata": {
    "collapsed": false,
    "scrolled": false
   },
   "outputs": [
    {
     "name": "stdout",
     "output_type": "stream",
     "text": [
      "\t\tsecant method\n",
      "\n",
      "initial_value\t\troot\t\titeration\n",
      "-3.00\t\t-1.732050807569e+00\t\t9\n",
      "-1.50\t\t-1.732050807569e+00\t\t7\n",
      "0.10\t\t2.058358982775e-24\t\t4\n",
      "0.20\t\t0.000000000000e+00\t\t5\n",
      "0.75\t\t3.594681372911e-26\t\t6\n",
      "1.10\t\t1.732050807569e+00\t\t12\n",
      "2.00\t\t1.732050807569e+00\t\t7\n",
      "6.00\t\t1.732050807569e+00\t\t12\n"
     ]
    }
   ],
   "source": [
    "println(\"\\t\\tsecant method\\n\")\n",
    "@printf \"%s\\t\\t%s\\t\\t%s\\n\" \"initial_value\" \"root\" \"iteration\"\n",
    "for x0=[-3,-1.5,0.1,0.2,0.75,1.1,2,6]\n",
    "    root,iter=secant(f,x0,x0+1e-2)\n",
    "    @printf \"%4.2f\\t\\t%16.12e\\t\\t%d\\n\" x0 root iter\n",
    "end"
   ]
  },
  {
   "cell_type": "markdown",
   "metadata": {},
   "source": [
    "## Conclusion\n",
    "- 通过以上结果可以看出，不论哪种方法，收敛速度都比较快，不同的初始值给出不同的根。\n",
    "- 比较相同初始值的迭代次数，可以看出newton法总是比secant法收敛速度快，因为newton是2阶法，secant是1.618阶法。因此在能求出导数的时候，采用newton法更好。"
   ]
  }
 ],
 "metadata": {
  "kernelspec": {
   "display_name": "Julia 0.4.5",
   "language": "julia",
   "name": "julia-0.4"
  },
  "language_info": {
   "file_extension": ".jl",
   "mimetype": "application/julia",
   "name": "julia",
   "version": "0.4.5"
  }
 },
 "nbformat": 4,
 "nbformat_minor": 0
}
