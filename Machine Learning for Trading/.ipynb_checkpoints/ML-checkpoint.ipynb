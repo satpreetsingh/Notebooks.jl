{
 "cells": [
  {
   "cell_type": "code",
   "execution_count": 1,
   "metadata": {
    "collapsed": false
   },
   "outputs": [
    {
     "name": "stdout",
     "output_type": "stream",
     "text": [
      "         Date        Open        High         Low       Close    Volume  \\\n",
      "2  2017-01-06  116.779999  118.160004  116.470001  117.910004  31577900   \n",
      "3  2017-01-05  115.919998  116.860001  115.809998  116.610001  22103700   \n",
      "\n",
      "    Adj Close  \n",
      "2  117.910004  \n",
      "3  116.610001  \n"
     ]
    }
   ],
   "source": [
    "import pandas as pd\n",
    "\n",
    "def test_run():\n",
    "    \"\"\"Function called by Test Run.\"\"\"\n",
    "    df = pd.read_csv(\"data/AAPL.csv\")\n",
    "    # print(df.head(3))\n",
    "    # print(df.tail(3))\n",
    "    print(df[2:3+1])\n",
    "\n",
    "\n",
    "if __name__ == \"__main__\":\n",
    "    test_run()"
   ]
  },
  {
   "cell_type": "code",
   "execution_count": 2,
   "metadata": {
    "collapsed": false
   },
   "outputs": [
    {
     "name": "stdout",
     "output_type": "stream",
     "text": [
      "Mean Volume\n",
      "AAPL 27526750.0\n",
      "Mean Volume\n",
      "IBM 3151310.0\n"
     ]
    }
   ],
   "source": [
    "\"\"\"Compute mean volume\"\"\"\n",
    "\n",
    "import pandas as pd\n",
    "import matplotlib.pyplot as plt \n",
    "\n",
    "def get_mean_volume(symbol):\n",
    "    \"\"\"Return the mean volume for stock indicated by symbol.\n",
    "\n",
    "    Note: Data for a stock is stored in file: data/<symbol>.csv\n",
    "    \"\"\"\n",
    "    df = pd.read_csv(\"data/{}.csv\".format(symbol))  # read in data\n",
    "    return df[\"Volume\"].mean()\n",
    "\n",
    "\n",
    "def test_run():\n",
    "    \"\"\"Function called by Test Run.\"\"\"\n",
    "    for symbol in ['AAPL', 'IBM']:\n",
    "        print(\"Mean Volume\")\n",
    "        print(symbol, get_mean_volume(symbol))\n",
    "\n",
    "\n",
    "if __name__ == \"__main__\":\n",
    "    test_run()\n"
   ]
  },
  {
   "cell_type": "code",
   "execution_count": 3,
   "metadata": {
    "collapsed": false
   },
   "outputs": [
    {
     "data": {
      "image/png": "[encoded data removed]",
      "text/plain": [
       "<matplotlib.figure.Figure at 0x94bb668>"
      ]
     },
     "metadata": {},
     "output_type": "display_data"
    }
   ],
   "source": [
    "\"\"\"Plot High prices for IBM\"\"\"\n",
    "\n",
    "import pandas as pd\n",
    "import matplotlib.pyplot as plt\n",
    "\n",
    "def test_run():\n",
    "    df = pd.read_csv(\"data/IBM.csv\")\n",
    "    df[\"High\"].plot()\n",
    "    plt.show()  \n",
    "\n",
    "\n",
    "if __name__ == \"__main__\":\n",
    "    test_run()\n"
   ]
  },
  {
   "cell_type": "code",
   "execution_count": 3,
   "metadata": {
    "collapsed": true
   },
   "outputs": [],
   "source": [
    "import pandas as pd\n",
    "import datetime\n",
    "from pandas_datareader import data\n",
    "\n",
    "tickers = ['GLD']\n",
    "# tickers = ['AAPL', 'SPY' , 'IBM', 'HCP', 'GOOG', 'GLD']\n",
    "\n",
    "for ticker in tickers:\n",
    "    end_date = datetime.datetime.now()\n",
    "    start_date = end_date - datetime.timedelta(days=365*10.0)\n",
    "    df = data.get_data_yahoo(ticker, start = start_date, end = end_date, interval='d')\n",
    "    df.to_csv(\"data/{}.csv\".format(ticker))"
   ]
  },
  {
   "cell_type": "code",
   "execution_count": 9,
   "metadata": {
    "collapsed": false
   },
   "outputs": [
    {
     "name": "stdout",
     "output_type": "stream",
     "text": [
      "                  SPY        GOOG         IBM         GLD\n",
      "2010-01-22  94.643882  274.730736  106.393943  107.169998\n",
      "2010-01-25  95.129189  269.730740  106.919556  107.480003\n",
      "2010-01-26  94.730543  270.939526  106.605883  107.559998\n"
     ]
    }
   ],
   "source": [
    "\"\"\"Utility functions\"\"\"\n",
    "\n",
    "import os\n",
    "import pandas as pd\n",
    "\n",
    "def symbol_to_path(symbol, base_dir=\"data\"):\n",
    "    \"\"\"Return CSV file path given ticker symbol.\"\"\"\n",
    "    return os.path.join(base_dir, \"{}.csv\".format(str(symbol)))\n",
    "\n",
    "\n",
    "def get_data(symbols, dates):\n",
    "    \"\"\"Read stock data (adjusted close) for given symbols from CSV files.\"\"\"\n",
    "    df = pd.DataFrame(index=dates)\n",
    "    if 'SPY' not in symbols:  # add SPY for reference, if absent\n",
    "        symbols.insert(0, 'SPY')\n",
    "    \n",
    "    for symbol in symbols:\n",
    "        df_tmp = pd.read_csv(symbol_to_path(symbol), \n",
    "                        index_col=\"Date\", parse_dates=True,\n",
    "                        usecols=[\"Date\", \"Adj Close\"])#, \n",
    "#                         na_values=['nan'])\n",
    "        df_tmp = df_tmp.rename(columns={'Adj Close' : symbol})\n",
    "        df = df.join(df_tmp, how=\"inner\")\n",
    "        if symbol == 'SPY':\n",
    "            df = df.dropna(subset=['SPY'])\n",
    "        \n",
    "\n",
    "    return df\n",
    "\n",
    "\n",
    "def test_run():\n",
    "    # Define a date range\n",
    "    dates = pd.date_range('2010-01-22', '2010-01-26')\n",
    "\n",
    "    # Choose stock symbols to read\n",
    "    symbols = ['GOOG', 'IBM', 'GLD']\n",
    "    \n",
    "    # Get stock data\n",
    "    df = get_data(symbols, dates)\n",
    "    print(df)\n",
    "\n",
    "\n",
    "if __name__ == \"__main__\":\n",
    "    test_run()\n"
   ]
  }
 ],
 "metadata": {
  "kernelspec": {
   "display_name": "Python 3",
   "language": "python",
   "name": "python3"
  },
  "language_info": {
   "codemirror_mode": {
    "name": "ipython",
    "version": 3
   },
   "file_extension": ".py",
   "mimetype": "text/x-python",
   "name": "python",
   "nbconvert_exporter": "python",
   "pygments_lexer": "ipython3",
   "version": "3.4.4"
  }
 },
 "nbformat": 4,
 "nbformat_minor": 1
}
